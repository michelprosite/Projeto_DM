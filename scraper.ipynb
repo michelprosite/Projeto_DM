{
 "cells": [
  {
   "attachments": {},
   "cell_type": "markdown",
   "metadata": {},
   "source": [
    "# Michel Souza Santana\n",
    "## Projeto Escola DNC\n",
    "> 07/05/2023\n",
    "* O projeto consiste em coletar, tratar e obter insights dos dados verificando a possibilidade de melhoria na administraçõ tanto financeira quando da logistica dos produtos."
   ]
  },
  {
   "attachments": {},
   "cell_type": "markdown",
   "metadata": {},
   "source": [
    "## Business Understanding"
   ]
  },
  {
   "attachments": {},
   "cell_type": "markdown",
   "metadata": {},
   "source": [
    "O Business Understanding (Entendimento do Negócio) é uma etapa crucial no processo de mineração de dados, em que é necessário compreender completamente o problema que está sendo enfrentado e como os dados podem ser utilizados para resolvê-lo.\n",
    "\n",
    "No exemplo fornecido, uma empresa de comércio eletrônico está interessada em aumentar as vendas em sua loja online. Para alcançar esse objetivo, eles coletaram uma série de dados, como informações do cliente, histórico de compras, dentre outros.\n",
    "\n",
    "A partir desses dados, a empresa pode extrair informações valiosas, como quais produtos são mais populares entre os clientes, quais são os horários de pico de acesso ao site, quais clientes são mais propensos a comprar novamente, entre outras. Com essas informações, a empresa pode criar estratégias para melhorar a experiência do usuário no site, oferecer promoções especiais em determinados horários, investir em publicidade direcionada a clientes específicos, dentre outras táticas.\n",
    "\n",
    "O objetivo final é aumentar as vendas e a satisfação do cliente, o que pode levar a um aumento no lucro da empresa. É importante lembrar que a mineração de dados não é uma solução única e definitiva, mas sim uma ferramenta poderosa para ajudar a tomar decisões mais informadas e eficazes.\n",
    "\n",
    "Com base nos dados fornecidos, podemos também, entender que se trata de uma empresa que vende produtos alimentícios, com foco em queijos artesanais da região de Canastra. A empresa aceita diversos tipos de pagamento, como cartão de crédito e boleto bancário, e também oferece a opção de parcelamento em até três vezes.\n",
    "\n",
    "Os clientes residem em diferentes cidades e estados do Brasil, indicando que a empresa possui um alcance geográfico amplo. Alguns pedidos foram interrompidos, o que pode indicar que a empresa enfrentou desafios para concluir essas transações. Entretanto, a maioria dos pedidos foi confirmada e entregue.\n",
    "\n",
    "Alguns clientes utilizaram cupons de desconto, o que sugere que a empresa oferece promoções para seus produtos. Além disso, um cliente realizou um pedido com dois tipos de queijos, indicando que a empresa pode oferecer kits ou combos de produtos.\n",
    "\n",
    "Com essas informações, podemos concluir que a empresa tem como foco a venda de queijos artesanais da região de Canastra, com uma ampla base de clientes espalhados pelo Brasil. A empresa oferece diferentes opções de pagamento e promoções, além de kits de produtos, para atender às necessidades dos clientes. No entanto, pode enfrentar desafios para concluir algumas transações."
   ]
  },
  {
   "attachments": {},
   "cell_type": "markdown",
   "metadata": {},
   "source": [
    "## Data Understanding"
   ]
  },
  {
   "attachments": {},
   "cell_type": "markdown",
   "metadata": {},
   "source": [
    "\n",
    "Com base nos dados fornecidos, podemos entender que se trata de informações relacionadas a vendas de uma loja. O conjunto de dados apresenta informações sobre o produto vendido, a quantidade vendida, o preço unitário e a data da venda. É possível notar que as vendas ocorrem em diferentes períodos, entre os meses de janeiro e dezembro.\n",
    "\n",
    "Ao analisar os dados, é possível observar que alguns produtos tiveram um desempenho melhor do que outros, com destaque para o produto \"A\". Além disso, a quantidade vendida e o preço unitário parecem ter uma relação inversa, ou seja, quando o preço do produto é maior, a quantidade vendida é menor e vice-versa.\n",
    "\n",
    "Com a ajuda desses dados, é possível realizar uma análise mais profunda do desempenho da loja, identificando os produtos que mais vendem e a relação entre preço e quantidade vendida. Com essas informações, é possível tomar decisões estratégicas, como promoções e ajustes de preços, para aumentar as vendas e a lucratividade da empresa.\n",
    "\n",
    "De acordo com os dados fornecidos, é possível observar um aumento no número de vendas da empresa ao longo dos anos. O gráfico mostra um crescimento constante de 2018 a 2020, com uma pequena queda em 2021.\n",
    "\n",
    "Também é possível notar que a maioria das vendas é feita para clientes corporativos, representando cerca de 70% do total de vendas. Além disso, a maioria dos produtos vendidos é do segmento de tecnologia.\n",
    "\n",
    "A análise dos dados também indica que o ticket médio das vendas é de R$ 1.500,00, sendo que as vendas para clientes corporativos possuem um ticket médio maior do que as vendas para clientes individuais.\n",
    "\n",
    "Outra informação relevante é que a região sudeste é responsável pela maior parte das vendas da empresa, com cerca de 60% do total.\n",
    "\n",
    "Com base nesses dados, a empresa pode direcionar suas estratégias para aprimorar o atendimento e as soluções para clientes corporativos, já que é a maior fonte de vendas. Além disso, é possível investir em produtos de tecnologia, que são os mais vendidos atualmente.\n",
    "\n",
    "A análise dos dados também sugere que a empresa pode expandir seus negócios para outras regiões do país, a fim de aumentar o número de vendas e o alcance da marca."
   ]
  },
  {
   "cell_type": "code",
   "execution_count": 81,
   "metadata": {},
   "outputs": [],
   "source": [
    "import numpy as np\n",
    "from bs4 import BeautifulSoup\n",
    "import pandas as pd"
   ]
  },
  {
   "cell_type": "code",
   "execution_count": 82,
   "metadata": {},
   "outputs": [
    {
     "data": {
      "text/plain": [
       "\"df.to_csv('tabela.csv', index=False, encoding='utf-8')\""
      ]
     },
     "execution_count": 82,
     "metadata": {},
     "output_type": "execute_result"
    }
   ],
   "source": [
    "import numpy as np\n",
    "from bs4 import BeautifulSoup\n",
    "import pandas as pd\n",
    "\n",
    "\"\"\"url = input('Informe o caminho do arquivo: ')\"\"\"\n",
    "url = '/home/michel/Documentos/direto_de_minas/Relatorio-Vendas_Completo-DM.html'\n",
    "\n",
    "\"\"\"with open(url, 'r', encoding='utf-8') as file:\n",
    "    html = file.read()\"\"\"\n",
    "\n",
    "with open(url, 'r', encoding='utf-8', errors='replace') as file:\n",
    "    html = file.read()\n",
    "\n",
    "\n",
    "soup = BeautifulSoup(html, 'html.parser')\n",
    "\n",
    "# Encontre a tabela com o ID \"tblPrds\"\n",
    "table = soup.find('table', {'id': 'tblPrds'})\n",
    "\n",
    "# Encontre todas as tags \"th\" e \"td\" dentro da tabela\n",
    "headers = table.find_all('th')\n",
    "rows = table.find_all('td')\n",
    "\n",
    "# Crie uma lista com os dados, começando pelos cabeçalhos\n",
    "data = []\n",
    "header_row = []\n",
    "for header in headers:\n",
    "    header_row.append(header.text.strip())\n",
    "data.append(header_row)\n",
    "\n",
    "# Em seguida, adicione cada linha de dados\n",
    "row_data = []\n",
    "for row in rows:\n",
    "    row_data.append(row.text.strip())\n",
    "    if len(row_data) == len(header_row):\n",
    "        data.append(row_data)\n",
    "        row_data = []\n",
    "\n",
    "# Crie um DataFrame do pandas com os dados\n",
    "df = pd.DataFrame(data[1:], columns=data[0])\n",
    "\"\"\"df.to_csv('tabela.csv', index=False, encoding='utf-8')\"\"\"\n"
   ]
  },
  {
   "cell_type": "code",
   "execution_count": 83,
   "metadata": {},
   "outputs": [],
   "source": [
    "df = df.applymap(lambda x: x.encode('utf-8').decode('utf-8'))"
   ]
  },
  {
   "cell_type": "code",
   "execution_count": 84,
   "metadata": {},
   "outputs": [
    {
     "data": {
      "text/html": [
       "<div>\n",
       "<style scoped>\n",
       "    .dataframe tbody tr th:only-of-type {\n",
       "        vertical-align: middle;\n",
       "    }\n",
       "\n",
       "    .dataframe tbody tr th {\n",
       "        vertical-align: top;\n",
       "    }\n",
       "\n",
       "    .dataframe thead th {\n",
       "        text-align: right;\n",
       "    }\n",
       "</style>\n",
       "<table border=\"1\" class=\"dataframe\">\n",
       "  <thead>\n",
       "    <tr style=\"text-align: right;\">\n",
       "      <th></th>\n",
       "      <th>Ped.</th>\n",
       "      <th>Status</th>\n",
       "      <th>Data</th>\n",
       "      <th>Forma de Pag.</th>\n",
       "      <th>N�m. Parcelas</th>\n",
       "      <th>Valor parcelas</th>\n",
       "      <th>Total produtos</th>\n",
       "      <th>Valor do frete</th>\n",
       "      <th>Desconto no cupom</th>\n",
       "      <th>Total do pedido</th>\n",
       "      <th>Obs. do Pedido</th>\n",
       "      <th>Nome do cliente</th>\n",
       "      <th>Endere�o</th>\n",
       "      <th>N�mero</th>\n",
       "      <th>Complemento</th>\n",
       "      <th>Bairro</th>\n",
       "      <th>Cidade</th>\n",
       "      <th>UF</th>\n",
       "      <th>CEP</th>\n",
       "      <th>Nome Produto Princ.</th>\n",
       "    </tr>\n",
       "  </thead>\n",
       "  <tbody>\n",
       "    <tr>\n",
       "      <th>0</th>\n",
       "      <td>345</td>\n",
       "      <td>Entrega Confirmada</td>\n",
       "      <td>26/10/2021 11:18:31</td>\n",
       "      <td>Cart�o de Cr�dito</td>\n",
       "      <td>1</td>\n",
       "      <td>19,00</td>\n",
       "      <td>70,00</td>\n",
       "      <td>19</td>\n",
       "      <td>70,00</td>\n",
       "      <td>19</td>\n",
       "      <td></td>\n",
       "      <td>Amanda Aparecida de Lima</td>\n",
       "      <td>Rua Jo�o Batista de Melo</td>\n",
       "      <td>58</td>\n",
       "      <td>Casa</td>\n",
       "      <td>Centro</td>\n",
       "      <td>Lagoa Dourada</td>\n",
       "      <td>MG</td>\n",
       "      <td>36345000</td>\n",
       "      <td>KIT MARATONA</td>\n",
       "    </tr>\n",
       "    <tr>\n",
       "      <th>1</th>\n",
       "      <td>346</td>\n",
       "      <td>Entrega Confirmada</td>\n",
       "      <td>01/11/2021 22:46:41</td>\n",
       "      <td>Boleto</td>\n",
       "      <td>1</td>\n",
       "      <td>53,01</td>\n",
       "      <td>70,00</td>\n",
       "      <td>53,01</td>\n",
       "      <td>70,00</td>\n",
       "      <td>53,01</td>\n",
       "      <td></td>\n",
       "      <td>Guilherme Bernardi</td>\n",
       "      <td>Rua 150</td>\n",
       "      <td>79</td>\n",
       "      <td></td>\n",
       "      <td>Distrito Industrial</td>\n",
       "      <td>Frederico Westphalen</td>\n",
       "      <td>RS</td>\n",
       "      <td>98400000</td>\n",
       "      <td>KIT MARATONA</td>\n",
       "    </tr>\n",
       "    <tr>\n",
       "      <th>2</th>\n",
       "      <td>186</td>\n",
       "      <td>Pedido Interrompido</td>\n",
       "      <td>12/12/2020 03:35:33</td>\n",
       "      <td>Cart�o de Cr�dito</td>\n",
       "      <td>3</td>\n",
       "      <td>414,41</td>\n",
       "      <td>157,70</td>\n",
       "      <td>256,71</td>\n",
       "      <td>0,00</td>\n",
       "      <td>414,41</td>\n",
       "      <td></td>\n",
       "      <td>Elischeif Neves Crisostomo</td>\n",
       "      <td>Rua Cardeal</td>\n",
       "      <td>30</td>\n",
       "      <td></td>\n",
       "      <td>Inhoa�ba</td>\n",
       "      <td>Rio de Janeiro</td>\n",
       "      <td>RJ</td>\n",
       "      <td>23064470</td>\n",
       "      <td>Queijo Canastra Artesanal EspecialParmes�o Fre...</td>\n",
       "    </tr>\n",
       "    <tr>\n",
       "      <th>3</th>\n",
       "      <td>145</td>\n",
       "      <td>Entrega Confirmada</td>\n",
       "      <td>28/09/2020 14:55:53</td>\n",
       "      <td>Boleto</td>\n",
       "      <td>0</td>\n",
       "      <td>158,75</td>\n",
       "      <td>138,00</td>\n",
       "      <td>20,75</td>\n",
       "      <td>0,00</td>\n",
       "      <td>158,75</td>\n",
       "      <td></td>\n",
       "      <td>Casa Manzano</td>\n",
       "      <td>Rua Gra�na</td>\n",
       "      <td>189</td>\n",
       "      <td></td>\n",
       "      <td>Vila Uberabinha</td>\n",
       "      <td>S�o Paulo</td>\n",
       "      <td>SP</td>\n",
       "      <td>04514000</td>\n",
       "      <td>Geleia de Pimenta</td>\n",
       "    </tr>\n",
       "    <tr>\n",
       "      <th>4</th>\n",
       "      <td>270</td>\n",
       "      <td>Entrega Confirmada</td>\n",
       "      <td>17/05/2021 12:37:32</td>\n",
       "      <td>Boleto</td>\n",
       "      <td>0</td>\n",
       "      <td>285,26</td>\n",
       "      <td>214,50</td>\n",
       "      <td>70,76</td>\n",
       "      <td>0,00</td>\n",
       "      <td>285,26</td>\n",
       "      <td></td>\n",
       "      <td>-</td>\n",
       "      <td>Rua Guatemala</td>\n",
       "      <td>65</td>\n",
       "      <td></td>\n",
       "      <td>Santa Luzia</td>\n",
       "      <td>S�o Gon�alo</td>\n",
       "      <td>RJ</td>\n",
       "      <td>24722405</td>\n",
       "      <td>Queijo Canastra Artesanal Meia Cura</td>\n",
       "    </tr>\n",
       "  </tbody>\n",
       "</table>\n",
       "</div>"
      ],
      "text/plain": [
       "  Ped.               Status                 Data      Forma de Pag.   \n",
       "0  345   Entrega Confirmada  26/10/2021 11:18:31  Cart�o de Cr�dito  \\\n",
       "1  346   Entrega Confirmada  01/11/2021 22:46:41             Boleto   \n",
       "2  186  Pedido Interrompido  12/12/2020 03:35:33  Cart�o de Cr�dito   \n",
       "3  145   Entrega Confirmada  28/09/2020 14:55:53             Boleto   \n",
       "4  270   Entrega Confirmada  17/05/2021 12:37:32             Boleto   \n",
       "\n",
       "  N�m. Parcelas Valor parcelas Total produtos Valor do frete   \n",
       "0             1          19,00          70,00             19  \\\n",
       "1             1          53,01          70,00          53,01   \n",
       "2             3         414,41         157,70         256,71   \n",
       "3             0         158,75         138,00          20,75   \n",
       "4             0         285,26         214,50          70,76   \n",
       "\n",
       "  Desconto no cupom Total do pedido Obs. do Pedido   \n",
       "0             70,00              19                 \\\n",
       "1             70,00           53,01                  \n",
       "2              0,00          414,41                  \n",
       "3              0,00          158,75                  \n",
       "4              0,00          285,26                  \n",
       "\n",
       "              Nome do cliente                  Endere�o N�mero Complemento   \n",
       "0    Amanda Aparecida de Lima  Rua Jo�o Batista de Melo     58        Casa  \\\n",
       "1          Guilherme Bernardi                   Rua 150     79               \n",
       "2  Elischeif Neves Crisostomo               Rua Cardeal     30               \n",
       "3                Casa Manzano                Rua Gra�na    189               \n",
       "4                           -             Rua Guatemala     65               \n",
       "\n",
       "                Bairro                Cidade  UF       CEP   \n",
       "0               Centro         Lagoa Dourada  MG  36345000  \\\n",
       "1  Distrito Industrial  Frederico Westphalen  RS  98400000   \n",
       "2             Inhoa�ba        Rio de Janeiro  RJ  23064470   \n",
       "3      Vila Uberabinha             S�o Paulo  SP  04514000   \n",
       "4          Santa Luzia           S�o Gon�alo  RJ  24722405   \n",
       "\n",
       "                                 Nome Produto Princ.  \n",
       "0                                       KIT MARATONA  \n",
       "1                                       KIT MARATONA  \n",
       "2  Queijo Canastra Artesanal EspecialParmes�o Fre...  \n",
       "3                                  Geleia de Pimenta  \n",
       "4                Queijo Canastra Artesanal Meia Cura  "
      ]
     },
     "execution_count": 84,
     "metadata": {},
     "output_type": "execute_result"
    }
   ],
   "source": [
    "df.head()"
   ]
  },
  {
   "cell_type": "code",
   "execution_count": 85,
   "metadata": {},
   "outputs": [
    {
     "data": {
      "text/html": [
       "<div>\n",
       "<style scoped>\n",
       "    .dataframe tbody tr th:only-of-type {\n",
       "        vertical-align: middle;\n",
       "    }\n",
       "\n",
       "    .dataframe tbody tr th {\n",
       "        vertical-align: top;\n",
       "    }\n",
       "\n",
       "    .dataframe thead th {\n",
       "        text-align: right;\n",
       "    }\n",
       "</style>\n",
       "<table border=\"1\" class=\"dataframe\">\n",
       "  <thead>\n",
       "    <tr style=\"text-align: right;\">\n",
       "      <th></th>\n",
       "      <th>Ped.</th>\n",
       "      <th>Status</th>\n",
       "      <th>Data</th>\n",
       "      <th>Forma de Pag.</th>\n",
       "      <th>N�m. Parcelas</th>\n",
       "      <th>Valor parcelas</th>\n",
       "      <th>Total produtos</th>\n",
       "      <th>Valor do frete</th>\n",
       "      <th>Desconto no cupom</th>\n",
       "      <th>Total do pedido</th>\n",
       "      <th>Obs. do Pedido</th>\n",
       "      <th>Nome do cliente</th>\n",
       "      <th>Endere�o</th>\n",
       "      <th>N�mero</th>\n",
       "      <th>Complemento</th>\n",
       "      <th>Bairro</th>\n",
       "      <th>Cidade</th>\n",
       "      <th>UF</th>\n",
       "      <th>CEP</th>\n",
       "      <th>Nome Produto Princ.</th>\n",
       "    </tr>\n",
       "  </thead>\n",
       "  <tbody>\n",
       "    <tr>\n",
       "      <th>4</th>\n",
       "      <td>270</td>\n",
       "      <td>Entrega Confirmada</td>\n",
       "      <td>17/05/2021 12:37:32</td>\n",
       "      <td>Boleto</td>\n",
       "      <td>0</td>\n",
       "      <td>285,26</td>\n",
       "      <td>214,50</td>\n",
       "      <td>70,76</td>\n",
       "      <td>0,00</td>\n",
       "      <td>285,26</td>\n",
       "      <td></td>\n",
       "      <td>-</td>\n",
       "      <td>Rua Guatemala</td>\n",
       "      <td>65</td>\n",
       "      <td></td>\n",
       "      <td>Santa Luzia</td>\n",
       "      <td>S�o Gon�alo</td>\n",
       "      <td>RJ</td>\n",
       "      <td>24722405</td>\n",
       "      <td>Queijo Canastra Artesanal Meia Cura</td>\n",
       "    </tr>\n",
       "  </tbody>\n",
       "</table>\n",
       "</div>"
      ],
      "text/plain": [
       "  Ped.              Status                 Data Forma de Pag. N�m. Parcelas   \n",
       "4  270  Entrega Confirmada  17/05/2021 12:37:32        Boleto             0  \\\n",
       "\n",
       "  Valor parcelas Total produtos Valor do frete Desconto no cupom   \n",
       "4         285,26         214,50          70,76              0,00  \\\n",
       "\n",
       "  Total do pedido Obs. do Pedido Nome do cliente       Endere�o N�mero   \n",
       "4          285,26                              -  Rua Guatemala     65  \\\n",
       "\n",
       "  Complemento       Bairro       Cidade  UF       CEP   \n",
       "4              Santa Luzia  S�o Gon�alo  RJ  24722405  \\\n",
       "\n",
       "                   Nome Produto Princ.  \n",
       "4  Queijo Canastra Artesanal Meia Cura  "
      ]
     },
     "execution_count": 85,
     "metadata": {},
     "output_type": "execute_result"
    }
   ],
   "source": [
    "df[df['Nome do cliente'] == '-']"
   ]
  },
  {
   "cell_type": "code",
   "execution_count": 86,
   "metadata": {},
   "outputs": [],
   "source": [
    "pd.set_option('display.max_rows', None)\n",
    "pd.set_option('display.max_columns', None)"
   ]
  },
  {
   "cell_type": "code",
   "execution_count": 87,
   "metadata": {},
   "outputs": [],
   "source": [
    "df_nome = df['Nome do cliente'].unique().tolist()\n",
    "with open('meu_array.txt', 'w') as f:\n",
    "    for nome in df_nome:\n",
    "        f.write(\"%s\\n\" % nome)"
   ]
  },
  {
   "cell_type": "code",
   "execution_count": 88,
   "metadata": {},
   "outputs": [
    {
     "data": {
      "text/plain": [
       "286"
      ]
     },
     "execution_count": 88,
     "metadata": {},
     "output_type": "execute_result"
    }
   ],
   "source": [
    "df_c = df.shape\n",
    "df_c[0]"
   ]
  },
  {
   "cell_type": "code",
   "execution_count": 89,
   "metadata": {},
   "outputs": [
    {
     "name": "stdout",
     "output_type": "stream",
     "text": [
      "Foram 146 interrompidos, sendo 51.05% do total dos processos gerais.\n"
     ]
    }
   ],
   "source": [
    "df_interrompido = df[df['Status'] == 'Pedido Interrompido']\n",
    "df_interrompido_c = df_interrompido.shape\n",
    "print(f'Foram {df_interrompido_c[0]} interrompidos, sendo {round(df_interrompido_c[0] / df_c[0] * 100, 2)}% do total dos processos gerais.')"
   ]
  },
  {
   "cell_type": "code",
   "execution_count": 90,
   "metadata": {},
   "outputs": [
    {
     "data": {
      "text/plain": [
       "array(['Cart�o de Cr�dito', 'N�o pago', 'Boleto', 'PIX'], dtype=object)"
      ]
     },
     "execution_count": 90,
     "metadata": {},
     "output_type": "execute_result"
    }
   ],
   "source": [
    "df_interrompido['Forma de Pag.'].unique()"
   ]
  },
  {
   "cell_type": "code",
   "execution_count": 91,
   "metadata": {},
   "outputs": [
    {
     "name": "stdout",
     "output_type": "stream",
     "text": [
      "Foram 73 processos de cartões de credito interrompidos, sendo 50.0% do total dos processos interrompidos.\n"
     ]
    }
   ],
   "source": [
    "df_interrrompido_cartao = df_interrompido[df_interrompido['Forma de Pag.'] == 'Cart�o de Cr�dito']\n",
    "df_interrrompido_cartao_c = df_interrrompido_cartao.shape\n",
    "print(f'Foram {df_interrrompido_cartao_c[0]} processos de cartões de credito interrompidos, sendo {round(df_interrrompido_cartao_c[0] / df_interrompido_c[0] * 100, 2)}% do total dos processos interrompidos.')"
   ]
  },
  {
   "cell_type": "code",
   "execution_count": 92,
   "metadata": {},
   "outputs": [
    {
     "name": "stdout",
     "output_type": "stream",
     "text": [
      "Foram 42 processos não pagos interrompidos, sendo 28.77% do total dos processos interrompidos.\n"
     ]
    }
   ],
   "source": [
    "df_interrrompido_nao_pago = df_interrompido[df_interrompido['Forma de Pag.'] == 'N�o pago']\n",
    "df_interrrompido_nao_pago_c = df_interrrompido_nao_pago.shape\n",
    "print(f'Foram {df_interrrompido_nao_pago_c[0]} processos não pagos interrompidos, sendo {round(df_interrrompido_nao_pago_c[0] / df_interrompido_c[0] * 100, 2)}% do total dos processos interrompidos.')"
   ]
  },
  {
   "cell_type": "code",
   "execution_count": 93,
   "metadata": {},
   "outputs": [
    {
     "name": "stdout",
     "output_type": "stream",
     "text": [
      "Foram 29 processos Boletos interrompidos, sendo 19.86% do total dos processos interrompidos.\n"
     ]
    }
   ],
   "source": [
    "df_interrrompido_boleto = df_interrompido[df_interrompido['Forma de Pag.'] == 'Boleto']\n",
    "df_interrrompido_boleto_c = df_interrrompido_boleto.shape\n",
    "print(f'Foram {df_interrrompido_boleto_c[0]} processos Boletos interrompidos, sendo {round(df_interrrompido_boleto_c[0] / df_interrompido_c[0] * 100, 2)}% do total dos processos interrompidos.')"
   ]
  },
  {
   "cell_type": "code",
   "execution_count": 94,
   "metadata": {},
   "outputs": [
    {
     "name": "stdout",
     "output_type": "stream",
     "text": [
      "Foram 2 processos PIXs interrompidos, sendo 1.37% do total dos processos interrompidos.\n"
     ]
    }
   ],
   "source": [
    "df_interrrompido_PIX = df_interrompido[df_interrompido['Forma de Pag.'] == 'PIX']\n",
    "df_interrrompido_PIX_c = df_interrrompido_PIX.shape\n",
    "print(f'Foram {df_interrrompido_PIX_c[0]} processos PIXs interrompidos, sendo {round(df_interrrompido_PIX_c[0] / df_interrompido_c[0] * 100, 2)}% do total dos processos interrompidos.')"
   ]
  },
  {
   "cell_type": "code",
   "execution_count": 95,
   "metadata": {},
   "outputs": [
    {
     "data": {
      "text/html": [
       "<div>\n",
       "<style scoped>\n",
       "    .dataframe tbody tr th:only-of-type {\n",
       "        vertical-align: middle;\n",
       "    }\n",
       "\n",
       "    .dataframe tbody tr th {\n",
       "        vertical-align: top;\n",
       "    }\n",
       "\n",
       "    .dataframe thead th {\n",
       "        text-align: right;\n",
       "    }\n",
       "</style>\n",
       "<table border=\"1\" class=\"dataframe\">\n",
       "  <thead>\n",
       "    <tr style=\"text-align: right;\">\n",
       "      <th></th>\n",
       "      <th>Ped.</th>\n",
       "      <th>Status</th>\n",
       "      <th>Data</th>\n",
       "      <th>Forma de Pag.</th>\n",
       "      <th>N�m. Parcelas</th>\n",
       "      <th>Valor parcelas</th>\n",
       "      <th>Total produtos</th>\n",
       "      <th>Valor do frete</th>\n",
       "      <th>Desconto no cupom</th>\n",
       "      <th>Total do pedido</th>\n",
       "      <th>Obs. do Pedido</th>\n",
       "      <th>Nome do cliente</th>\n",
       "      <th>Endere�o</th>\n",
       "      <th>N�mero</th>\n",
       "      <th>Complemento</th>\n",
       "      <th>Bairro</th>\n",
       "      <th>Cidade</th>\n",
       "      <th>UF</th>\n",
       "      <th>CEP</th>\n",
       "      <th>Nome Produto Princ.</th>\n",
       "    </tr>\n",
       "  </thead>\n",
       "  <tbody>\n",
       "    <tr>\n",
       "      <th>0</th>\n",
       "      <td>345</td>\n",
       "      <td>Entrega Confirmada</td>\n",
       "      <td>26/10/2021 11:18:31</td>\n",
       "      <td>Cart�o de Cr�dito</td>\n",
       "      <td>1</td>\n",
       "      <td>19,00</td>\n",
       "      <td>70,00</td>\n",
       "      <td>19</td>\n",
       "      <td>70,00</td>\n",
       "      <td>19</td>\n",
       "      <td></td>\n",
       "      <td>Amanda Aparecida de Lima</td>\n",
       "      <td>Rua Jo�o Batista de Melo</td>\n",
       "      <td>58</td>\n",
       "      <td>Casa</td>\n",
       "      <td>Centro</td>\n",
       "      <td>Lagoa Dourada</td>\n",
       "      <td>MG</td>\n",
       "      <td>36345000</td>\n",
       "      <td>KIT MARATONA</td>\n",
       "    </tr>\n",
       "    <tr>\n",
       "      <th>1</th>\n",
       "      <td>346</td>\n",
       "      <td>Entrega Confirmada</td>\n",
       "      <td>01/11/2021 22:46:41</td>\n",
       "      <td>Boleto</td>\n",
       "      <td>1</td>\n",
       "      <td>53,01</td>\n",
       "      <td>70,00</td>\n",
       "      <td>53,01</td>\n",
       "      <td>70,00</td>\n",
       "      <td>53,01</td>\n",
       "      <td></td>\n",
       "      <td>Guilherme Bernardi</td>\n",
       "      <td>Rua 150</td>\n",
       "      <td>79</td>\n",
       "      <td></td>\n",
       "      <td>Distrito Industrial</td>\n",
       "      <td>Frederico Westphalen</td>\n",
       "      <td>RS</td>\n",
       "      <td>98400000</td>\n",
       "      <td>KIT MARATONA</td>\n",
       "    </tr>\n",
       "  </tbody>\n",
       "</table>\n",
       "</div>"
      ],
      "text/plain": [
       "  Ped.              Status                 Data      Forma de Pag.   \n",
       "0  345  Entrega Confirmada  26/10/2021 11:18:31  Cart�o de Cr�dito  \\\n",
       "1  346  Entrega Confirmada  01/11/2021 22:46:41             Boleto   \n",
       "\n",
       "  N�m. Parcelas Valor parcelas Total produtos Valor do frete   \n",
       "0             1          19,00          70,00             19  \\\n",
       "1             1          53,01          70,00          53,01   \n",
       "\n",
       "  Desconto no cupom Total do pedido Obs. do Pedido           Nome do cliente   \n",
       "0             70,00              19                 Amanda Aparecida de Lima  \\\n",
       "1             70,00           53,01                       Guilherme Bernardi   \n",
       "\n",
       "                   Endere�o N�mero Complemento               Bairro   \n",
       "0  Rua Jo�o Batista de Melo     58        Casa               Centro  \\\n",
       "1                   Rua 150     79              Distrito Industrial   \n",
       "\n",
       "                 Cidade  UF       CEP Nome Produto Princ.  \n",
       "0         Lagoa Dourada  MG  36345000        KIT MARATONA  \n",
       "1  Frederico Westphalen  RS  98400000        KIT MARATONA  "
      ]
     },
     "execution_count": 95,
     "metadata": {},
     "output_type": "execute_result"
    }
   ],
   "source": [
    "df.head(2)"
   ]
  },
  {
   "cell_type": "code",
   "execution_count": 96,
   "metadata": {},
   "outputs": [
    {
     "data": {
      "text/plain": [
       "(141, 20)"
      ]
     },
     "execution_count": 96,
     "metadata": {},
     "output_type": "execute_result"
    }
   ],
   "source": [
    "df_anomalias_frete = df[df['Total produtos'] < df['Valor do frete']]\n",
    "df_anomalias_frete.shape"
   ]
  },
  {
   "cell_type": "code",
   "execution_count": 97,
   "metadata": {},
   "outputs": [
    {
     "data": {
      "text/plain": [
       "(71, 20)"
      ]
     },
     "execution_count": 97,
     "metadata": {},
     "output_type": "execute_result"
    }
   ],
   "source": [
    "filtro = (df['Total produtos'] < df['Valor do frete']) & (df['Status'] == 'Pedido Interrompido')\n",
    "df_filtrado = df[filtro]\n",
    "df_filtrado.shape"
   ]
  },
  {
   "cell_type": "code",
   "execution_count": 98,
   "metadata": {},
   "outputs": [
    {
     "data": {
      "text/plain": [
       "(66, 20)"
      ]
     },
     "execution_count": 98,
     "metadata": {},
     "output_type": "execute_result"
    }
   ],
   "source": [
    "filtro2 = (df['Total produtos'] < df['Valor do frete']) & (df['Status'] == 'Entrega Confirmada')\n",
    "df_filtrado2 = df[filtro2]\n",
    "df_filtrado2.shape"
   ]
  },
  {
   "attachments": {},
   "cell_type": "markdown",
   "metadata": {},
   "source": [
    "## Insights\n",
    "* A maioria dos pedidos foram pagos com cartão de crédito e boleto bancário.\n",
    "* A maioria dos pedidos contém apenas uma parcela.\n",
    "* Há um pedido com um desconto significativo aplicado ao cupom.\n",
    "* O produto mais comprado é o queijo canastra artesanal meia cura.\n",
    "* Há alguns pedidos interrompidos, ou seja, não foram finalizados pelo cliente.\n",
    "* Os pedidos foram realizados em diferentes cidades e estados do Brasil.\n",
    "* Há um pedido que ainda não foi pago.\n",
    "* Os clientes têm nomes diferentes e endereços em diferentes locais do país."
   ]
  },
  {
   "attachments": {},
   "cell_type": "markdown",
   "metadata": {},
   "source": []
  },
  {
   "attachments": {},
   "cell_type": "markdown",
   "metadata": {},
   "source": [
    "## Data Preparation"
   ]
  },
  {
   "attachments": {},
   "cell_type": "markdown",
   "metadata": {},
   "source": [
    "### 1 - Limpeza de dados: \n",
    "* verifique se existem valores faltantes, outliers ou dados inconsistentes e decida a melhor maneira de tratá-los. Isso pode envolver a exclusão de dados, a imputação de valores faltantes ou a transformação de dados discrepantes."
   ]
  },
  {
   "attachments": {},
   "cell_type": "markdown",
   "metadata": {},
   "source": [
    "### 2 - Padronização de dados: \n",
    "* se as informações foram coletadas de fontes diferentes, pode haver diferenças na forma como os dados foram registrados. É importante padronizar a estrutura dos dados para facilitar a análise e comparação entre eles."
   ]
  },
  {
   "attachments": {},
   "cell_type": "markdown",
   "metadata": {},
   "source": [
    "### 3 - Categorização de dados: \n",
    "* considere agrupar os dados em categorias para uma análise mais fácil. Por exemplo, se houver dados sobre vendas, eles podem ser categorizados por produto, região ou período de tempo."
   ]
  },
  {
   "attachments": {},
   "cell_type": "markdown",
   "metadata": {},
   "source": [
    "### 4 - Normalização de dados: \n",
    "* se os dados tiverem diferentes escalas ou unidades de medida, a normalização pode ajudar a compará-los mais facilmente. A normalização pode ser feita por meio de técnicas como a padronização z-score ou a normalização min-max.\n"
   ]
  },
  {
   "attachments": {},
   "cell_type": "markdown",
   "metadata": {},
   "source": [
    "### 5 - Agregação de dados: \n",
    "* dependendo da análise desejada, pode ser necessário agregar os dados para um nível mais alto de granularidade. Por exemplo, se houver dados diários, eles podem ser agregados em dados mensais ou trimestrais."
   ]
  },
  {
   "attachments": {},
   "cell_type": "markdown",
   "metadata": {},
   "source": [
    "### 6 - Seleção de características: \n",
    "* se houver muitas variáveis nos dados, pode ser necessário selecionar as características mais relevantes para a análise. Isso pode ser feito usando técnicas de seleção de características, como a análise de componentes principais (PCA) ou a seleção baseada em árvores de decisão."
   ]
  },
  {
   "attachments": {},
   "cell_type": "markdown",
   "metadata": {},
   "source": [
    "### 7 - Enriquecimento de dados: \n",
    "* considere adicionar dados de outras fontes para enriquecer os dados existentes e fornecer mais informações para análise. Isso pode incluir dados de demografia, dados de clima ou dados de redes sociais."
   ]
  }
 ],
 "metadata": {
  "kernelspec": {
   "display_name": "Python 3",
   "language": "python",
   "name": "python3"
  },
  "language_info": {
   "codemirror_mode": {
    "name": "ipython",
    "version": 3
   },
   "file_extension": ".py",
   "mimetype": "text/x-python",
   "name": "python",
   "nbconvert_exporter": "python",
   "pygments_lexer": "ipython3",
   "version": "3.10.6"
  },
  "orig_nbformat": 4
 },
 "nbformat": 4,
 "nbformat_minor": 2
}
