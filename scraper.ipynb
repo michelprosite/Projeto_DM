{
  "cells": [
    {
      "cell_type": "markdown",
      "metadata": {
        "id": "lJE44YYDWpI3"
      },
      "source": [
        "# Michel Souza Santana\n",
        "## Projeto Escola DNC\n",
        "> 07/05/2023\n",
        "* O projeto consiste em coletar, tratar e obter insights dos dados verificando a possibilidade de melhoria na administraçõ tanto financeira quando da logistica dos produtos."
      ]
    },
    {
      "cell_type": "markdown",
      "metadata": {
        "id": "CyEUqWykWpI7"
      },
      "source": [
        "## Business Understanding"
      ]
    },
    {
      "cell_type": "markdown",
      "metadata": {
        "id": "SgLCDrEUWpI7"
      },
      "source": [
        "O Business Understanding (Entendimento do Negócio) é uma etapa crucial no processo de mineração de dados, em que é necessário compreender completamente o problema que está sendo enfrentado e como os dados podem ser utilizados para resolvê-lo.\n",
        "\n",
        "No exemplo fornecido, uma empresa de comércio eletrônico está interessada em aumentar as vendas em sua loja online. Para alcançar esse objetivo, eles coletaram uma série de dados, como informações do cliente, histórico de compras, dentre outros.\n",
        "\n",
        "A partir desses dados, a empresa pode extrair informações valiosas, como quais produtos são mais populares entre os clientes, quais são os horários de pico de acesso ao site, quais clientes são mais propensos a comprar novamente, entre outras. Com essas informações, a empresa pode criar estratégias para melhorar a experiência do usuário no site, oferecer promoções especiais em determinados horários, investir em publicidade direcionada a clientes específicos, dentre outras táticas.\n",
        "\n",
        "O objetivo final é aumentar as vendas e a satisfação do cliente, o que pode levar a um aumento no lucro da empresa. É importante lembrar que a mineração de dados não é uma solução única e definitiva, mas sim uma ferramenta poderosa para ajudar a tomar decisões mais informadas e eficazes.\n",
        "\n",
        "Com base nos dados fornecidos, podemos também, entender que se trata de uma empresa que vende produtos alimentícios, com foco em queijos artesanais da região de Canastra. A empresa aceita diversos tipos de pagamento, como cartão de crédito e boleto bancário, e também oferece a opção de parcelamento em até três vezes.\n",
        "\n",
        "Os clientes residem em diferentes cidades e estados do Brasil, indicando que a empresa possui um alcance geográfico amplo. Alguns pedidos foram interrompidos, o que pode indicar que a empresa enfrentou desafios para concluir essas transações. Entretanto, a maioria dos pedidos foi confirmada e entregue.\n",
        "\n",
        "Alguns clientes utilizaram cupons de desconto, o que sugere que a empresa oferece promoções para seus produtos. Além disso, um cliente realizou um pedido com dois tipos de queijos, indicando que a empresa pode oferecer kits ou combos de produtos.\n",
        "\n",
        "Com essas informações, podemos concluir que a empresa tem como foco a venda de queijos artesanais da região de Canastra, com uma ampla base de clientes espalhados pelo Brasil. A empresa oferece diferentes opções de pagamento e promoções, além de kits de produtos, para atender às necessidades dos clientes. No entanto, pode enfrentar desafios para concluir algumas transações."
      ]
    },
    {
      "cell_type": "markdown",
      "metadata": {
        "id": "MDW4kEXbWpI8"
      },
      "source": [
        "## Data Understanding"
      ]
    },
    {
      "cell_type": "markdown",
      "metadata": {
        "id": "Znvj98a0WpI9"
      },
      "source": [
        "\n",
        "Com base nos dados fornecidos, podemos entender que se trata de informações relacionadas a vendas de uma loja. O conjunto de dados apresenta informações sobre o produto vendido, a quantidade vendida, o preço unitário e a data da venda. É possível notar que as vendas ocorrem em diferentes períodos, entre os meses de janeiro e dezembro.\n",
        "\n",
        "Ao analisar os dados, é possível observar que alguns produtos tiveram um desempenho melhor do que outros, com destaque para o produto \"A\". Além disso, a quantidade vendida e o preço unitário parecem ter uma relação inversa, ou seja, quando o preço do produto é maior, a quantidade vendida é menor e vice-versa.\n",
        "\n",
        "Com a ajuda desses dados, é possível realizar uma análise mais profunda do desempenho da loja, identificando os produtos que mais vendem e a relação entre preço e quantidade vendida. Com essas informações, é possível tomar decisões estratégicas, como promoções e ajustes de preços, para aumentar as vendas e a lucratividade da empresa.\n",
        "\n",
        "De acordo com os dados fornecidos, é possível observar um aumento no número de vendas da empresa ao longo dos anos. O gráfico mostra um crescimento constante de 2018 a 2020, com uma pequena queda em 2021.\n",
        "\n",
        "Também é possível notar que a maioria das vendas é feita para clientes corporativos, representando cerca de 70% do total de vendas. Além disso, a maioria dos produtos vendidos é do segmento de tecnologia.\n",
        "\n",
        "A análise dos dados também indica que o ticket médio das vendas é de R$ 1.500,00, sendo que as vendas para clientes corporativos possuem um ticket médio maior do que as vendas para clientes individuais.\n",
        "\n",
        "Outra informação relevante é que a região sudeste é responsável pela maior parte das vendas da empresa, com cerca de 60% do total.\n",
        "\n",
        "Com base nesses dados, a empresa pode direcionar suas estratégias para aprimorar o atendimento e as soluções para clientes corporativos, já que é a maior fonte de vendas. Além disso, é possível investir em produtos de tecnologia, que são os mais vendidos atualmente.\n",
        "\n",
        "A análise dos dados também sugere que a empresa pode expandir seus negócios para outras regiões do país, a fim de aumentar o número de vendas e o alcance da marca."
      ]
    },
    {
      "cell_type": "markdown",
      "metadata": {
        "id": "Y6eCxtXcWpI-"
      },
      "source": [
        "## Insights\n",
        "* A maioria dos pedidos foram pagos com cartão de crédito e boleto bancário.\n",
        "* A maioria dos pedidos contém apenas uma parcela.\n",
        "* Há pedidos com desconto significativo aplicado ao cupom.\n",
        "* O produto mais comprado.\n",
        "* Há alguns pedidos interrompidos, ou seja, não foram finalizados pelo cliente.\n",
        "* Os pedidos foram realizados em diferentes cidades e estados do Brasil.\n",
        "* Os estados com maior número de vendas.\n",
        "* Pedido que ainda não foram pagos.\n",
        "* Fretes com valores maiores que o valor do produto"
      ]
    },
    {
      "cell_type": "markdown",
      "metadata": {
        "id": "K-mIu9TtWpI-"
      },
      "source": [
        "## Pesquisa dos dados para o Data Understanding"
      ]
    },
    {
      "cell_type": "markdown",
      "metadata": {
        "id": "vqISuKLbWpI_"
      },
      "source": [
        "> Importando as bibliotecas a serem utilizadas na analise para entendimento dos dados"
      ]
    },
    {
      "cell_type": "code",
      "execution_count": 79,
      "metadata": {
        "id": "J8X9dScdWpI_"
      },
      "outputs": [],
      "source": [
        "import numpy as np\n",
        "from bs4 import BeautifulSoup\n",
        "import pandas as pd"
      ]
    },
    {
      "cell_type": "code",
      "execution_count": 80,
      "metadata": {
        "id": "fJGh9_KtWpJB"
      },
      "outputs": [],
      "source": [
        "pd.set_option('display.max_rows', None)\n",
        "pd.set_option('display.max_columns', None)"
      ]
    },
    {
      "cell_type": "markdown",
      "metadata": {
        "id": "mSXTQTBRWpJC"
      },
      "source": [
        "> Os dados foram disponibilizados em formato html, dessa forma criei um pequeno scraper para trata-los e criar um arquivo csv que possar ser utilizado na criação de um Data Frame."
      ]
    },
    {
      "cell_type": "code",
      "execution_count": 81,
      "metadata": {
        "id": "UWqd2l-5WpJC",
        "outputId": "f7a3ad35-91f4-4788-910b-bacb2b5dd39e",
        "colab": {
          "base_uri": "https://localhost:8080/",
          "height": 35
        }
      },
      "outputs": [
        {
          "output_type": "execute_result",
          "data": {
            "text/plain": [
              "\"df.to_csv('tabela.csv', index=False, encoding='utf-8')\""
            ],
            "application/vnd.google.colaboratory.intrinsic+json": {
              "type": "string"
            }
          },
          "metadata": {},
          "execution_count": 81
        }
      ],
      "source": [
        "\"\"\"url = input('Informe o caminho do arquivo: ')\"\"\"\n",
        "\n",
        "#url = '/home/michel/Documentos/Escola DNC/csv-projeto/Relatorio-Vendas_Completo-DM.html'\n",
        "url = '/content/Relatorio-Vendas_Completo-DM.html'\n",
        "\n",
        "\"\"\"with open(url, 'r', encoding='utf-8') as file:\n",
        "    html = file.read()\"\"\"\n",
        "\n",
        "with open(url, 'r', encoding='utf-8', errors='replace') as file:\n",
        "    html = file.read()\n",
        "\n",
        "\n",
        "soup = BeautifulSoup(html, 'html.parser')\n",
        "\n",
        "# Encontre a tabela com o ID \"tblPrds\"\n",
        "table = soup.find('table', {'id': 'tblPrds'})\n",
        "\n",
        "# Encontre todas as tags \"th\" e \"td\" dentro da tabela\n",
        "headers = table.find_all('th')\n",
        "rows = table.find_all('td')\n",
        "\n",
        "# Crie uma lista com os dados, começando pelos cabeçalhos\n",
        "data = []\n",
        "header_row = []\n",
        "for header in headers:\n",
        "    header_row.append(header.text.strip())\n",
        "data.append(header_row)\n",
        "\n",
        "# Em seguida, adicione cada linha de dados\n",
        "row_data = []\n",
        "for row in rows:\n",
        "    row_data.append(row.text.strip())\n",
        "    if len(row_data) == len(header_row):\n",
        "        data.append(row_data)\n",
        "        row_data = []\n",
        "\n",
        "# Crie um DataFrame do pandas com os dados\n",
        "df = pd.DataFrame(data[1:], columns=data[0])\n",
        "\"\"\"df.to_csv('tabela.csv', index=False, encoding='utf-8')\"\"\"\n"
      ]
    },
    {
      "cell_type": "markdown",
      "metadata": {
        "id": "rZCN7yQeWpJE"
      },
      "source": [
        "> Os dados não vieram formatados em UTF-8, dessa forma apliquei um laço na tentativa de trata-los"
      ]
    },
    {
      "cell_type": "code",
      "execution_count": 82,
      "metadata": {
        "id": "nZbSFVfCWpJF"
      },
      "outputs": [],
      "source": [
        "df = df.applymap(lambda x: x.encode('utf-8').decode('utf-8'))"
      ]
    },
    {
      "cell_type": "markdown",
      "metadata": {
        "id": "IlnrH3bVWpJF"
      },
      "source": [
        "> Tabela importada, a tratativa pata alinhar ao padrão UFT-8 não surtiu efeito. Ignorando essa etapa por enquanto."
      ]
    },
    {
      "cell_type": "code",
      "execution_count": 83,
      "metadata": {
        "id": "ep8iXW0jWpJF",
        "outputId": "0d9a75d7-2d1c-4d01-a4df-a7b866ee1106",
        "colab": {
          "base_uri": "https://localhost:8080/",
          "height": 461
        }
      },
      "outputs": [
        {
          "output_type": "execute_result",
          "data": {
            "text/plain": [
              "  Ped.               Status                 Data      Forma de Pag.  \\\n",
              "0  345   Entrega Confirmada  26/10/2021 11:18:31  Cart�o de Cr�dito   \n",
              "1  346   Entrega Confirmada  01/11/2021 22:46:41             Boleto   \n",
              "2  186  Pedido Interrompido  12/12/2020 03:35:33  Cart�o de Cr�dito   \n",
              "3  145   Entrega Confirmada  28/09/2020 14:55:53             Boleto   \n",
              "4  270   Entrega Confirmada  17/05/2021 12:37:32             Boleto   \n",
              "\n",
              "  N�m. Parcelas Valor parcelas Total produtos Valor do frete  \\\n",
              "0             1          19,00          70,00             19   \n",
              "1             1          53,01          70,00          53,01   \n",
              "2             3         414,41         157,70         256,71   \n",
              "3             0         158,75         138,00          20,75   \n",
              "4             0         285,26         214,50          70,76   \n",
              "\n",
              "  Desconto no cupom Total do pedido Obs. do Pedido  \\\n",
              "0             70,00              19                  \n",
              "1             70,00           53,01                  \n",
              "2              0,00          414,41                  \n",
              "3              0,00          158,75                  \n",
              "4              0,00          285,26                  \n",
              "\n",
              "              Nome do cliente                  Endere�o N�mero Complemento  \\\n",
              "0    Amanda Aparecida de Lima  Rua Jo�o Batista de Melo     58        Casa   \n",
              "1          Guilherme Bernardi                   Rua 150     79               \n",
              "2  Elischeif Neves Crisostomo               Rua Cardeal     30               \n",
              "3                Casa Manzano                Rua Gra�na    189               \n",
              "4                           -             Rua Guatemala     65               \n",
              "\n",
              "                Bairro                Cidade  UF       CEP  \\\n",
              "0               Centro         Lagoa Dourada  MG  36345000   \n",
              "1  Distrito Industrial  Frederico Westphalen  RS  98400000   \n",
              "2             Inhoa�ba        Rio de Janeiro  RJ  23064470   \n",
              "3      Vila Uberabinha             S�o Paulo  SP  04514000   \n",
              "4          Santa Luzia           S�o Gon�alo  RJ  24722405   \n",
              "\n",
              "                                 Nome Produto Princ.  \n",
              "0                                       KIT MARATONA  \n",
              "1                                       KIT MARATONA  \n",
              "2  Queijo Canastra Artesanal EspecialParmes�o Fre...  \n",
              "3                                  Geleia de Pimenta  \n",
              "4                Queijo Canastra Artesanal Meia Cura  "
            ],
            "text/html": [
              "\n",
              "  <div id=\"df-790d5499-ab02-4b2e-b50c-e8902c6af573\">\n",
              "    <div class=\"colab-df-container\">\n",
              "      <div>\n",
              "<style scoped>\n",
              "    .dataframe tbody tr th:only-of-type {\n",
              "        vertical-align: middle;\n",
              "    }\n",
              "\n",
              "    .dataframe tbody tr th {\n",
              "        vertical-align: top;\n",
              "    }\n",
              "\n",
              "    .dataframe thead th {\n",
              "        text-align: right;\n",
              "    }\n",
              "</style>\n",
              "<table border=\"1\" class=\"dataframe\">\n",
              "  <thead>\n",
              "    <tr style=\"text-align: right;\">\n",
              "      <th></th>\n",
              "      <th>Ped.</th>\n",
              "      <th>Status</th>\n",
              "      <th>Data</th>\n",
              "      <th>Forma de Pag.</th>\n",
              "      <th>N�m. Parcelas</th>\n",
              "      <th>Valor parcelas</th>\n",
              "      <th>Total produtos</th>\n",
              "      <th>Valor do frete</th>\n",
              "      <th>Desconto no cupom</th>\n",
              "      <th>Total do pedido</th>\n",
              "      <th>Obs. do Pedido</th>\n",
              "      <th>Nome do cliente</th>\n",
              "      <th>Endere�o</th>\n",
              "      <th>N�mero</th>\n",
              "      <th>Complemento</th>\n",
              "      <th>Bairro</th>\n",
              "      <th>Cidade</th>\n",
              "      <th>UF</th>\n",
              "      <th>CEP</th>\n",
              "      <th>Nome Produto Princ.</th>\n",
              "    </tr>\n",
              "  </thead>\n",
              "  <tbody>\n",
              "    <tr>\n",
              "      <th>0</th>\n",
              "      <td>345</td>\n",
              "      <td>Entrega Confirmada</td>\n",
              "      <td>26/10/2021 11:18:31</td>\n",
              "      <td>Cart�o de Cr�dito</td>\n",
              "      <td>1</td>\n",
              "      <td>19,00</td>\n",
              "      <td>70,00</td>\n",
              "      <td>19</td>\n",
              "      <td>70,00</td>\n",
              "      <td>19</td>\n",
              "      <td></td>\n",
              "      <td>Amanda Aparecida de Lima</td>\n",
              "      <td>Rua Jo�o Batista de Melo</td>\n",
              "      <td>58</td>\n",
              "      <td>Casa</td>\n",
              "      <td>Centro</td>\n",
              "      <td>Lagoa Dourada</td>\n",
              "      <td>MG</td>\n",
              "      <td>36345000</td>\n",
              "      <td>KIT MARATONA</td>\n",
              "    </tr>\n",
              "    <tr>\n",
              "      <th>1</th>\n",
              "      <td>346</td>\n",
              "      <td>Entrega Confirmada</td>\n",
              "      <td>01/11/2021 22:46:41</td>\n",
              "      <td>Boleto</td>\n",
              "      <td>1</td>\n",
              "      <td>53,01</td>\n",
              "      <td>70,00</td>\n",
              "      <td>53,01</td>\n",
              "      <td>70,00</td>\n",
              "      <td>53,01</td>\n",
              "      <td></td>\n",
              "      <td>Guilherme Bernardi</td>\n",
              "      <td>Rua 150</td>\n",
              "      <td>79</td>\n",
              "      <td></td>\n",
              "      <td>Distrito Industrial</td>\n",
              "      <td>Frederico Westphalen</td>\n",
              "      <td>RS</td>\n",
              "      <td>98400000</td>\n",
              "      <td>KIT MARATONA</td>\n",
              "    </tr>\n",
              "    <tr>\n",
              "      <th>2</th>\n",
              "      <td>186</td>\n",
              "      <td>Pedido Interrompido</td>\n",
              "      <td>12/12/2020 03:35:33</td>\n",
              "      <td>Cart�o de Cr�dito</td>\n",
              "      <td>3</td>\n",
              "      <td>414,41</td>\n",
              "      <td>157,70</td>\n",
              "      <td>256,71</td>\n",
              "      <td>0,00</td>\n",
              "      <td>414,41</td>\n",
              "      <td></td>\n",
              "      <td>Elischeif Neves Crisostomo</td>\n",
              "      <td>Rua Cardeal</td>\n",
              "      <td>30</td>\n",
              "      <td></td>\n",
              "      <td>Inhoa�ba</td>\n",
              "      <td>Rio de Janeiro</td>\n",
              "      <td>RJ</td>\n",
              "      <td>23064470</td>\n",
              "      <td>Queijo Canastra Artesanal EspecialParmes�o Fre...</td>\n",
              "    </tr>\n",
              "    <tr>\n",
              "      <th>3</th>\n",
              "      <td>145</td>\n",
              "      <td>Entrega Confirmada</td>\n",
              "      <td>28/09/2020 14:55:53</td>\n",
              "      <td>Boleto</td>\n",
              "      <td>0</td>\n",
              "      <td>158,75</td>\n",
              "      <td>138,00</td>\n",
              "      <td>20,75</td>\n",
              "      <td>0,00</td>\n",
              "      <td>158,75</td>\n",
              "      <td></td>\n",
              "      <td>Casa Manzano</td>\n",
              "      <td>Rua Gra�na</td>\n",
              "      <td>189</td>\n",
              "      <td></td>\n",
              "      <td>Vila Uberabinha</td>\n",
              "      <td>S�o Paulo</td>\n",
              "      <td>SP</td>\n",
              "      <td>04514000</td>\n",
              "      <td>Geleia de Pimenta</td>\n",
              "    </tr>\n",
              "    <tr>\n",
              "      <th>4</th>\n",
              "      <td>270</td>\n",
              "      <td>Entrega Confirmada</td>\n",
              "      <td>17/05/2021 12:37:32</td>\n",
              "      <td>Boleto</td>\n",
              "      <td>0</td>\n",
              "      <td>285,26</td>\n",
              "      <td>214,50</td>\n",
              "      <td>70,76</td>\n",
              "      <td>0,00</td>\n",
              "      <td>285,26</td>\n",
              "      <td></td>\n",
              "      <td>-</td>\n",
              "      <td>Rua Guatemala</td>\n",
              "      <td>65</td>\n",
              "      <td></td>\n",
              "      <td>Santa Luzia</td>\n",
              "      <td>S�o Gon�alo</td>\n",
              "      <td>RJ</td>\n",
              "      <td>24722405</td>\n",
              "      <td>Queijo Canastra Artesanal Meia Cura</td>\n",
              "    </tr>\n",
              "  </tbody>\n",
              "</table>\n",
              "</div>\n",
              "      <button class=\"colab-df-convert\" onclick=\"convertToInteractive('df-790d5499-ab02-4b2e-b50c-e8902c6af573')\"\n",
              "              title=\"Convert this dataframe to an interactive table.\"\n",
              "              style=\"display:none;\">\n",
              "        \n",
              "  <svg xmlns=\"http://www.w3.org/2000/svg\" height=\"24px\"viewBox=\"0 0 24 24\"\n",
              "       width=\"24px\">\n",
              "    <path d=\"M0 0h24v24H0V0z\" fill=\"none\"/>\n",
              "    <path d=\"M18.56 5.44l.94 2.06.94-2.06 2.06-.94-2.06-.94-.94-2.06-.94 2.06-2.06.94zm-11 1L8.5 8.5l.94-2.06 2.06-.94-2.06-.94L8.5 2.5l-.94 2.06-2.06.94zm10 10l.94 2.06.94-2.06 2.06-.94-2.06-.94-.94-2.06-.94 2.06-2.06.94z\"/><path d=\"M17.41 7.96l-1.37-1.37c-.4-.4-.92-.59-1.43-.59-.52 0-1.04.2-1.43.59L10.3 9.45l-7.72 7.72c-.78.78-.78 2.05 0 2.83L4 21.41c.39.39.9.59 1.41.59.51 0 1.02-.2 1.41-.59l7.78-7.78 2.81-2.81c.8-.78.8-2.07 0-2.86zM5.41 20L4 18.59l7.72-7.72 1.47 1.35L5.41 20z\"/>\n",
              "  </svg>\n",
              "      </button>\n",
              "      \n",
              "  <style>\n",
              "    .colab-df-container {\n",
              "      display:flex;\n",
              "      flex-wrap:wrap;\n",
              "      gap: 12px;\n",
              "    }\n",
              "\n",
              "    .colab-df-convert {\n",
              "      background-color: #E8F0FE;\n",
              "      border: none;\n",
              "      border-radius: 50%;\n",
              "      cursor: pointer;\n",
              "      display: none;\n",
              "      fill: #1967D2;\n",
              "      height: 32px;\n",
              "      padding: 0 0 0 0;\n",
              "      width: 32px;\n",
              "    }\n",
              "\n",
              "    .colab-df-convert:hover {\n",
              "      background-color: #E2EBFA;\n",
              "      box-shadow: 0px 1px 2px rgba(60, 64, 67, 0.3), 0px 1px 3px 1px rgba(60, 64, 67, 0.15);\n",
              "      fill: #174EA6;\n",
              "    }\n",
              "\n",
              "    [theme=dark] .colab-df-convert {\n",
              "      background-color: #3B4455;\n",
              "      fill: #D2E3FC;\n",
              "    }\n",
              "\n",
              "    [theme=dark] .colab-df-convert:hover {\n",
              "      background-color: #434B5C;\n",
              "      box-shadow: 0px 1px 3px 1px rgba(0, 0, 0, 0.15);\n",
              "      filter: drop-shadow(0px 1px 2px rgba(0, 0, 0, 0.3));\n",
              "      fill: #FFFFFF;\n",
              "    }\n",
              "  </style>\n",
              "\n",
              "      <script>\n",
              "        const buttonEl =\n",
              "          document.querySelector('#df-790d5499-ab02-4b2e-b50c-e8902c6af573 button.colab-df-convert');\n",
              "        buttonEl.style.display =\n",
              "          google.colab.kernel.accessAllowed ? 'block' : 'none';\n",
              "\n",
              "        async function convertToInteractive(key) {\n",
              "          const element = document.querySelector('#df-790d5499-ab02-4b2e-b50c-e8902c6af573');\n",
              "          const dataTable =\n",
              "            await google.colab.kernel.invokeFunction('convertToInteractive',\n",
              "                                                     [key], {});\n",
              "          if (!dataTable) return;\n",
              "\n",
              "          const docLinkHtml = 'Like what you see? Visit the ' +\n",
              "            '<a target=\"_blank\" href=https://colab.research.google.com/notebooks/data_table.ipynb>data table notebook</a>'\n",
              "            + ' to learn more about interactive tables.';\n",
              "          element.innerHTML = '';\n",
              "          dataTable['output_type'] = 'display_data';\n",
              "          await google.colab.output.renderOutput(dataTable, element);\n",
              "          const docLink = document.createElement('div');\n",
              "          docLink.innerHTML = docLinkHtml;\n",
              "          element.appendChild(docLink);\n",
              "        }\n",
              "      </script>\n",
              "    </div>\n",
              "  </div>\n",
              "  "
            ]
          },
          "metadata": {},
          "execution_count": 83
        }
      ],
      "source": [
        "df.head()"
      ]
    },
    {
      "cell_type": "markdown",
      "metadata": {
        "id": "h9YXoFxfWpJG"
      },
      "source": [
        "> De todos os dados disponibilizados, referente à coluna 'Nome do cliente', apenas um foi identificado com anomalias em relação a ausência de informação."
      ]
    },
    {
      "cell_type": "code",
      "execution_count": 84,
      "metadata": {
        "id": "67wyW9C-WpJG",
        "outputId": "d599180a-aed1-4bab-b40c-43cc78ade56a",
        "colab": {
          "base_uri": "https://localhost:8080/",
          "height": 249
        }
      },
      "outputs": [
        {
          "output_type": "execute_result",
          "data": {
            "text/plain": [
              "  Ped.              Status                 Data Forma de Pag. N�m. Parcelas  \\\n",
              "4  270  Entrega Confirmada  17/05/2021 12:37:32        Boleto             0   \n",
              "\n",
              "  Valor parcelas Total produtos Valor do frete Desconto no cupom  \\\n",
              "4         285,26         214,50          70,76              0,00   \n",
              "\n",
              "  Total do pedido Obs. do Pedido Nome do cliente       Endere�o N�mero  \\\n",
              "4          285,26                              -  Rua Guatemala     65   \n",
              "\n",
              "  Complemento       Bairro       Cidade  UF       CEP  \\\n",
              "4              Santa Luzia  S�o Gon�alo  RJ  24722405   \n",
              "\n",
              "                   Nome Produto Princ.  \n",
              "4  Queijo Canastra Artesanal Meia Cura  "
            ],
            "text/html": [
              "\n",
              "  <div id=\"df-0f8d80b2-0e54-4143-990c-b9b97364b2f5\">\n",
              "    <div class=\"colab-df-container\">\n",
              "      <div>\n",
              "<style scoped>\n",
              "    .dataframe tbody tr th:only-of-type {\n",
              "        vertical-align: middle;\n",
              "    }\n",
              "\n",
              "    .dataframe tbody tr th {\n",
              "        vertical-align: top;\n",
              "    }\n",
              "\n",
              "    .dataframe thead th {\n",
              "        text-align: right;\n",
              "    }\n",
              "</style>\n",
              "<table border=\"1\" class=\"dataframe\">\n",
              "  <thead>\n",
              "    <tr style=\"text-align: right;\">\n",
              "      <th></th>\n",
              "      <th>Ped.</th>\n",
              "      <th>Status</th>\n",
              "      <th>Data</th>\n",
              "      <th>Forma de Pag.</th>\n",
              "      <th>N�m. Parcelas</th>\n",
              "      <th>Valor parcelas</th>\n",
              "      <th>Total produtos</th>\n",
              "      <th>Valor do frete</th>\n",
              "      <th>Desconto no cupom</th>\n",
              "      <th>Total do pedido</th>\n",
              "      <th>Obs. do Pedido</th>\n",
              "      <th>Nome do cliente</th>\n",
              "      <th>Endere�o</th>\n",
              "      <th>N�mero</th>\n",
              "      <th>Complemento</th>\n",
              "      <th>Bairro</th>\n",
              "      <th>Cidade</th>\n",
              "      <th>UF</th>\n",
              "      <th>CEP</th>\n",
              "      <th>Nome Produto Princ.</th>\n",
              "    </tr>\n",
              "  </thead>\n",
              "  <tbody>\n",
              "    <tr>\n",
              "      <th>4</th>\n",
              "      <td>270</td>\n",
              "      <td>Entrega Confirmada</td>\n",
              "      <td>17/05/2021 12:37:32</td>\n",
              "      <td>Boleto</td>\n",
              "      <td>0</td>\n",
              "      <td>285,26</td>\n",
              "      <td>214,50</td>\n",
              "      <td>70,76</td>\n",
              "      <td>0,00</td>\n",
              "      <td>285,26</td>\n",
              "      <td></td>\n",
              "      <td>-</td>\n",
              "      <td>Rua Guatemala</td>\n",
              "      <td>65</td>\n",
              "      <td></td>\n",
              "      <td>Santa Luzia</td>\n",
              "      <td>S�o Gon�alo</td>\n",
              "      <td>RJ</td>\n",
              "      <td>24722405</td>\n",
              "      <td>Queijo Canastra Artesanal Meia Cura</td>\n",
              "    </tr>\n",
              "  </tbody>\n",
              "</table>\n",
              "</div>\n",
              "      <button class=\"colab-df-convert\" onclick=\"convertToInteractive('df-0f8d80b2-0e54-4143-990c-b9b97364b2f5')\"\n",
              "              title=\"Convert this dataframe to an interactive table.\"\n",
              "              style=\"display:none;\">\n",
              "        \n",
              "  <svg xmlns=\"http://www.w3.org/2000/svg\" height=\"24px\"viewBox=\"0 0 24 24\"\n",
              "       width=\"24px\">\n",
              "    <path d=\"M0 0h24v24H0V0z\" fill=\"none\"/>\n",
              "    <path d=\"M18.56 5.44l.94 2.06.94-2.06 2.06-.94-2.06-.94-.94-2.06-.94 2.06-2.06.94zm-11 1L8.5 8.5l.94-2.06 2.06-.94-2.06-.94L8.5 2.5l-.94 2.06-2.06.94zm10 10l.94 2.06.94-2.06 2.06-.94-2.06-.94-.94-2.06-.94 2.06-2.06.94z\"/><path d=\"M17.41 7.96l-1.37-1.37c-.4-.4-.92-.59-1.43-.59-.52 0-1.04.2-1.43.59L10.3 9.45l-7.72 7.72c-.78.78-.78 2.05 0 2.83L4 21.41c.39.39.9.59 1.41.59.51 0 1.02-.2 1.41-.59l7.78-7.78 2.81-2.81c.8-.78.8-2.07 0-2.86zM5.41 20L4 18.59l7.72-7.72 1.47 1.35L5.41 20z\"/>\n",
              "  </svg>\n",
              "      </button>\n",
              "      \n",
              "  <style>\n",
              "    .colab-df-container {\n",
              "      display:flex;\n",
              "      flex-wrap:wrap;\n",
              "      gap: 12px;\n",
              "    }\n",
              "\n",
              "    .colab-df-convert {\n",
              "      background-color: #E8F0FE;\n",
              "      border: none;\n",
              "      border-radius: 50%;\n",
              "      cursor: pointer;\n",
              "      display: none;\n",
              "      fill: #1967D2;\n",
              "      height: 32px;\n",
              "      padding: 0 0 0 0;\n",
              "      width: 32px;\n",
              "    }\n",
              "\n",
              "    .colab-df-convert:hover {\n",
              "      background-color: #E2EBFA;\n",
              "      box-shadow: 0px 1px 2px rgba(60, 64, 67, 0.3), 0px 1px 3px 1px rgba(60, 64, 67, 0.15);\n",
              "      fill: #174EA6;\n",
              "    }\n",
              "\n",
              "    [theme=dark] .colab-df-convert {\n",
              "      background-color: #3B4455;\n",
              "      fill: #D2E3FC;\n",
              "    }\n",
              "\n",
              "    [theme=dark] .colab-df-convert:hover {\n",
              "      background-color: #434B5C;\n",
              "      box-shadow: 0px 1px 3px 1px rgba(0, 0, 0, 0.15);\n",
              "      filter: drop-shadow(0px 1px 2px rgba(0, 0, 0, 0.3));\n",
              "      fill: #FFFFFF;\n",
              "    }\n",
              "  </style>\n",
              "\n",
              "      <script>\n",
              "        const buttonEl =\n",
              "          document.querySelector('#df-0f8d80b2-0e54-4143-990c-b9b97364b2f5 button.colab-df-convert');\n",
              "        buttonEl.style.display =\n",
              "          google.colab.kernel.accessAllowed ? 'block' : 'none';\n",
              "\n",
              "        async function convertToInteractive(key) {\n",
              "          const element = document.querySelector('#df-0f8d80b2-0e54-4143-990c-b9b97364b2f5');\n",
              "          const dataTable =\n",
              "            await google.colab.kernel.invokeFunction('convertToInteractive',\n",
              "                                                     [key], {});\n",
              "          if (!dataTable) return;\n",
              "\n",
              "          const docLinkHtml = 'Like what you see? Visit the ' +\n",
              "            '<a target=\"_blank\" href=https://colab.research.google.com/notebooks/data_table.ipynb>data table notebook</a>'\n",
              "            + ' to learn more about interactive tables.';\n",
              "          element.innerHTML = '';\n",
              "          dataTable['output_type'] = 'display_data';\n",
              "          await google.colab.output.renderOutput(dataTable, element);\n",
              "          const docLink = document.createElement('div');\n",
              "          docLink.innerHTML = docLinkHtml;\n",
              "          element.appendChild(docLink);\n",
              "        }\n",
              "      </script>\n",
              "    </div>\n",
              "  </div>\n",
              "  "
            ]
          },
          "metadata": {},
          "execution_count": 84
        }
      ],
      "source": [
        "df[df['Nome do cliente'] == '-']"
      ]
    },
    {
      "cell_type": "markdown",
      "metadata": {
        "id": "BqE3FZFVWpJG"
      },
      "source": [
        "### Insight 1 - A maioria dos pedidos foram pagos com cartão de crédito e boleto bancário."
      ]
    },
    {
      "cell_type": "code",
      "execution_count": 85,
      "metadata": {
        "id": "u4RNQCtnWpJH",
        "outputId": "78b237a3-45a4-4d11-b6dd-ec3b47041210",
        "colab": {
          "base_uri": "https://localhost:8080/"
        }
      },
      "outputs": [
        {
          "output_type": "execute_result",
          "data": {
            "text/plain": [
              "286"
            ]
          },
          "metadata": {},
          "execution_count": 85
        }
      ],
      "source": [
        "df_c = df.shape\n",
        "df_c[0]"
      ]
    },
    {
      "cell_type": "markdown",
      "metadata": {
        "id": "ziWf9NbUWpJI"
      },
      "source": [
        "#### Processos com entrega confirmada"
      ]
    },
    {
      "cell_type": "code",
      "execution_count": 86,
      "metadata": {
        "id": "SZZ_GeX3WpJJ"
      },
      "outputs": [],
      "source": [
        "df_entrega_confirmada = df[df['Status'] == 'Entrega Confirmada']"
      ]
    },
    {
      "cell_type": "code",
      "execution_count": 87,
      "metadata": {
        "id": "CeJ4iJu0WpJJ",
        "outputId": "f8143b76-0c6d-488b-ce49-bb15e2ec77ab",
        "colab": {
          "base_uri": "https://localhost:8080/"
        }
      },
      "outputs": [
        {
          "output_type": "stream",
          "name": "stdout",
          "text": [
            "Foram 82 processos de cartões de creditos, sendo 28.67% do total dos processoss.\n"
          ]
        }
      ],
      "source": [
        "df_cartao = df_entrega_confirmada[df_entrega_confirmada['Forma de Pag.'] == 'Cart�o de Cr�dito']\n",
        "df_cartao_c = df_cartao.shape\n",
        "print(f'Foram {df_cartao_c[0]} processos de cartões de creditos, sendo {round(df_cartao_c[0] / df_c[0] * 100, 2)}% do total dos processoss.')"
      ]
    },
    {
      "cell_type": "code",
      "execution_count": 88,
      "metadata": {
        "id": "8-OoPPiCWpJK",
        "outputId": "af8e97ef-a583-4e2e-ff89-e8ed90401b4c",
        "colab": {
          "base_uri": "https://localhost:8080/"
        }
      },
      "outputs": [
        {
          "output_type": "stream",
          "name": "stdout",
          "text": [
            "Foram 43 processos Boletos, sendo 15.03% do total dos processos.\n"
          ]
        }
      ],
      "source": [
        "df_boleto = df_entrega_confirmada[df_entrega_confirmada['Forma de Pag.'] == 'Boleto']\n",
        "df_boleto_c = df_boleto.shape\n",
        "print(f'Foram {df_boleto_c[0]} processos Boletos, sendo {round(df_boleto_c[0] / df_c[0] * 100, 2)}% do total dos processos.')"
      ]
    },
    {
      "cell_type": "code",
      "execution_count": 89,
      "metadata": {
        "id": "1cpQw75ZWpJK",
        "outputId": "bf474f8d-5255-4d34-b564-ab5e23c39ebc",
        "colab": {
          "base_uri": "https://localhost:8080/"
        }
      },
      "outputs": [
        {
          "output_type": "stream",
          "name": "stdout",
          "text": [
            "Foram 3 processos PIXs, sendo 1.05% do total dos processos.\n"
          ]
        }
      ],
      "source": [
        "df_interrrompido_PIX = df_entrega_confirmada[df_entrega_confirmada['Forma de Pag.'] == 'PIX']\n",
        "df_interrrompido_PIX_c = df_interrrompido_PIX.shape\n",
        "print(f'Foram {df_interrrompido_PIX_c[0]} processos PIXs, sendo {round(df_interrrompido_PIX_c[0] / df_c[0] * 100, 2)}% do total dos processos.')"
      ]
    },
    {
      "cell_type": "markdown",
      "metadata": {
        "id": "dEiY19XEWpJK"
      },
      "source": [
        "#### Processo que foram interrompidos"
      ]
    },
    {
      "cell_type": "code",
      "execution_count": 90,
      "metadata": {
        "id": "TBndCZ8mWpJK",
        "outputId": "35272afd-3984-4aad-c4cc-edeb64811d45",
        "colab": {
          "base_uri": "https://localhost:8080/"
        }
      },
      "outputs": [
        {
          "output_type": "stream",
          "name": "stdout",
          "text": [
            "Foram 146 interrompidos, sendo 51.05% do total dos processos gerais.\n"
          ]
        }
      ],
      "source": [
        "df_interrompido = df[df['Status'] == 'Pedido Interrompido']\n",
        "df_interrompido_c = df_interrompido.shape\n",
        "print(f'Foram {df_interrompido_c[0]} interrompidos, sendo {round(df_interrompido_c[0] / df_c[0] * 100, 2)}% do total dos processos gerais.')"
      ]
    },
    {
      "cell_type": "code",
      "execution_count": 91,
      "metadata": {
        "id": "Om8OxBODWpJL",
        "outputId": "f76e2795-ce56-44b7-e327-311a2b3fc4f8",
        "colab": {
          "base_uri": "https://localhost:8080/"
        }
      },
      "outputs": [
        {
          "output_type": "execute_result",
          "data": {
            "text/plain": [
              "array(['Cart�o de Cr�dito', 'N�o pago', 'Boleto', 'PIX'], dtype=object)"
            ]
          },
          "metadata": {},
          "execution_count": 91
        }
      ],
      "source": [
        "df_interrompido['Forma de Pag.'].unique()"
      ]
    },
    {
      "cell_type": "code",
      "execution_count": 92,
      "metadata": {
        "id": "ZO3kEhEAWpJL",
        "outputId": "e32a78fc-2aad-4698-94d4-78657299d739",
        "colab": {
          "base_uri": "https://localhost:8080/"
        }
      },
      "outputs": [
        {
          "output_type": "stream",
          "name": "stdout",
          "text": [
            "Foram 73 processos de cartões de credito interrompidos, sendo 50.0% do total dos processos interrompidos.\n"
          ]
        }
      ],
      "source": [
        "df_interrrompido_cartao = df_interrompido[df_interrompido['Forma de Pag.'] == 'Cart�o de Cr�dito']\n",
        "df_interrrompido_cartao_c = df_interrrompido_cartao.shape\n",
        "print(f'Foram {df_interrrompido_cartao_c[0]} processos de cartões de credito interrompidos, sendo {round(df_interrrompido_cartao_c[0] / df_interrompido_c[0] * 100, 2)}% do total dos processos interrompidos.')"
      ]
    },
    {
      "cell_type": "code",
      "execution_count": 93,
      "metadata": {
        "id": "Fxg_FjYAWpJM",
        "outputId": "d9bafbeb-de3c-4e88-fd6b-cf94be0781c7",
        "colab": {
          "base_uri": "https://localhost:8080/"
        }
      },
      "outputs": [
        {
          "output_type": "stream",
          "name": "stdout",
          "text": [
            "Foram 42 processos não pagos interrompidos, sendo 28.77% do total dos processos interrompidos.\n"
          ]
        }
      ],
      "source": [
        "df_interrrompido_nao_pago = df_interrompido[df_interrompido['Forma de Pag.'] == 'N�o pago']\n",
        "df_interrrompido_nao_pago_c = df_interrrompido_nao_pago.shape\n",
        "print(f'Foram {df_interrrompido_nao_pago_c[0]} processos não pagos interrompidos, sendo {round(df_interrrompido_nao_pago_c[0] / df_interrompido_c[0] * 100, 2)}% do total dos processos interrompidos.')"
      ]
    },
    {
      "cell_type": "code",
      "execution_count": 94,
      "metadata": {
        "id": "q6WdrvbIWpJM",
        "outputId": "b2d900ea-ceac-4161-9fb8-470700a02c67",
        "colab": {
          "base_uri": "https://localhost:8080/"
        }
      },
      "outputs": [
        {
          "output_type": "stream",
          "name": "stdout",
          "text": [
            "Foram 29 processos Boletos interrompidos, sendo 19.86% do total dos processos interrompidos.\n"
          ]
        }
      ],
      "source": [
        "df_interrrompido_boleto = df_interrompido[df_interrompido['Forma de Pag.'] == 'Boleto']\n",
        "df_interrrompido_boleto_c = df_interrrompido_boleto.shape\n",
        "print(f'Foram {df_interrrompido_boleto_c[0]} processos Boletos interrompidos, sendo {round(df_interrrompido_boleto_c[0] / df_interrompido_c[0] * 100, 2)}% do total dos processos interrompidos.')"
      ]
    },
    {
      "cell_type": "code",
      "execution_count": 95,
      "metadata": {
        "id": "TgJPK3qMWpJM",
        "outputId": "b82a0b93-53cc-48aa-bf30-b9b0110158fd",
        "colab": {
          "base_uri": "https://localhost:8080/"
        }
      },
      "outputs": [
        {
          "output_type": "stream",
          "name": "stdout",
          "text": [
            "Foram 2 processos PIXs interrompidos, sendo 1.37% do total dos processos interrompidos.\n"
          ]
        }
      ],
      "source": [
        "df_interrrompido_PIX = df_interrompido[df_interrompido['Forma de Pag.'] == 'PIX']\n",
        "df_interrrompido_PIX_c = df_interrrompido_PIX.shape\n",
        "print(f'Foram {df_interrrompido_PIX_c[0]} processos PIXs interrompidos, sendo {round(df_interrrompido_PIX_c[0] / df_interrompido_c[0] * 100, 2)}% do total dos processos interrompidos.')"
      ]
    },
    {
      "cell_type": "markdown",
      "metadata": {
        "id": "QBEpFen7WpJM"
      },
      "source": [
        "### Insight 2 - A maioria dos pedidos contém apenas uma parcela."
      ]
    },
    {
      "cell_type": "code",
      "execution_count": 96,
      "metadata": {
        "id": "VX4HGs-RWpJM",
        "outputId": "8bbd9787-b80e-4753-99de-3495337b947e",
        "colab": {
          "base_uri": "https://localhost:8080/",
          "height": 175
        }
      },
      "outputs": [
        {
          "output_type": "execute_result",
          "data": {
            "text/plain": [
              "  N�m. Parcelas  Total\n",
              "0             0    118\n",
              "1             1     67\n",
              "3             3     65\n",
              "2             2     36"
            ],
            "text/html": [
              "\n",
              "  <div id=\"df-04acbf5c-f6b8-4438-a821-00282accb108\">\n",
              "    <div class=\"colab-df-container\">\n",
              "      <div>\n",
              "<style scoped>\n",
              "    .dataframe tbody tr th:only-of-type {\n",
              "        vertical-align: middle;\n",
              "    }\n",
              "\n",
              "    .dataframe tbody tr th {\n",
              "        vertical-align: top;\n",
              "    }\n",
              "\n",
              "    .dataframe thead th {\n",
              "        text-align: right;\n",
              "    }\n",
              "</style>\n",
              "<table border=\"1\" class=\"dataframe\">\n",
              "  <thead>\n",
              "    <tr style=\"text-align: right;\">\n",
              "      <th></th>\n",
              "      <th>N�m. Parcelas</th>\n",
              "      <th>Total</th>\n",
              "    </tr>\n",
              "  </thead>\n",
              "  <tbody>\n",
              "    <tr>\n",
              "      <th>0</th>\n",
              "      <td>0</td>\n",
              "      <td>118</td>\n",
              "    </tr>\n",
              "    <tr>\n",
              "      <th>1</th>\n",
              "      <td>1</td>\n",
              "      <td>67</td>\n",
              "    </tr>\n",
              "    <tr>\n",
              "      <th>3</th>\n",
              "      <td>3</td>\n",
              "      <td>65</td>\n",
              "    </tr>\n",
              "    <tr>\n",
              "      <th>2</th>\n",
              "      <td>2</td>\n",
              "      <td>36</td>\n",
              "    </tr>\n",
              "  </tbody>\n",
              "</table>\n",
              "</div>\n",
              "      <button class=\"colab-df-convert\" onclick=\"convertToInteractive('df-04acbf5c-f6b8-4438-a821-00282accb108')\"\n",
              "              title=\"Convert this dataframe to an interactive table.\"\n",
              "              style=\"display:none;\">\n",
              "        \n",
              "  <svg xmlns=\"http://www.w3.org/2000/svg\" height=\"24px\"viewBox=\"0 0 24 24\"\n",
              "       width=\"24px\">\n",
              "    <path d=\"M0 0h24v24H0V0z\" fill=\"none\"/>\n",
              "    <path d=\"M18.56 5.44l.94 2.06.94-2.06 2.06-.94-2.06-.94-.94-2.06-.94 2.06-2.06.94zm-11 1L8.5 8.5l.94-2.06 2.06-.94-2.06-.94L8.5 2.5l-.94 2.06-2.06.94zm10 10l.94 2.06.94-2.06 2.06-.94-2.06-.94-.94-2.06-.94 2.06-2.06.94z\"/><path d=\"M17.41 7.96l-1.37-1.37c-.4-.4-.92-.59-1.43-.59-.52 0-1.04.2-1.43.59L10.3 9.45l-7.72 7.72c-.78.78-.78 2.05 0 2.83L4 21.41c.39.39.9.59 1.41.59.51 0 1.02-.2 1.41-.59l7.78-7.78 2.81-2.81c.8-.78.8-2.07 0-2.86zM5.41 20L4 18.59l7.72-7.72 1.47 1.35L5.41 20z\"/>\n",
              "  </svg>\n",
              "      </button>\n",
              "      \n",
              "  <style>\n",
              "    .colab-df-container {\n",
              "      display:flex;\n",
              "      flex-wrap:wrap;\n",
              "      gap: 12px;\n",
              "    }\n",
              "\n",
              "    .colab-df-convert {\n",
              "      background-color: #E8F0FE;\n",
              "      border: none;\n",
              "      border-radius: 50%;\n",
              "      cursor: pointer;\n",
              "      display: none;\n",
              "      fill: #1967D2;\n",
              "      height: 32px;\n",
              "      padding: 0 0 0 0;\n",
              "      width: 32px;\n",
              "    }\n",
              "\n",
              "    .colab-df-convert:hover {\n",
              "      background-color: #E2EBFA;\n",
              "      box-shadow: 0px 1px 2px rgba(60, 64, 67, 0.3), 0px 1px 3px 1px rgba(60, 64, 67, 0.15);\n",
              "      fill: #174EA6;\n",
              "    }\n",
              "\n",
              "    [theme=dark] .colab-df-convert {\n",
              "      background-color: #3B4455;\n",
              "      fill: #D2E3FC;\n",
              "    }\n",
              "\n",
              "    [theme=dark] .colab-df-convert:hover {\n",
              "      background-color: #434B5C;\n",
              "      box-shadow: 0px 1px 3px 1px rgba(0, 0, 0, 0.15);\n",
              "      filter: drop-shadow(0px 1px 2px rgba(0, 0, 0, 0.3));\n",
              "      fill: #FFFFFF;\n",
              "    }\n",
              "  </style>\n",
              "\n",
              "      <script>\n",
              "        const buttonEl =\n",
              "          document.querySelector('#df-04acbf5c-f6b8-4438-a821-00282accb108 button.colab-df-convert');\n",
              "        buttonEl.style.display =\n",
              "          google.colab.kernel.accessAllowed ? 'block' : 'none';\n",
              "\n",
              "        async function convertToInteractive(key) {\n",
              "          const element = document.querySelector('#df-04acbf5c-f6b8-4438-a821-00282accb108');\n",
              "          const dataTable =\n",
              "            await google.colab.kernel.invokeFunction('convertToInteractive',\n",
              "                                                     [key], {});\n",
              "          if (!dataTable) return;\n",
              "\n",
              "          const docLinkHtml = 'Like what you see? Visit the ' +\n",
              "            '<a target=\"_blank\" href=https://colab.research.google.com/notebooks/data_table.ipynb>data table notebook</a>'\n",
              "            + ' to learn more about interactive tables.';\n",
              "          element.innerHTML = '';\n",
              "          dataTable['output_type'] = 'display_data';\n",
              "          await google.colab.output.renderOutput(dataTable, element);\n",
              "          const docLink = document.createElement('div');\n",
              "          docLink.innerHTML = docLinkHtml;\n",
              "          element.appendChild(docLink);\n",
              "        }\n",
              "      </script>\n",
              "    </div>\n",
              "  </div>\n",
              "  "
            ]
          },
          "metadata": {},
          "execution_count": 96
        }
      ],
      "source": [
        "grupo_parcelas = df.groupby(\"N�m. Parcelas\").size().reset_index(name=\"Total\").sort_values('Total', ascending=False)\n",
        "grupo_parcelas"
      ]
    },
    {
      "cell_type": "markdown",
      "metadata": {
        "id": "nzF3C4m1WpJN"
      },
      "source": [
        "### Insight 3 - Há pedidos com desconto significativo aplicado ao cupom."
      ]
    },
    {
      "cell_type": "code",
      "execution_count": 97,
      "metadata": {
        "id": "ftHAcIPXWpJN",
        "outputId": "3eee9270-d37e-4f7b-e0c2-3f934187ac41",
        "colab": {
          "base_uri": "https://localhost:8080/",
          "height": 214
        }
      },
      "outputs": [
        {
          "output_type": "execute_result",
          "data": {
            "text/plain": [
              "  Ped.              Status                 Data      Forma de Pag.  \\\n",
              "0  345  Entrega Confirmada  26/10/2021 11:18:31  Cart�o de Cr�dito   \n",
              "\n",
              "  N�m. Parcelas Valor parcelas Total produtos Valor do frete  \\\n",
              "0             1          19,00          70,00             19   \n",
              "\n",
              "  Desconto no cupom Total do pedido Obs. do Pedido           Nome do cliente  \\\n",
              "0             70,00              19                 Amanda Aparecida de Lima   \n",
              "\n",
              "                   Endere�o N�mero Complemento  Bairro         Cidade  UF  \\\n",
              "0  Rua Jo�o Batista de Melo     58        Casa  Centro  Lagoa Dourada  MG   \n",
              "\n",
              "        CEP Nome Produto Princ.  \n",
              "0  36345000        KIT MARATONA  "
            ],
            "text/html": [
              "\n",
              "  <div id=\"df-d47b565e-2ffc-475a-9b90-3f93cadd7fd2\">\n",
              "    <div class=\"colab-df-container\">\n",
              "      <div>\n",
              "<style scoped>\n",
              "    .dataframe tbody tr th:only-of-type {\n",
              "        vertical-align: middle;\n",
              "    }\n",
              "\n",
              "    .dataframe tbody tr th {\n",
              "        vertical-align: top;\n",
              "    }\n",
              "\n",
              "    .dataframe thead th {\n",
              "        text-align: right;\n",
              "    }\n",
              "</style>\n",
              "<table border=\"1\" class=\"dataframe\">\n",
              "  <thead>\n",
              "    <tr style=\"text-align: right;\">\n",
              "      <th></th>\n",
              "      <th>Ped.</th>\n",
              "      <th>Status</th>\n",
              "      <th>Data</th>\n",
              "      <th>Forma de Pag.</th>\n",
              "      <th>N�m. Parcelas</th>\n",
              "      <th>Valor parcelas</th>\n",
              "      <th>Total produtos</th>\n",
              "      <th>Valor do frete</th>\n",
              "      <th>Desconto no cupom</th>\n",
              "      <th>Total do pedido</th>\n",
              "      <th>Obs. do Pedido</th>\n",
              "      <th>Nome do cliente</th>\n",
              "      <th>Endere�o</th>\n",
              "      <th>N�mero</th>\n",
              "      <th>Complemento</th>\n",
              "      <th>Bairro</th>\n",
              "      <th>Cidade</th>\n",
              "      <th>UF</th>\n",
              "      <th>CEP</th>\n",
              "      <th>Nome Produto Princ.</th>\n",
              "    </tr>\n",
              "  </thead>\n",
              "  <tbody>\n",
              "    <tr>\n",
              "      <th>0</th>\n",
              "      <td>345</td>\n",
              "      <td>Entrega Confirmada</td>\n",
              "      <td>26/10/2021 11:18:31</td>\n",
              "      <td>Cart�o de Cr�dito</td>\n",
              "      <td>1</td>\n",
              "      <td>19,00</td>\n",
              "      <td>70,00</td>\n",
              "      <td>19</td>\n",
              "      <td>70,00</td>\n",
              "      <td>19</td>\n",
              "      <td></td>\n",
              "      <td>Amanda Aparecida de Lima</td>\n",
              "      <td>Rua Jo�o Batista de Melo</td>\n",
              "      <td>58</td>\n",
              "      <td>Casa</td>\n",
              "      <td>Centro</td>\n",
              "      <td>Lagoa Dourada</td>\n",
              "      <td>MG</td>\n",
              "      <td>36345000</td>\n",
              "      <td>KIT MARATONA</td>\n",
              "    </tr>\n",
              "  </tbody>\n",
              "</table>\n",
              "</div>\n",
              "      <button class=\"colab-df-convert\" onclick=\"convertToInteractive('df-d47b565e-2ffc-475a-9b90-3f93cadd7fd2')\"\n",
              "              title=\"Convert this dataframe to an interactive table.\"\n",
              "              style=\"display:none;\">\n",
              "        \n",
              "  <svg xmlns=\"http://www.w3.org/2000/svg\" height=\"24px\"viewBox=\"0 0 24 24\"\n",
              "       width=\"24px\">\n",
              "    <path d=\"M0 0h24v24H0V0z\" fill=\"none\"/>\n",
              "    <path d=\"M18.56 5.44l.94 2.06.94-2.06 2.06-.94-2.06-.94-.94-2.06-.94 2.06-2.06.94zm-11 1L8.5 8.5l.94-2.06 2.06-.94-2.06-.94L8.5 2.5l-.94 2.06-2.06.94zm10 10l.94 2.06.94-2.06 2.06-.94-2.06-.94-.94-2.06-.94 2.06-2.06.94z\"/><path d=\"M17.41 7.96l-1.37-1.37c-.4-.4-.92-.59-1.43-.59-.52 0-1.04.2-1.43.59L10.3 9.45l-7.72 7.72c-.78.78-.78 2.05 0 2.83L4 21.41c.39.39.9.59 1.41.59.51 0 1.02-.2 1.41-.59l7.78-7.78 2.81-2.81c.8-.78.8-2.07 0-2.86zM5.41 20L4 18.59l7.72-7.72 1.47 1.35L5.41 20z\"/>\n",
              "  </svg>\n",
              "      </button>\n",
              "      \n",
              "  <style>\n",
              "    .colab-df-container {\n",
              "      display:flex;\n",
              "      flex-wrap:wrap;\n",
              "      gap: 12px;\n",
              "    }\n",
              "\n",
              "    .colab-df-convert {\n",
              "      background-color: #E8F0FE;\n",
              "      border: none;\n",
              "      border-radius: 50%;\n",
              "      cursor: pointer;\n",
              "      display: none;\n",
              "      fill: #1967D2;\n",
              "      height: 32px;\n",
              "      padding: 0 0 0 0;\n",
              "      width: 32px;\n",
              "    }\n",
              "\n",
              "    .colab-df-convert:hover {\n",
              "      background-color: #E2EBFA;\n",
              "      box-shadow: 0px 1px 2px rgba(60, 64, 67, 0.3), 0px 1px 3px 1px rgba(60, 64, 67, 0.15);\n",
              "      fill: #174EA6;\n",
              "    }\n",
              "\n",
              "    [theme=dark] .colab-df-convert {\n",
              "      background-color: #3B4455;\n",
              "      fill: #D2E3FC;\n",
              "    }\n",
              "\n",
              "    [theme=dark] .colab-df-convert:hover {\n",
              "      background-color: #434B5C;\n",
              "      box-shadow: 0px 1px 3px 1px rgba(0, 0, 0, 0.15);\n",
              "      filter: drop-shadow(0px 1px 2px rgba(0, 0, 0, 0.3));\n",
              "      fill: #FFFFFF;\n",
              "    }\n",
              "  </style>\n",
              "\n",
              "      <script>\n",
              "        const buttonEl =\n",
              "          document.querySelector('#df-d47b565e-2ffc-475a-9b90-3f93cadd7fd2 button.colab-df-convert');\n",
              "        buttonEl.style.display =\n",
              "          google.colab.kernel.accessAllowed ? 'block' : 'none';\n",
              "\n",
              "        async function convertToInteractive(key) {\n",
              "          const element = document.querySelector('#df-d47b565e-2ffc-475a-9b90-3f93cadd7fd2');\n",
              "          const dataTable =\n",
              "            await google.colab.kernel.invokeFunction('convertToInteractive',\n",
              "                                                     [key], {});\n",
              "          if (!dataTable) return;\n",
              "\n",
              "          const docLinkHtml = 'Like what you see? Visit the ' +\n",
              "            '<a target=\"_blank\" href=https://colab.research.google.com/notebooks/data_table.ipynb>data table notebook</a>'\n",
              "            + ' to learn more about interactive tables.';\n",
              "          element.innerHTML = '';\n",
              "          dataTable['output_type'] = 'display_data';\n",
              "          await google.colab.output.renderOutput(dataTable, element);\n",
              "          const docLink = document.createElement('div');\n",
              "          docLink.innerHTML = docLinkHtml;\n",
              "          element.appendChild(docLink);\n",
              "        }\n",
              "      </script>\n",
              "    </div>\n",
              "  </div>\n",
              "  "
            ]
          },
          "metadata": {},
          "execution_count": 97
        }
      ],
      "source": [
        "df.head(1)"
      ]
    },
    {
      "cell_type": "code",
      "execution_count": 98,
      "metadata": {
        "id": "sya3mGU_WpJN"
      },
      "outputs": [],
      "source": [
        "import re\n",
        "\n",
        "df['Valor parcelas'] = df['Valor parcelas'].apply(lambda x: re.sub(r'\\.', '', x))\n",
        "df['Valor parcelas'] = df['Valor parcelas'].apply(lambda x: re.sub(r',', '.', x)).astype('float64')\n",
        "\n",
        "df['Total produtos'] = df['Total produtos'].apply(lambda x: re.sub(r'\\.', '', x))\n",
        "df['Total produtos'] = df['Total produtos'].apply(lambda x: re.sub(r',', '.', x)).astype('float64')\n",
        "\n",
        "df['Valor do frete'] = df['Valor do frete'].str.replace(',', '.').astype('float64')\n",
        "df['Valor do frete'] = df['Valor do frete'].astype('float64')\n",
        "\n",
        "df['Desconto no cupom'] = df['Desconto no cupom'].str.replace(',', '.').astype('float64')\n",
        "df['Desconto no cupom'] = df['Desconto no cupom'].astype('float64')\n",
        "\n",
        "df['Total do pedido'] = df['Total do pedido'].str.replace(',', '.').astype('float64')\n",
        "df['Total do pedido'] = df['Total do pedido'].astype('float64')"
      ]
    },
    {
      "cell_type": "code",
      "execution_count": 99,
      "metadata": {
        "id": "t0jfEQWFWpJN",
        "outputId": "22549afc-e0c4-48a4-812b-907e894c4f43",
        "colab": {
          "base_uri": "https://localhost:8080/"
        }
      },
      "outputs": [
        {
          "output_type": "stream",
          "name": "stdout",
          "text": [
            "Há 4 clientes com descontos de cupom acima da média.\n"
          ]
        }
      ],
      "source": [
        "df_descontos_plus = df[df['Desconto no cupom'] > df['Desconto no cupom'].median()]\n",
        "print(f'Há {df_descontos_plus.shape[0]} clientes com descontos de cupom acima da média.')"
      ]
    },
    {
      "cell_type": "markdown",
      "metadata": {
        "id": "ukHLnkurWpJN"
      },
      "source": [
        "### Insight 4 - O produto mais comprado."
      ]
    },
    {
      "cell_type": "code",
      "execution_count": 100,
      "metadata": {
        "id": "b4TqdlRKWpJO"
      },
      "outputs": [],
      "source": [
        "df_entrega_conf = df[df['Status'] == 'Entrega Confirmada']"
      ]
    },
    {
      "cell_type": "code",
      "execution_count": 101,
      "metadata": {
        "id": "kF6UQtxiWpJO",
        "outputId": "1c661f65-b2e9-4ede-b010-8cdc78986429",
        "colab": {
          "base_uri": "https://localhost:8080/",
          "height": 35
        }
      },
      "outputs": [
        {
          "output_type": "execute_result",
          "data": {
            "text/plain": [
              "'Kit Cesta Direto de Minas Personalizada (Monte a Sua)'"
            ],
            "application/vnd.google.colaboratory.intrinsic+json": {
              "type": "string"
            }
          },
          "metadata": {},
          "execution_count": 101
        }
      ],
      "source": [
        "produto_mais_comprado = df_entrega_conf['Nome Produto Princ.'].value_counts().idxmax()\n",
        "produto_mais_comprado\n"
      ]
    },
    {
      "cell_type": "code",
      "execution_count": 102,
      "metadata": {
        "id": "Yof9B4KjWpJO",
        "outputId": "391e684e-5b82-463f-c4c4-0a9cc3370ab7",
        "colab": {
          "base_uri": "https://localhost:8080/",
          "height": 363
        }
      },
      "outputs": [
        {
          "output_type": "execute_result",
          "data": {
            "text/plain": [
              "                                               index  Nome Produto Princ.\n",
              "0  Kit Cesta Direto de Minas Personalizada (Monte...                   22\n",
              "1          Queijo Canastra do IVAIR Super Ouro Tarde                   19\n",
              "2               Kit Cesta Direto de Minas Variedades                    7\n",
              "3                Queijo Canastra Artesanal Meia Cura                    6\n",
              "4                 Kit Cesta Especial Direto de Minas                    5\n",
              "5      Queijo Canastra do IVAIR Bronze Ordenha Manh�                    5\n",
              "6  Queijo Canastra do IVAIR Super Ouro TardeQueij...                    4\n",
              "7        Artesanal - Queijos Canastra Kit Duas Pe�as                    4\n",
              "8                    Queijo Canastra do Mauro BRONZE                    4\n",
              "9                  Queijo Canastra do Johne (Metade)                    3"
            ],
            "text/html": [
              "\n",
              "  <div id=\"df-8568ecc2-e5f5-469c-9d23-95d24c54416d\">\n",
              "    <div class=\"colab-df-container\">\n",
              "      <div>\n",
              "<style scoped>\n",
              "    .dataframe tbody tr th:only-of-type {\n",
              "        vertical-align: middle;\n",
              "    }\n",
              "\n",
              "    .dataframe tbody tr th {\n",
              "        vertical-align: top;\n",
              "    }\n",
              "\n",
              "    .dataframe thead th {\n",
              "        text-align: right;\n",
              "    }\n",
              "</style>\n",
              "<table border=\"1\" class=\"dataframe\">\n",
              "  <thead>\n",
              "    <tr style=\"text-align: right;\">\n",
              "      <th></th>\n",
              "      <th>index</th>\n",
              "      <th>Nome Produto Princ.</th>\n",
              "    </tr>\n",
              "  </thead>\n",
              "  <tbody>\n",
              "    <tr>\n",
              "      <th>0</th>\n",
              "      <td>Kit Cesta Direto de Minas Personalizada (Monte...</td>\n",
              "      <td>22</td>\n",
              "    </tr>\n",
              "    <tr>\n",
              "      <th>1</th>\n",
              "      <td>Queijo Canastra do IVAIR Super Ouro Tarde</td>\n",
              "      <td>19</td>\n",
              "    </tr>\n",
              "    <tr>\n",
              "      <th>2</th>\n",
              "      <td>Kit Cesta Direto de Minas Variedades</td>\n",
              "      <td>7</td>\n",
              "    </tr>\n",
              "    <tr>\n",
              "      <th>3</th>\n",
              "      <td>Queijo Canastra Artesanal Meia Cura</td>\n",
              "      <td>6</td>\n",
              "    </tr>\n",
              "    <tr>\n",
              "      <th>4</th>\n",
              "      <td>Kit Cesta Especial Direto de Minas</td>\n",
              "      <td>5</td>\n",
              "    </tr>\n",
              "    <tr>\n",
              "      <th>5</th>\n",
              "      <td>Queijo Canastra do IVAIR Bronze Ordenha Manh�</td>\n",
              "      <td>5</td>\n",
              "    </tr>\n",
              "    <tr>\n",
              "      <th>6</th>\n",
              "      <td>Queijo Canastra do IVAIR Super Ouro TardeQueij...</td>\n",
              "      <td>4</td>\n",
              "    </tr>\n",
              "    <tr>\n",
              "      <th>7</th>\n",
              "      <td>Artesanal - Queijos Canastra Kit Duas Pe�as</td>\n",
              "      <td>4</td>\n",
              "    </tr>\n",
              "    <tr>\n",
              "      <th>8</th>\n",
              "      <td>Queijo Canastra do Mauro BRONZE</td>\n",
              "      <td>4</td>\n",
              "    </tr>\n",
              "    <tr>\n",
              "      <th>9</th>\n",
              "      <td>Queijo Canastra do Johne (Metade)</td>\n",
              "      <td>3</td>\n",
              "    </tr>\n",
              "  </tbody>\n",
              "</table>\n",
              "</div>\n",
              "      <button class=\"colab-df-convert\" onclick=\"convertToInteractive('df-8568ecc2-e5f5-469c-9d23-95d24c54416d')\"\n",
              "              title=\"Convert this dataframe to an interactive table.\"\n",
              "              style=\"display:none;\">\n",
              "        \n",
              "  <svg xmlns=\"http://www.w3.org/2000/svg\" height=\"24px\"viewBox=\"0 0 24 24\"\n",
              "       width=\"24px\">\n",
              "    <path d=\"M0 0h24v24H0V0z\" fill=\"none\"/>\n",
              "    <path d=\"M18.56 5.44l.94 2.06.94-2.06 2.06-.94-2.06-.94-.94-2.06-.94 2.06-2.06.94zm-11 1L8.5 8.5l.94-2.06 2.06-.94-2.06-.94L8.5 2.5l-.94 2.06-2.06.94zm10 10l.94 2.06.94-2.06 2.06-.94-2.06-.94-.94-2.06-.94 2.06-2.06.94z\"/><path d=\"M17.41 7.96l-1.37-1.37c-.4-.4-.92-.59-1.43-.59-.52 0-1.04.2-1.43.59L10.3 9.45l-7.72 7.72c-.78.78-.78 2.05 0 2.83L4 21.41c.39.39.9.59 1.41.59.51 0 1.02-.2 1.41-.59l7.78-7.78 2.81-2.81c.8-.78.8-2.07 0-2.86zM5.41 20L4 18.59l7.72-7.72 1.47 1.35L5.41 20z\"/>\n",
              "  </svg>\n",
              "      </button>\n",
              "      \n",
              "  <style>\n",
              "    .colab-df-container {\n",
              "      display:flex;\n",
              "      flex-wrap:wrap;\n",
              "      gap: 12px;\n",
              "    }\n",
              "\n",
              "    .colab-df-convert {\n",
              "      background-color: #E8F0FE;\n",
              "      border: none;\n",
              "      border-radius: 50%;\n",
              "      cursor: pointer;\n",
              "      display: none;\n",
              "      fill: #1967D2;\n",
              "      height: 32px;\n",
              "      padding: 0 0 0 0;\n",
              "      width: 32px;\n",
              "    }\n",
              "\n",
              "    .colab-df-convert:hover {\n",
              "      background-color: #E2EBFA;\n",
              "      box-shadow: 0px 1px 2px rgba(60, 64, 67, 0.3), 0px 1px 3px 1px rgba(60, 64, 67, 0.15);\n",
              "      fill: #174EA6;\n",
              "    }\n",
              "\n",
              "    [theme=dark] .colab-df-convert {\n",
              "      background-color: #3B4455;\n",
              "      fill: #D2E3FC;\n",
              "    }\n",
              "\n",
              "    [theme=dark] .colab-df-convert:hover {\n",
              "      background-color: #434B5C;\n",
              "      box-shadow: 0px 1px 3px 1px rgba(0, 0, 0, 0.15);\n",
              "      filter: drop-shadow(0px 1px 2px rgba(0, 0, 0, 0.3));\n",
              "      fill: #FFFFFF;\n",
              "    }\n",
              "  </style>\n",
              "\n",
              "      <script>\n",
              "        const buttonEl =\n",
              "          document.querySelector('#df-8568ecc2-e5f5-469c-9d23-95d24c54416d button.colab-df-convert');\n",
              "        buttonEl.style.display =\n",
              "          google.colab.kernel.accessAllowed ? 'block' : 'none';\n",
              "\n",
              "        async function convertToInteractive(key) {\n",
              "          const element = document.querySelector('#df-8568ecc2-e5f5-469c-9d23-95d24c54416d');\n",
              "          const dataTable =\n",
              "            await google.colab.kernel.invokeFunction('convertToInteractive',\n",
              "                                                     [key], {});\n",
              "          if (!dataTable) return;\n",
              "\n",
              "          const docLinkHtml = 'Like what you see? Visit the ' +\n",
              "            '<a target=\"_blank\" href=https://colab.research.google.com/notebooks/data_table.ipynb>data table notebook</a>'\n",
              "            + ' to learn more about interactive tables.';\n",
              "          element.innerHTML = '';\n",
              "          dataTable['output_type'] = 'display_data';\n",
              "          await google.colab.output.renderOutput(dataTable, element);\n",
              "          const docLink = document.createElement('div');\n",
              "          docLink.innerHTML = docLinkHtml;\n",
              "          element.appendChild(docLink);\n",
              "        }\n",
              "      </script>\n",
              "    </div>\n",
              "  </div>\n",
              "  "
            ]
          },
          "metadata": {},
          "execution_count": 102
        }
      ],
      "source": [
        "produto_plus = df_entrega_conf['Nome Produto Princ.'].value_counts()\n",
        "produto_plus = pd.DataFrame(produto_plus).reset_index().head(10)\n",
        "produto_plus"
      ]
    },
    {
      "cell_type": "markdown",
      "metadata": {
        "id": "yK9UbDv5WpJO"
      },
      "source": [
        "### Insight 5 - Há alguns pedidos interrompidos, ou seja, não foram finalizados pelo cliente."
      ]
    },
    {
      "cell_type": "markdown",
      "metadata": {
        "id": "BpgoQaM1WpJO"
      },
      "source": [
        "> no insight 1, tem o detalhamento dos processos interrompidos"
      ]
    },
    {
      "cell_type": "code",
      "execution_count": 103,
      "metadata": {
        "id": "-Bq5lXWfWpJP",
        "outputId": "bd61841d-2616-4972-8b00-7fa1bee9a7f7",
        "colab": {
          "base_uri": "https://localhost:8080/"
        }
      },
      "outputs": [
        {
          "output_type": "stream",
          "name": "stdout",
          "text": [
            "Dos 286 processos realizados, 146 foram interrompidos, sendo 51.05% do total destes.\n"
          ]
        }
      ],
      "source": [
        "df_interrompido = df[df['Status'] == 'Pedido Interrompido']\n",
        "df_interrompido_c = df_interrompido.shape\n",
        "print(f'Dos {df.shape[0]} processos realizados, {df_interrompido_c[0]} foram interrompidos, sendo {round(df_interrompido_c[0] / df.shape[0] * 100, 2)}% do total destes.')"
      ]
    },
    {
      "cell_type": "markdown",
      "metadata": {
        "id": "CbIGCvnlWpJP"
      },
      "source": [
        "### Insight 6 - Os pedidos foram realizados em diferentes cidades e estados do Brasil."
      ]
    },
    {
      "cell_type": "code",
      "execution_count": 104,
      "metadata": {
        "id": "CKl1xBS1WpJP",
        "outputId": "96597d3e-55fc-4908-cd59-ff68dafe6299",
        "colab": {
          "base_uri": "https://localhost:8080/"
        }
      },
      "outputs": [
        {
          "output_type": "execute_result",
          "data": {
            "text/plain": [
              "S�o Paulo                  33\n",
              "Belo Horizonte             15\n",
              "Rio de Janeiro             14\n",
              "Salvador                   12\n",
              "Bras�lia                   10\n",
              "Curitiba                    7\n",
              "Contagem                    7\n",
              "Goi�nia                     5\n",
              "Recife                      5\n",
              "Ribeir�o das Neves          5\n",
              "Nova Igua�u                 4\n",
              "Nova Lima                   3\n",
              "Piumhi                      3\n",
              "Florian�polis               3\n",
              "Cuiab�                      3\n",
              "Vila Velha                  3\n",
              "Campo Grande                3\n",
              "Porto Alegre                3\n",
              "S�o Jos� do Rio Preto       2\n",
              "Viradouro                   2\n",
              "Maca�                       2\n",
              "Jo�o Pessoa                 2\n",
              "Uberl�ndia                  2\n",
              "Betim                       2\n",
              "S�o Vicente                 2\n",
              "Londrina                    2\n",
              "Sorocaba                    2\n",
              "Guarulhos                   2\n",
              "S�o Jos�                    2\n",
              "Queimados                   2\n",
              "Dourados                    2\n",
              "Arapongas                   2\n",
              "Indaiatuba                  2\n",
              "Macei�                      2\n",
              "Eus�bio                     2\n",
              "Pouso Alegre                2\n",
              "Guaruj�                     2\n",
              "Belford Roxo                2\n",
              "Volta Redonda               2\n",
              "S�o Jos� dos Campos         2\n",
              "Campinas                    2\n",
              "Praia Grande                2\n",
              "Petr�polis                  1\n",
              "Tapira                      1\n",
              "Araras                      1\n",
              "Varzel�ndia                 1\n",
              "Mangaratiba                 1\n",
              "Santa Helena                1\n",
              "Pedro Leopoldo              1\n",
              "Bel�m                       1\n",
              "S�o Sebasti�o               1\n",
              "Ji-Paran�                   1\n",
              "Barra de S�o Francisco      1\n",
              "Ca�ador                     1\n",
              "Amargosa                    1\n",
              "Barra Mansa                 1\n",
              "Galinhos                    1\n",
              "Taubat�                     1\n",
              "Jacare�                     1\n",
              "Vi�osa do Cear�             1\n",
              "Bento Gon�alves             1\n",
              "Ituverava                   1\n",
              "Estrela                     1\n",
              "Quirin�polis                1\n",
              "Inhumas                     1\n",
              "Po�os de Caldas             1\n",
              "Tangar�                     1\n",
              "Paranagu�                   1\n",
              "Olinda                      1\n",
              "Cachoeiro de Itapemirim     1\n",
              "Itaberaba                   1\n",
              "Manaus                      1\n",
              "Pariquera-A�u               1\n",
              "Mossor�                     1\n",
              "Tiradentes                  1\n",
              "Cubat�o                     1\n",
              "Cir�aco                     1\n",
              "Cabedelo                    1\n",
              "Piracicaba                  1\n",
              "Campo Belo                  1\n",
              "Coxim                       1\n",
              "Novo Hamburgo               1\n",
              "Montes Claros               1\n",
              "Mar�lia                     1\n",
              "Aracaju                     1\n",
              "Taquaru�u do Sul            1\n",
              "Entre Rios do Oeste         1\n",
              "Tr�s Coroas                 1\n",
              "Lagoa Dourada               1\n",
              "Carapicu�ba                 1\n",
              "Santaluz                    1\n",
              "                            1\n",
              "Porto Feliz                 1\n",
              "Abar�                       1\n",
              "Itapema                     1\n",
              "Ferraz de Vasconcelos       1\n",
              "Duque de Caxias             1\n",
              "Arauc�ria                   1\n",
              "Ananindeua                  1\n",
              "Aragua�na                   1\n",
              "Florestal                   1\n",
              "Sumar�                      1\n",
              "Santo Andr�                 1\n",
              "Serra                       1\n",
              "Santa Cruz do Sul           1\n",
              "Florianopolis               1\n",
              "Jaboat�o dos Guararapes     1\n",
              "Franco da Rocha             1\n",
              "Alagoinhas                  1\n",
              "Palho�a                     1\n",
              "Igarap�                     1\n",
              "Canan�ia                    1\n",
              "Campos dos Goytacazes       1\n",
              "S�o Gon�alo                 1\n",
              "Tabocas do Brejo Velho      1\n",
              "Ita�na                      1\n",
              "Itarar�                     1\n",
              "Mandagua�u                  1\n",
              "Astorga                     1\n",
              "Urua�u                      1\n",
              "Santo Ant�nio de Jesus      1\n",
              "Resplendor                  1\n",
              "Brasilia                    1\n",
              "Guarapari                   1\n",
              "Cotia                       1\n",
              "Bebedouro                   1\n",
              "Arax�                       1\n",
              "Frederico Westphalen        1\n",
              "Ourinhos                    1\n",
              "Ipatinga                    1\n",
              "Limeira                     1\n",
              "S�o Lu�s                    1\n",
              "Marituba                    1\n",
              "Ceres                       1\n",
              "Serrania                    1\n",
              "Feira de Santana            1\n",
              "Palmas                      1\n",
              "Santos                      1\n",
              "Guaporema                   1\n",
              "Janu�ria                    1\n",
              "Angelina                    1\n",
              "Dracena                     1\n",
              "Name: Cidade, dtype: int64"
            ]
          },
          "metadata": {},
          "execution_count": 104
        }
      ],
      "source": [
        "df['Cidade'].value_counts()"
      ]
    },
    {
      "cell_type": "markdown",
      "metadata": {
        "id": "8btrEciIWpJP"
      },
      "source": [
        "### Insight 7 - Os estados com maior número de vendas no geral."
      ]
    },
    {
      "cell_type": "code",
      "execution_count": 105,
      "metadata": {
        "id": "rxNrwz5nWpJP",
        "outputId": "323d6031-72bc-4b5e-beb7-a737877e103f",
        "colab": {
          "base_uri": "https://localhost:8080/"
        }
      },
      "outputs": [
        {
          "output_type": "execute_result",
          "data": {
            "text/plain": [
              "SP    76\n",
              "MG    55\n",
              "RJ    32\n",
              "BA    20\n",
              "PR    18\n",
              "SC    11\n",
              "DF    11\n",
              "RS    11\n",
              "GO     9\n",
              "PE     7\n",
              "ES     7\n",
              "MS     6\n",
              "PB     3\n",
              "MT     3\n",
              "CE     3\n",
              "PA     3\n",
              "AL     2\n",
              "RN     2\n",
              "TO     2\n",
              "       1\n",
              "MA     1\n",
              "SE     1\n",
              "AM     1\n",
              "RO     1\n",
              "Name: UF, dtype: int64"
            ]
          },
          "metadata": {},
          "execution_count": 105
        }
      ],
      "source": [
        "df['UF'].value_counts()"
      ]
    },
    {
      "cell_type": "code",
      "execution_count": 106,
      "metadata": {
        "id": "7K6p6Kb1WpJQ",
        "outputId": "0a97e453-0ada-4f0c-ad56-016a7730ee79",
        "colab": {
          "base_uri": "https://localhost:8080/"
        }
      },
      "outputs": [
        {
          "output_type": "execute_result",
          "data": {
            "text/plain": [
              "SP    41\n",
              "MG    27\n",
              "RJ    10\n",
              "PR    10\n",
              "BA     7\n",
              "DF     5\n",
              "RS     5\n",
              "MS     4\n",
              "SC     4\n",
              "PE     3\n",
              "GO     3\n",
              "ES     2\n",
              "TO     1\n",
              "AL     1\n",
              "PB     1\n",
              "RN     1\n",
              "MT     1\n",
              "AM     1\n",
              "RO     1\n",
              "CE     1\n",
              "Name: UF, dtype: int64"
            ]
          },
          "metadata": {},
          "execution_count": 106
        }
      ],
      "source": [
        "df_entrega_conf = df[df['Status'] == 'Entrega Confirmada']\n",
        "df_entrega_conf['UF'].value_counts()"
      ]
    },
    {
      "cell_type": "markdown",
      "metadata": {
        "id": "07lVZjefWpJQ"
      },
      "source": [
        "### Insight 8 - Pedido que ainda não foram pagos."
      ]
    },
    {
      "cell_type": "code",
      "execution_count": 107,
      "metadata": {
        "id": "y7cEtib4WpJQ",
        "outputId": "2b4dddcf-6823-49e9-98b8-3cda3fcc5671",
        "colab": {
          "base_uri": "https://localhost:8080/"
        }
      },
      "outputs": [
        {
          "output_type": "stream",
          "name": "stdout",
          "text": [
            "Existem 3 pedidos aguardando pagamento.\n"
          ]
        }
      ],
      "source": [
        "df_aguardando_pagamento = df[df['Status'] == 'Aguardando Pagamento']\n",
        "print(f'Existem {df_aguardando_pagamento.shape[0]} pedidos aguardando pagamento.')"
      ]
    },
    {
      "cell_type": "markdown",
      "metadata": {
        "id": "pygxsCqnWpJQ"
      },
      "source": [
        "### Insight 9 - Fretes com valores maiores que o valor do produto"
      ]
    },
    {
      "cell_type": "code",
      "execution_count": 108,
      "metadata": {
        "id": "rViJsX6ZWpJQ",
        "outputId": "11ab2279-bf42-4b90-af0d-c23ba0e171ce",
        "colab": {
          "base_uri": "https://localhost:8080/"
        }
      },
      "outputs": [
        {
          "output_type": "stream",
          "name": "stdout",
          "text": [
            "Existem 29 processos onde o valor do frete é maior do que o valor do produto.\n"
          ]
        }
      ],
      "source": [
        "df_fretes_plus = df[df['Valor do frete'] > df['Total produtos']]\n",
        "print(f\"Existem {df_fretes_plus.shape[0]} processos onde o valor do frete é maior do que o valor do produto.\")"
      ]
    },
    {
      "cell_type": "markdown",
      "metadata": {
        "id": "gmlrvPb2WpJR"
      },
      "source": [
        "*************"
      ]
    },
    {
      "cell_type": "code",
      "execution_count": 109,
      "metadata": {
        "id": "HIHJFSgAWpJR",
        "outputId": "cc3a0160-58b7-40d9-8bf0-777ad26d1426",
        "colab": {
          "base_uri": "https://localhost:8080/",
          "height": 263
        }
      },
      "outputs": [
        {
          "output_type": "execute_result",
          "data": {
            "text/plain": [
              "  Ped.              Status                 Data      Forma de Pag.  \\\n",
              "0  345  Entrega Confirmada  26/10/2021 11:18:31  Cart�o de Cr�dito   \n",
              "1  346  Entrega Confirmada  01/11/2021 22:46:41             Boleto   \n",
              "\n",
              "  N�m. Parcelas  Valor parcelas  Total produtos  Valor do frete  \\\n",
              "0             1           19.00            70.0           19.00   \n",
              "1             1           53.01            70.0           53.01   \n",
              "\n",
              "   Desconto no cupom  Total do pedido Obs. do Pedido  \\\n",
              "0               70.0            19.00                  \n",
              "1               70.0            53.01                  \n",
              "\n",
              "            Nome do cliente                  Endere�o N�mero Complemento  \\\n",
              "0  Amanda Aparecida de Lima  Rua Jo�o Batista de Melo     58        Casa   \n",
              "1        Guilherme Bernardi                   Rua 150     79               \n",
              "\n",
              "                Bairro                Cidade  UF       CEP Nome Produto Princ.  \n",
              "0               Centro         Lagoa Dourada  MG  36345000        KIT MARATONA  \n",
              "1  Distrito Industrial  Frederico Westphalen  RS  98400000        KIT MARATONA  "
            ],
            "text/html": [
              "\n",
              "  <div id=\"df-7e22865e-81b2-4d5b-b39b-4695287d3777\">\n",
              "    <div class=\"colab-df-container\">\n",
              "      <div>\n",
              "<style scoped>\n",
              "    .dataframe tbody tr th:only-of-type {\n",
              "        vertical-align: middle;\n",
              "    }\n",
              "\n",
              "    .dataframe tbody tr th {\n",
              "        vertical-align: top;\n",
              "    }\n",
              "\n",
              "    .dataframe thead th {\n",
              "        text-align: right;\n",
              "    }\n",
              "</style>\n",
              "<table border=\"1\" class=\"dataframe\">\n",
              "  <thead>\n",
              "    <tr style=\"text-align: right;\">\n",
              "      <th></th>\n",
              "      <th>Ped.</th>\n",
              "      <th>Status</th>\n",
              "      <th>Data</th>\n",
              "      <th>Forma de Pag.</th>\n",
              "      <th>N�m. Parcelas</th>\n",
              "      <th>Valor parcelas</th>\n",
              "      <th>Total produtos</th>\n",
              "      <th>Valor do frete</th>\n",
              "      <th>Desconto no cupom</th>\n",
              "      <th>Total do pedido</th>\n",
              "      <th>Obs. do Pedido</th>\n",
              "      <th>Nome do cliente</th>\n",
              "      <th>Endere�o</th>\n",
              "      <th>N�mero</th>\n",
              "      <th>Complemento</th>\n",
              "      <th>Bairro</th>\n",
              "      <th>Cidade</th>\n",
              "      <th>UF</th>\n",
              "      <th>CEP</th>\n",
              "      <th>Nome Produto Princ.</th>\n",
              "    </tr>\n",
              "  </thead>\n",
              "  <tbody>\n",
              "    <tr>\n",
              "      <th>0</th>\n",
              "      <td>345</td>\n",
              "      <td>Entrega Confirmada</td>\n",
              "      <td>26/10/2021 11:18:31</td>\n",
              "      <td>Cart�o de Cr�dito</td>\n",
              "      <td>1</td>\n",
              "      <td>19.00</td>\n",
              "      <td>70.0</td>\n",
              "      <td>19.00</td>\n",
              "      <td>70.0</td>\n",
              "      <td>19.00</td>\n",
              "      <td></td>\n",
              "      <td>Amanda Aparecida de Lima</td>\n",
              "      <td>Rua Jo�o Batista de Melo</td>\n",
              "      <td>58</td>\n",
              "      <td>Casa</td>\n",
              "      <td>Centro</td>\n",
              "      <td>Lagoa Dourada</td>\n",
              "      <td>MG</td>\n",
              "      <td>36345000</td>\n",
              "      <td>KIT MARATONA</td>\n",
              "    </tr>\n",
              "    <tr>\n",
              "      <th>1</th>\n",
              "      <td>346</td>\n",
              "      <td>Entrega Confirmada</td>\n",
              "      <td>01/11/2021 22:46:41</td>\n",
              "      <td>Boleto</td>\n",
              "      <td>1</td>\n",
              "      <td>53.01</td>\n",
              "      <td>70.0</td>\n",
              "      <td>53.01</td>\n",
              "      <td>70.0</td>\n",
              "      <td>53.01</td>\n",
              "      <td></td>\n",
              "      <td>Guilherme Bernardi</td>\n",
              "      <td>Rua 150</td>\n",
              "      <td>79</td>\n",
              "      <td></td>\n",
              "      <td>Distrito Industrial</td>\n",
              "      <td>Frederico Westphalen</td>\n",
              "      <td>RS</td>\n",
              "      <td>98400000</td>\n",
              "      <td>KIT MARATONA</td>\n",
              "    </tr>\n",
              "  </tbody>\n",
              "</table>\n",
              "</div>\n",
              "      <button class=\"colab-df-convert\" onclick=\"convertToInteractive('df-7e22865e-81b2-4d5b-b39b-4695287d3777')\"\n",
              "              title=\"Convert this dataframe to an interactive table.\"\n",
              "              style=\"display:none;\">\n",
              "        \n",
              "  <svg xmlns=\"http://www.w3.org/2000/svg\" height=\"24px\"viewBox=\"0 0 24 24\"\n",
              "       width=\"24px\">\n",
              "    <path d=\"M0 0h24v24H0V0z\" fill=\"none\"/>\n",
              "    <path d=\"M18.56 5.44l.94 2.06.94-2.06 2.06-.94-2.06-.94-.94-2.06-.94 2.06-2.06.94zm-11 1L8.5 8.5l.94-2.06 2.06-.94-2.06-.94L8.5 2.5l-.94 2.06-2.06.94zm10 10l.94 2.06.94-2.06 2.06-.94-2.06-.94-.94-2.06-.94 2.06-2.06.94z\"/><path d=\"M17.41 7.96l-1.37-1.37c-.4-.4-.92-.59-1.43-.59-.52 0-1.04.2-1.43.59L10.3 9.45l-7.72 7.72c-.78.78-.78 2.05 0 2.83L4 21.41c.39.39.9.59 1.41.59.51 0 1.02-.2 1.41-.59l7.78-7.78 2.81-2.81c.8-.78.8-2.07 0-2.86zM5.41 20L4 18.59l7.72-7.72 1.47 1.35L5.41 20z\"/>\n",
              "  </svg>\n",
              "      </button>\n",
              "      \n",
              "  <style>\n",
              "    .colab-df-container {\n",
              "      display:flex;\n",
              "      flex-wrap:wrap;\n",
              "      gap: 12px;\n",
              "    }\n",
              "\n",
              "    .colab-df-convert {\n",
              "      background-color: #E8F0FE;\n",
              "      border: none;\n",
              "      border-radius: 50%;\n",
              "      cursor: pointer;\n",
              "      display: none;\n",
              "      fill: #1967D2;\n",
              "      height: 32px;\n",
              "      padding: 0 0 0 0;\n",
              "      width: 32px;\n",
              "    }\n",
              "\n",
              "    .colab-df-convert:hover {\n",
              "      background-color: #E2EBFA;\n",
              "      box-shadow: 0px 1px 2px rgba(60, 64, 67, 0.3), 0px 1px 3px 1px rgba(60, 64, 67, 0.15);\n",
              "      fill: #174EA6;\n",
              "    }\n",
              "\n",
              "    [theme=dark] .colab-df-convert {\n",
              "      background-color: #3B4455;\n",
              "      fill: #D2E3FC;\n",
              "    }\n",
              "\n",
              "    [theme=dark] .colab-df-convert:hover {\n",
              "      background-color: #434B5C;\n",
              "      box-shadow: 0px 1px 3px 1px rgba(0, 0, 0, 0.15);\n",
              "      filter: drop-shadow(0px 1px 2px rgba(0, 0, 0, 0.3));\n",
              "      fill: #FFFFFF;\n",
              "    }\n",
              "  </style>\n",
              "\n",
              "      <script>\n",
              "        const buttonEl =\n",
              "          document.querySelector('#df-7e22865e-81b2-4d5b-b39b-4695287d3777 button.colab-df-convert');\n",
              "        buttonEl.style.display =\n",
              "          google.colab.kernel.accessAllowed ? 'block' : 'none';\n",
              "\n",
              "        async function convertToInteractive(key) {\n",
              "          const element = document.querySelector('#df-7e22865e-81b2-4d5b-b39b-4695287d3777');\n",
              "          const dataTable =\n",
              "            await google.colab.kernel.invokeFunction('convertToInteractive',\n",
              "                                                     [key], {});\n",
              "          if (!dataTable) return;\n",
              "\n",
              "          const docLinkHtml = 'Like what you see? Visit the ' +\n",
              "            '<a target=\"_blank\" href=https://colab.research.google.com/notebooks/data_table.ipynb>data table notebook</a>'\n",
              "            + ' to learn more about interactive tables.';\n",
              "          element.innerHTML = '';\n",
              "          dataTable['output_type'] = 'display_data';\n",
              "          await google.colab.output.renderOutput(dataTable, element);\n",
              "          const docLink = document.createElement('div');\n",
              "          docLink.innerHTML = docLinkHtml;\n",
              "          element.appendChild(docLink);\n",
              "        }\n",
              "      </script>\n",
              "    </div>\n",
              "  </div>\n",
              "  "
            ]
          },
          "metadata": {},
          "execution_count": 109
        }
      ],
      "source": [
        "df.head(2)"
      ]
    },
    {
      "cell_type": "code",
      "execution_count": 110,
      "metadata": {
        "id": "M4_2SmwIWpJR",
        "outputId": "0f7e22c5-1d52-4c72-9f72-5c2440be7237",
        "colab": {
          "base_uri": "https://localhost:8080/"
        }
      },
      "outputs": [
        {
          "output_type": "execute_result",
          "data": {
            "text/plain": [
              "(29, 20)"
            ]
          },
          "metadata": {},
          "execution_count": 110
        }
      ],
      "source": [
        "df_anomalias_frete = df[df['Total produtos'] < df['Valor do frete']]\n",
        "df_anomalias_frete.shape"
      ]
    },
    {
      "cell_type": "code",
      "execution_count": 111,
      "metadata": {
        "id": "ohydQ_ZuWpJS",
        "outputId": "7feb566d-7b8f-423c-ca92-b9ee3f9c5ba9",
        "colab": {
          "base_uri": "https://localhost:8080/"
        }
      },
      "outputs": [
        {
          "output_type": "execute_result",
          "data": {
            "text/plain": [
              "(26, 20)"
            ]
          },
          "metadata": {},
          "execution_count": 111
        }
      ],
      "source": [
        "filtro = (df['Total produtos'] < df['Valor do frete']) & (df['Status'] == 'Pedido Interrompido')\n",
        "df_filtrado = df[filtro]\n",
        "df_filtrado.shape"
      ]
    },
    {
      "cell_type": "code",
      "execution_count": 112,
      "metadata": {
        "id": "y_kDxJRGWpJS",
        "outputId": "4ea713d2-f0a9-4138-89ab-5714fcd66d5f",
        "colab": {
          "base_uri": "https://localhost:8080/"
        }
      },
      "outputs": [
        {
          "output_type": "execute_result",
          "data": {
            "text/plain": [
              "(3, 20)"
            ]
          },
          "metadata": {},
          "execution_count": 112
        }
      ],
      "source": [
        "filtro2 = (df['Total produtos'] < df['Valor do frete']) & (df['Status'] == 'Entrega Confirmada')\n",
        "df_filtrado2 = df[filtro2]\n",
        "df_filtrado2.shape"
      ]
    },
    {
      "cell_type": "code",
      "execution_count": 113,
      "metadata": {
        "id": "2liDODj6WpJS"
      },
      "outputs": [],
      "source": [
        "df.to_csv('tabela.csv', index=False)"
      ]
    },
    {
      "cell_type": "markdown",
      "metadata": {
        "id": "Ui3zC_3lWpJS"
      },
      "source": [
        "## Data Preparation"
      ]
    },
    {
      "cell_type": "markdown",
      "metadata": {
        "id": "IqkeVwEOWpJT"
      },
      "source": [
        "### 1 - Limpeza de dados: \n",
        "* verifique se existem valores faltantes, outliers ou dados inconsistentes e decida a melhor maneira de tratá-los. Isso pode envolver a exclusão de dados, a imputação de valores faltantes ou a transformação de dados discrepantes."
      ]
    },
    {
      "cell_type": "code",
      "execution_count": 114,
      "metadata": {
        "id": "2b76fxnCWpJT",
        "outputId": "a020a7ab-9cc7-4ab1-b89f-0d1ba58befb8",
        "colab": {
          "base_uri": "https://localhost:8080/",
          "height": 461
        }
      },
      "outputs": [
        {
          "output_type": "execute_result",
          "data": {
            "text/plain": [
              "   Ped.               Status                 Data      Forma de Pag.  \\\n",
              "0   345   Entrega Confirmada  26/10/2021 11:18:31  Cart�o de Cr�dito   \n",
              "1   346   Entrega Confirmada  01/11/2021 22:46:41             Boleto   \n",
              "2   186  Pedido Interrompido  12/12/2020 03:35:33  Cart�o de Cr�dito   \n",
              "3   145   Entrega Confirmada  28/09/2020 14:55:53             Boleto   \n",
              "4   270   Entrega Confirmada  17/05/2021 12:37:32             Boleto   \n",
              "\n",
              "   N�m. Parcelas  Valor parcelas  Total produtos  Valor do frete  \\\n",
              "0              1           19.00            70.0           19.00   \n",
              "1              1           53.01            70.0           53.01   \n",
              "2              3          414.41           157.7          256.71   \n",
              "3              0          158.75           138.0           20.75   \n",
              "4              0          285.26           214.5           70.76   \n",
              "\n",
              "   Desconto no cupom  Total do pedido Obs. do Pedido  \\\n",
              "0               70.0            19.00            NaN   \n",
              "1               70.0            53.01            NaN   \n",
              "2                0.0           414.41            NaN   \n",
              "3                0.0           158.75            NaN   \n",
              "4                0.0           285.26            NaN   \n",
              "\n",
              "              Nome do cliente                  Endere�o  N�mero Complemento  \\\n",
              "0    Amanda Aparecida de Lima  Rua Jo�o Batista de Melo    58.0        Casa   \n",
              "1          Guilherme Bernardi                   Rua 150    79.0         NaN   \n",
              "2  Elischeif Neves Crisostomo               Rua Cardeal    30.0         NaN   \n",
              "3                Casa Manzano                Rua Gra�na   189.0         NaN   \n",
              "4                           -             Rua Guatemala    65.0         NaN   \n",
              "\n",
              "                Bairro                Cidade  UF       CEP  \\\n",
              "0               Centro         Lagoa Dourada  MG  36345000   \n",
              "1  Distrito Industrial  Frederico Westphalen  RS  98400000   \n",
              "2             Inhoa�ba        Rio de Janeiro  RJ  23064470   \n",
              "3      Vila Uberabinha             S�o Paulo  SP   4514000   \n",
              "4          Santa Luzia           S�o Gon�alo  RJ  24722405   \n",
              "\n",
              "                                 Nome Produto Princ.  \n",
              "0                                       KIT MARATONA  \n",
              "1                                       KIT MARATONA  \n",
              "2  Queijo Canastra Artesanal EspecialParmes�o Fre...  \n",
              "3                                  Geleia de Pimenta  \n",
              "4                Queijo Canastra Artesanal Meia Cura  "
            ],
            "text/html": [
              "\n",
              "  <div id=\"df-1a35fb18-0baa-460b-b723-d436d8485b2e\">\n",
              "    <div class=\"colab-df-container\">\n",
              "      <div>\n",
              "<style scoped>\n",
              "    .dataframe tbody tr th:only-of-type {\n",
              "        vertical-align: middle;\n",
              "    }\n",
              "\n",
              "    .dataframe tbody tr th {\n",
              "        vertical-align: top;\n",
              "    }\n",
              "\n",
              "    .dataframe thead th {\n",
              "        text-align: right;\n",
              "    }\n",
              "</style>\n",
              "<table border=\"1\" class=\"dataframe\">\n",
              "  <thead>\n",
              "    <tr style=\"text-align: right;\">\n",
              "      <th></th>\n",
              "      <th>Ped.</th>\n",
              "      <th>Status</th>\n",
              "      <th>Data</th>\n",
              "      <th>Forma de Pag.</th>\n",
              "      <th>N�m. Parcelas</th>\n",
              "      <th>Valor parcelas</th>\n",
              "      <th>Total produtos</th>\n",
              "      <th>Valor do frete</th>\n",
              "      <th>Desconto no cupom</th>\n",
              "      <th>Total do pedido</th>\n",
              "      <th>Obs. do Pedido</th>\n",
              "      <th>Nome do cliente</th>\n",
              "      <th>Endere�o</th>\n",
              "      <th>N�mero</th>\n",
              "      <th>Complemento</th>\n",
              "      <th>Bairro</th>\n",
              "      <th>Cidade</th>\n",
              "      <th>UF</th>\n",
              "      <th>CEP</th>\n",
              "      <th>Nome Produto Princ.</th>\n",
              "    </tr>\n",
              "  </thead>\n",
              "  <tbody>\n",
              "    <tr>\n",
              "      <th>0</th>\n",
              "      <td>345</td>\n",
              "      <td>Entrega Confirmada</td>\n",
              "      <td>26/10/2021 11:18:31</td>\n",
              "      <td>Cart�o de Cr�dito</td>\n",
              "      <td>1</td>\n",
              "      <td>19.00</td>\n",
              "      <td>70.0</td>\n",
              "      <td>19.00</td>\n",
              "      <td>70.0</td>\n",
              "      <td>19.00</td>\n",
              "      <td>NaN</td>\n",
              "      <td>Amanda Aparecida de Lima</td>\n",
              "      <td>Rua Jo�o Batista de Melo</td>\n",
              "      <td>58.0</td>\n",
              "      <td>Casa</td>\n",
              "      <td>Centro</td>\n",
              "      <td>Lagoa Dourada</td>\n",
              "      <td>MG</td>\n",
              "      <td>36345000</td>\n",
              "      <td>KIT MARATONA</td>\n",
              "    </tr>\n",
              "    <tr>\n",
              "      <th>1</th>\n",
              "      <td>346</td>\n",
              "      <td>Entrega Confirmada</td>\n",
              "      <td>01/11/2021 22:46:41</td>\n",
              "      <td>Boleto</td>\n",
              "      <td>1</td>\n",
              "      <td>53.01</td>\n",
              "      <td>70.0</td>\n",
              "      <td>53.01</td>\n",
              "      <td>70.0</td>\n",
              "      <td>53.01</td>\n",
              "      <td>NaN</td>\n",
              "      <td>Guilherme Bernardi</td>\n",
              "      <td>Rua 150</td>\n",
              "      <td>79.0</td>\n",
              "      <td>NaN</td>\n",
              "      <td>Distrito Industrial</td>\n",
              "      <td>Frederico Westphalen</td>\n",
              "      <td>RS</td>\n",
              "      <td>98400000</td>\n",
              "      <td>KIT MARATONA</td>\n",
              "    </tr>\n",
              "    <tr>\n",
              "      <th>2</th>\n",
              "      <td>186</td>\n",
              "      <td>Pedido Interrompido</td>\n",
              "      <td>12/12/2020 03:35:33</td>\n",
              "      <td>Cart�o de Cr�dito</td>\n",
              "      <td>3</td>\n",
              "      <td>414.41</td>\n",
              "      <td>157.7</td>\n",
              "      <td>256.71</td>\n",
              "      <td>0.0</td>\n",
              "      <td>414.41</td>\n",
              "      <td>NaN</td>\n",
              "      <td>Elischeif Neves Crisostomo</td>\n",
              "      <td>Rua Cardeal</td>\n",
              "      <td>30.0</td>\n",
              "      <td>NaN</td>\n",
              "      <td>Inhoa�ba</td>\n",
              "      <td>Rio de Janeiro</td>\n",
              "      <td>RJ</td>\n",
              "      <td>23064470</td>\n",
              "      <td>Queijo Canastra Artesanal EspecialParmes�o Fre...</td>\n",
              "    </tr>\n",
              "    <tr>\n",
              "      <th>3</th>\n",
              "      <td>145</td>\n",
              "      <td>Entrega Confirmada</td>\n",
              "      <td>28/09/2020 14:55:53</td>\n",
              "      <td>Boleto</td>\n",
              "      <td>0</td>\n",
              "      <td>158.75</td>\n",
              "      <td>138.0</td>\n",
              "      <td>20.75</td>\n",
              "      <td>0.0</td>\n",
              "      <td>158.75</td>\n",
              "      <td>NaN</td>\n",
              "      <td>Casa Manzano</td>\n",
              "      <td>Rua Gra�na</td>\n",
              "      <td>189.0</td>\n",
              "      <td>NaN</td>\n",
              "      <td>Vila Uberabinha</td>\n",
              "      <td>S�o Paulo</td>\n",
              "      <td>SP</td>\n",
              "      <td>4514000</td>\n",
              "      <td>Geleia de Pimenta</td>\n",
              "    </tr>\n",
              "    <tr>\n",
              "      <th>4</th>\n",
              "      <td>270</td>\n",
              "      <td>Entrega Confirmada</td>\n",
              "      <td>17/05/2021 12:37:32</td>\n",
              "      <td>Boleto</td>\n",
              "      <td>0</td>\n",
              "      <td>285.26</td>\n",
              "      <td>214.5</td>\n",
              "      <td>70.76</td>\n",
              "      <td>0.0</td>\n",
              "      <td>285.26</td>\n",
              "      <td>NaN</td>\n",
              "      <td>-</td>\n",
              "      <td>Rua Guatemala</td>\n",
              "      <td>65.0</td>\n",
              "      <td>NaN</td>\n",
              "      <td>Santa Luzia</td>\n",
              "      <td>S�o Gon�alo</td>\n",
              "      <td>RJ</td>\n",
              "      <td>24722405</td>\n",
              "      <td>Queijo Canastra Artesanal Meia Cura</td>\n",
              "    </tr>\n",
              "  </tbody>\n",
              "</table>\n",
              "</div>\n",
              "      <button class=\"colab-df-convert\" onclick=\"convertToInteractive('df-1a35fb18-0baa-460b-b723-d436d8485b2e')\"\n",
              "              title=\"Convert this dataframe to an interactive table.\"\n",
              "              style=\"display:none;\">\n",
              "        \n",
              "  <svg xmlns=\"http://www.w3.org/2000/svg\" height=\"24px\"viewBox=\"0 0 24 24\"\n",
              "       width=\"24px\">\n",
              "    <path d=\"M0 0h24v24H0V0z\" fill=\"none\"/>\n",
              "    <path d=\"M18.56 5.44l.94 2.06.94-2.06 2.06-.94-2.06-.94-.94-2.06-.94 2.06-2.06.94zm-11 1L8.5 8.5l.94-2.06 2.06-.94-2.06-.94L8.5 2.5l-.94 2.06-2.06.94zm10 10l.94 2.06.94-2.06 2.06-.94-2.06-.94-.94-2.06-.94 2.06-2.06.94z\"/><path d=\"M17.41 7.96l-1.37-1.37c-.4-.4-.92-.59-1.43-.59-.52 0-1.04.2-1.43.59L10.3 9.45l-7.72 7.72c-.78.78-.78 2.05 0 2.83L4 21.41c.39.39.9.59 1.41.59.51 0 1.02-.2 1.41-.59l7.78-7.78 2.81-2.81c.8-.78.8-2.07 0-2.86zM5.41 20L4 18.59l7.72-7.72 1.47 1.35L5.41 20z\"/>\n",
              "  </svg>\n",
              "      </button>\n",
              "      \n",
              "  <style>\n",
              "    .colab-df-container {\n",
              "      display:flex;\n",
              "      flex-wrap:wrap;\n",
              "      gap: 12px;\n",
              "    }\n",
              "\n",
              "    .colab-df-convert {\n",
              "      background-color: #E8F0FE;\n",
              "      border: none;\n",
              "      border-radius: 50%;\n",
              "      cursor: pointer;\n",
              "      display: none;\n",
              "      fill: #1967D2;\n",
              "      height: 32px;\n",
              "      padding: 0 0 0 0;\n",
              "      width: 32px;\n",
              "    }\n",
              "\n",
              "    .colab-df-convert:hover {\n",
              "      background-color: #E2EBFA;\n",
              "      box-shadow: 0px 1px 2px rgba(60, 64, 67, 0.3), 0px 1px 3px 1px rgba(60, 64, 67, 0.15);\n",
              "      fill: #174EA6;\n",
              "    }\n",
              "\n",
              "    [theme=dark] .colab-df-convert {\n",
              "      background-color: #3B4455;\n",
              "      fill: #D2E3FC;\n",
              "    }\n",
              "\n",
              "    [theme=dark] .colab-df-convert:hover {\n",
              "      background-color: #434B5C;\n",
              "      box-shadow: 0px 1px 3px 1px rgba(0, 0, 0, 0.15);\n",
              "      filter: drop-shadow(0px 1px 2px rgba(0, 0, 0, 0.3));\n",
              "      fill: #FFFFFF;\n",
              "    }\n",
              "  </style>\n",
              "\n",
              "      <script>\n",
              "        const buttonEl =\n",
              "          document.querySelector('#df-1a35fb18-0baa-460b-b723-d436d8485b2e button.colab-df-convert');\n",
              "        buttonEl.style.display =\n",
              "          google.colab.kernel.accessAllowed ? 'block' : 'none';\n",
              "\n",
              "        async function convertToInteractive(key) {\n",
              "          const element = document.querySelector('#df-1a35fb18-0baa-460b-b723-d436d8485b2e');\n",
              "          const dataTable =\n",
              "            await google.colab.kernel.invokeFunction('convertToInteractive',\n",
              "                                                     [key], {});\n",
              "          if (!dataTable) return;\n",
              "\n",
              "          const docLinkHtml = 'Like what you see? Visit the ' +\n",
              "            '<a target=\"_blank\" href=https://colab.research.google.com/notebooks/data_table.ipynb>data table notebook</a>'\n",
              "            + ' to learn more about interactive tables.';\n",
              "          element.innerHTML = '';\n",
              "          dataTable['output_type'] = 'display_data';\n",
              "          await google.colab.output.renderOutput(dataTable, element);\n",
              "          const docLink = document.createElement('div');\n",
              "          docLink.innerHTML = docLinkHtml;\n",
              "          element.appendChild(docLink);\n",
              "        }\n",
              "      </script>\n",
              "    </div>\n",
              "  </div>\n",
              "  "
            ]
          },
          "metadata": {},
          "execution_count": 114
        }
      ],
      "source": [
        "#df = pd.read_csv('/home/michel/Documentos/Escola DNC/Projeto_DM/tabela.csv')\n",
        "df = pd.read_csv('/content/tabela.csv')\n",
        "df.head()"
      ]
    },
    {
      "cell_type": "code",
      "execution_count": 115,
      "metadata": {
        "id": "YFBLF86LWpJT",
        "outputId": "591c00b8-528c-4111-85f6-60880415e86e",
        "colab": {
          "base_uri": "https://localhost:8080/",
          "height": 461
        }
      },
      "outputs": [
        {
          "output_type": "execute_result",
          "data": {
            "text/plain": [
              "   Ped.               Status                 Data      Forma de Pag.  \\\n",
              "0   345   Entrega Confirmada  26/10/2021 11:18:31  Cart�o de Cr�dito   \n",
              "1   346   Entrega Confirmada  01/11/2021 22:46:41             Boleto   \n",
              "2   186  Pedido Interrompido  12/12/2020 03:35:33  Cart�o de Cr�dito   \n",
              "3   145   Entrega Confirmada  28/09/2020 14:55:53             Boleto   \n",
              "4   270   Entrega Confirmada  17/05/2021 12:37:32             Boleto   \n",
              "\n",
              "   N�m. Parcelas  Valor parcelas  Total produtos  Valor do frete  \\\n",
              "0              1           19.00            70.0           19.00   \n",
              "1              1           53.01            70.0           53.01   \n",
              "2              3          414.41           157.7          256.71   \n",
              "3              0          158.75           138.0           20.75   \n",
              "4              0          285.26           214.5           70.76   \n",
              "\n",
              "   Desconto no cupom  Total do pedido Obs. do Pedido  \\\n",
              "0               70.0            19.00            NaN   \n",
              "1               70.0            53.01            NaN   \n",
              "2                0.0           414.41            NaN   \n",
              "3                0.0           158.75            NaN   \n",
              "4                0.0           285.26            NaN   \n",
              "\n",
              "              Nome do cliente                  Endere�o  N�mero Complemento  \\\n",
              "0    Amanda Aparecida de Lima  Rua Jo�o Batista de Melo    58.0        Casa   \n",
              "1          Guilherme Bernardi                   Rua 150    79.0         NaN   \n",
              "2  Elischeif Neves Crisostomo               Rua Cardeal    30.0         NaN   \n",
              "3                Casa Manzano                Rua Gra�na   189.0         NaN   \n",
              "4                           -             Rua Guatemala    65.0         NaN   \n",
              "\n",
              "                Bairro                Cidade  UF       CEP  \\\n",
              "0               Centro         Lagoa Dourada  MG  36345000   \n",
              "1  Distrito Industrial  Frederico Westphalen  RS  98400000   \n",
              "2             Inhoa�ba        Rio de Janeiro  RJ  23064470   \n",
              "3      Vila Uberabinha             S�o Paulo  SP   4514000   \n",
              "4          Santa Luzia           S�o Gon�alo  RJ  24722405   \n",
              "\n",
              "                                 Nome Produto Princ.  \n",
              "0                                       KIT MARATONA  \n",
              "1                                       KIT MARATONA  \n",
              "2  Queijo Canastra Artesanal EspecialParmes�o Fre...  \n",
              "3                                  Geleia de Pimenta  \n",
              "4                Queijo Canastra Artesanal Meia Cura  "
            ],
            "text/html": [
              "\n",
              "  <div id=\"df-e027c1eb-9fd1-4360-8346-44dae88dd777\">\n",
              "    <div class=\"colab-df-container\">\n",
              "      <div>\n",
              "<style scoped>\n",
              "    .dataframe tbody tr th:only-of-type {\n",
              "        vertical-align: middle;\n",
              "    }\n",
              "\n",
              "    .dataframe tbody tr th {\n",
              "        vertical-align: top;\n",
              "    }\n",
              "\n",
              "    .dataframe thead th {\n",
              "        text-align: right;\n",
              "    }\n",
              "</style>\n",
              "<table border=\"1\" class=\"dataframe\">\n",
              "  <thead>\n",
              "    <tr style=\"text-align: right;\">\n",
              "      <th></th>\n",
              "      <th>Ped.</th>\n",
              "      <th>Status</th>\n",
              "      <th>Data</th>\n",
              "      <th>Forma de Pag.</th>\n",
              "      <th>N�m. Parcelas</th>\n",
              "      <th>Valor parcelas</th>\n",
              "      <th>Total produtos</th>\n",
              "      <th>Valor do frete</th>\n",
              "      <th>Desconto no cupom</th>\n",
              "      <th>Total do pedido</th>\n",
              "      <th>Obs. do Pedido</th>\n",
              "      <th>Nome do cliente</th>\n",
              "      <th>Endere�o</th>\n",
              "      <th>N�mero</th>\n",
              "      <th>Complemento</th>\n",
              "      <th>Bairro</th>\n",
              "      <th>Cidade</th>\n",
              "      <th>UF</th>\n",
              "      <th>CEP</th>\n",
              "      <th>Nome Produto Princ.</th>\n",
              "    </tr>\n",
              "  </thead>\n",
              "  <tbody>\n",
              "    <tr>\n",
              "      <th>0</th>\n",
              "      <td>345</td>\n",
              "      <td>Entrega Confirmada</td>\n",
              "      <td>26/10/2021 11:18:31</td>\n",
              "      <td>Cart�o de Cr�dito</td>\n",
              "      <td>1</td>\n",
              "      <td>19.00</td>\n",
              "      <td>70.0</td>\n",
              "      <td>19.00</td>\n",
              "      <td>70.0</td>\n",
              "      <td>19.00</td>\n",
              "      <td>NaN</td>\n",
              "      <td>Amanda Aparecida de Lima</td>\n",
              "      <td>Rua Jo�o Batista de Melo</td>\n",
              "      <td>58.0</td>\n",
              "      <td>Casa</td>\n",
              "      <td>Centro</td>\n",
              "      <td>Lagoa Dourada</td>\n",
              "      <td>MG</td>\n",
              "      <td>36345000</td>\n",
              "      <td>KIT MARATONA</td>\n",
              "    </tr>\n",
              "    <tr>\n",
              "      <th>1</th>\n",
              "      <td>346</td>\n",
              "      <td>Entrega Confirmada</td>\n",
              "      <td>01/11/2021 22:46:41</td>\n",
              "      <td>Boleto</td>\n",
              "      <td>1</td>\n",
              "      <td>53.01</td>\n",
              "      <td>70.0</td>\n",
              "      <td>53.01</td>\n",
              "      <td>70.0</td>\n",
              "      <td>53.01</td>\n",
              "      <td>NaN</td>\n",
              "      <td>Guilherme Bernardi</td>\n",
              "      <td>Rua 150</td>\n",
              "      <td>79.0</td>\n",
              "      <td>NaN</td>\n",
              "      <td>Distrito Industrial</td>\n",
              "      <td>Frederico Westphalen</td>\n",
              "      <td>RS</td>\n",
              "      <td>98400000</td>\n",
              "      <td>KIT MARATONA</td>\n",
              "    </tr>\n",
              "    <tr>\n",
              "      <th>2</th>\n",
              "      <td>186</td>\n",
              "      <td>Pedido Interrompido</td>\n",
              "      <td>12/12/2020 03:35:33</td>\n",
              "      <td>Cart�o de Cr�dito</td>\n",
              "      <td>3</td>\n",
              "      <td>414.41</td>\n",
              "      <td>157.7</td>\n",
              "      <td>256.71</td>\n",
              "      <td>0.0</td>\n",
              "      <td>414.41</td>\n",
              "      <td>NaN</td>\n",
              "      <td>Elischeif Neves Crisostomo</td>\n",
              "      <td>Rua Cardeal</td>\n",
              "      <td>30.0</td>\n",
              "      <td>NaN</td>\n",
              "      <td>Inhoa�ba</td>\n",
              "      <td>Rio de Janeiro</td>\n",
              "      <td>RJ</td>\n",
              "      <td>23064470</td>\n",
              "      <td>Queijo Canastra Artesanal EspecialParmes�o Fre...</td>\n",
              "    </tr>\n",
              "    <tr>\n",
              "      <th>3</th>\n",
              "      <td>145</td>\n",
              "      <td>Entrega Confirmada</td>\n",
              "      <td>28/09/2020 14:55:53</td>\n",
              "      <td>Boleto</td>\n",
              "      <td>0</td>\n",
              "      <td>158.75</td>\n",
              "      <td>138.0</td>\n",
              "      <td>20.75</td>\n",
              "      <td>0.0</td>\n",
              "      <td>158.75</td>\n",
              "      <td>NaN</td>\n",
              "      <td>Casa Manzano</td>\n",
              "      <td>Rua Gra�na</td>\n",
              "      <td>189.0</td>\n",
              "      <td>NaN</td>\n",
              "      <td>Vila Uberabinha</td>\n",
              "      <td>S�o Paulo</td>\n",
              "      <td>SP</td>\n",
              "      <td>4514000</td>\n",
              "      <td>Geleia de Pimenta</td>\n",
              "    </tr>\n",
              "    <tr>\n",
              "      <th>4</th>\n",
              "      <td>270</td>\n",
              "      <td>Entrega Confirmada</td>\n",
              "      <td>17/05/2021 12:37:32</td>\n",
              "      <td>Boleto</td>\n",
              "      <td>0</td>\n",
              "      <td>285.26</td>\n",
              "      <td>214.5</td>\n",
              "      <td>70.76</td>\n",
              "      <td>0.0</td>\n",
              "      <td>285.26</td>\n",
              "      <td>NaN</td>\n",
              "      <td>-</td>\n",
              "      <td>Rua Guatemala</td>\n",
              "      <td>65.0</td>\n",
              "      <td>NaN</td>\n",
              "      <td>Santa Luzia</td>\n",
              "      <td>S�o Gon�alo</td>\n",
              "      <td>RJ</td>\n",
              "      <td>24722405</td>\n",
              "      <td>Queijo Canastra Artesanal Meia Cura</td>\n",
              "    </tr>\n",
              "  </tbody>\n",
              "</table>\n",
              "</div>\n",
              "      <button class=\"colab-df-convert\" onclick=\"convertToInteractive('df-e027c1eb-9fd1-4360-8346-44dae88dd777')\"\n",
              "              title=\"Convert this dataframe to an interactive table.\"\n",
              "              style=\"display:none;\">\n",
              "        \n",
              "  <svg xmlns=\"http://www.w3.org/2000/svg\" height=\"24px\"viewBox=\"0 0 24 24\"\n",
              "       width=\"24px\">\n",
              "    <path d=\"M0 0h24v24H0V0z\" fill=\"none\"/>\n",
              "    <path d=\"M18.56 5.44l.94 2.06.94-2.06 2.06-.94-2.06-.94-.94-2.06-.94 2.06-2.06.94zm-11 1L8.5 8.5l.94-2.06 2.06-.94-2.06-.94L8.5 2.5l-.94 2.06-2.06.94zm10 10l.94 2.06.94-2.06 2.06-.94-2.06-.94-.94-2.06-.94 2.06-2.06.94z\"/><path d=\"M17.41 7.96l-1.37-1.37c-.4-.4-.92-.59-1.43-.59-.52 0-1.04.2-1.43.59L10.3 9.45l-7.72 7.72c-.78.78-.78 2.05 0 2.83L4 21.41c.39.39.9.59 1.41.59.51 0 1.02-.2 1.41-.59l7.78-7.78 2.81-2.81c.8-.78.8-2.07 0-2.86zM5.41 20L4 18.59l7.72-7.72 1.47 1.35L5.41 20z\"/>\n",
              "  </svg>\n",
              "      </button>\n",
              "      \n",
              "  <style>\n",
              "    .colab-df-container {\n",
              "      display:flex;\n",
              "      flex-wrap:wrap;\n",
              "      gap: 12px;\n",
              "    }\n",
              "\n",
              "    .colab-df-convert {\n",
              "      background-color: #E8F0FE;\n",
              "      border: none;\n",
              "      border-radius: 50%;\n",
              "      cursor: pointer;\n",
              "      display: none;\n",
              "      fill: #1967D2;\n",
              "      height: 32px;\n",
              "      padding: 0 0 0 0;\n",
              "      width: 32px;\n",
              "    }\n",
              "\n",
              "    .colab-df-convert:hover {\n",
              "      background-color: #E2EBFA;\n",
              "      box-shadow: 0px 1px 2px rgba(60, 64, 67, 0.3), 0px 1px 3px 1px rgba(60, 64, 67, 0.15);\n",
              "      fill: #174EA6;\n",
              "    }\n",
              "\n",
              "    [theme=dark] .colab-df-convert {\n",
              "      background-color: #3B4455;\n",
              "      fill: #D2E3FC;\n",
              "    }\n",
              "\n",
              "    [theme=dark] .colab-df-convert:hover {\n",
              "      background-color: #434B5C;\n",
              "      box-shadow: 0px 1px 3px 1px rgba(0, 0, 0, 0.15);\n",
              "      filter: drop-shadow(0px 1px 2px rgba(0, 0, 0, 0.3));\n",
              "      fill: #FFFFFF;\n",
              "    }\n",
              "  </style>\n",
              "\n",
              "      <script>\n",
              "        const buttonEl =\n",
              "          document.querySelector('#df-e027c1eb-9fd1-4360-8346-44dae88dd777 button.colab-df-convert');\n",
              "        buttonEl.style.display =\n",
              "          google.colab.kernel.accessAllowed ? 'block' : 'none';\n",
              "\n",
              "        async function convertToInteractive(key) {\n",
              "          const element = document.querySelector('#df-e027c1eb-9fd1-4360-8346-44dae88dd777');\n",
              "          const dataTable =\n",
              "            await google.colab.kernel.invokeFunction('convertToInteractive',\n",
              "                                                     [key], {});\n",
              "          if (!dataTable) return;\n",
              "\n",
              "          const docLinkHtml = 'Like what you see? Visit the ' +\n",
              "            '<a target=\"_blank\" href=https://colab.research.google.com/notebooks/data_table.ipynb>data table notebook</a>'\n",
              "            + ' to learn more about interactive tables.';\n",
              "          element.innerHTML = '';\n",
              "          dataTable['output_type'] = 'display_data';\n",
              "          await google.colab.output.renderOutput(dataTable, element);\n",
              "          const docLink = document.createElement('div');\n",
              "          docLink.innerHTML = docLinkHtml;\n",
              "          element.appendChild(docLink);\n",
              "        }\n",
              "      </script>\n",
              "    </div>\n",
              "  </div>\n",
              "  "
            ]
          },
          "metadata": {},
          "execution_count": 115
        }
      ],
      "source": [
        "df = df.applymap(lambda x: x.encode('utf-8').decode('utf-8') if isinstance(x, str) else x)\n",
        "df.head()"
      ]
    },
    {
      "cell_type": "code",
      "execution_count": 116,
      "metadata": {
        "id": "GtIg308xWpJU",
        "outputId": "7a080505-7c6f-45a3-83db-632a60ea18ae",
        "colab": {
          "base_uri": "https://localhost:8080/"
        }
      },
      "outputs": [
        {
          "output_type": "execute_result",
          "data": {
            "text/plain": [
              "Ped.                     0\n",
              "Status                   0\n",
              "Data                     0\n",
              "Forma de Pag.            0\n",
              "N�m. Parcelas            0\n",
              "Valor parcelas           0\n",
              "Total produtos           0\n",
              "Valor do frete           0\n",
              "Desconto no cupom        0\n",
              "Total do pedido          0\n",
              "Obs. do Pedido         241\n",
              "Nome do cliente          0\n",
              "Endere�o                 1\n",
              "N�mero                   1\n",
              "Complemento             81\n",
              "Bairro                   1\n",
              "Cidade                   1\n",
              "UF                       1\n",
              "CEP                      0\n",
              "Nome Produto Princ.      0\n",
              "dtype: int64"
            ]
          },
          "metadata": {},
          "execution_count": 116
        }
      ],
      "source": [
        "df.isna().sum()"
      ]
    },
    {
      "cell_type": "code",
      "execution_count": 117,
      "metadata": {
        "id": "w5VKMrFJWpJU",
        "outputId": "ac6c480a-86f7-4f31-eb22-2520c41b7b98",
        "colab": {
          "base_uri": "https://localhost:8080/",
          "height": 389
        }
      },
      "outputs": [
        {
          "output_type": "execute_result",
          "data": {
            "text/plain": [
              "   Ped.               Status                 Data      Forma de Pag.  \\\n",
              "0   345   Entrega Confirmada  26/10/2021 11:18:31  Cart�o de Cr�dito   \n",
              "1   346   Entrega Confirmada  01/11/2021 22:46:41             Boleto   \n",
              "2   186  Pedido Interrompido  12/12/2020 03:35:33  Cart�o de Cr�dito   \n",
              "3   145   Entrega Confirmada  28/09/2020 14:55:53             Boleto   \n",
              "4   270   Entrega Confirmada  17/05/2021 12:37:32             Boleto   \n",
              "\n",
              "   N�m. Parcelas  Valor parcelas  Total produtos  Valor do frete  \\\n",
              "0              1           19.00            70.0           19.00   \n",
              "1              1           53.01            70.0           53.01   \n",
              "2              3          414.41           157.7          256.71   \n",
              "3              0          158.75           138.0           20.75   \n",
              "4              0          285.26           214.5           70.76   \n",
              "\n",
              "   Desconto no cupom  Total do pedido             Nome do cliente  \\\n",
              "0               70.0            19.00    Amanda Aparecida de Lima   \n",
              "1               70.0            53.01          Guilherme Bernardi   \n",
              "2                0.0           414.41  Elischeif Neves Crisostomo   \n",
              "3                0.0           158.75                Casa Manzano   \n",
              "4                0.0           285.26                           -   \n",
              "\n",
              "                 Cidade  UF       CEP  \\\n",
              "0         Lagoa Dourada  MG  36345000   \n",
              "1  Frederico Westphalen  RS  98400000   \n",
              "2        Rio de Janeiro  RJ  23064470   \n",
              "3             S�o Paulo  SP   4514000   \n",
              "4           S�o Gon�alo  RJ  24722405   \n",
              "\n",
              "                                 Nome Produto Princ.  \n",
              "0                                       KIT MARATONA  \n",
              "1                                       KIT MARATONA  \n",
              "2  Queijo Canastra Artesanal EspecialParmes�o Fre...  \n",
              "3                                  Geleia de Pimenta  \n",
              "4                Queijo Canastra Artesanal Meia Cura  "
            ],
            "text/html": [
              "\n",
              "  <div id=\"df-8fbbdef4-6035-4f82-821d-a8c7bdc9693c\">\n",
              "    <div class=\"colab-df-container\">\n",
              "      <div>\n",
              "<style scoped>\n",
              "    .dataframe tbody tr th:only-of-type {\n",
              "        vertical-align: middle;\n",
              "    }\n",
              "\n",
              "    .dataframe tbody tr th {\n",
              "        vertical-align: top;\n",
              "    }\n",
              "\n",
              "    .dataframe thead th {\n",
              "        text-align: right;\n",
              "    }\n",
              "</style>\n",
              "<table border=\"1\" class=\"dataframe\">\n",
              "  <thead>\n",
              "    <tr style=\"text-align: right;\">\n",
              "      <th></th>\n",
              "      <th>Ped.</th>\n",
              "      <th>Status</th>\n",
              "      <th>Data</th>\n",
              "      <th>Forma de Pag.</th>\n",
              "      <th>N�m. Parcelas</th>\n",
              "      <th>Valor parcelas</th>\n",
              "      <th>Total produtos</th>\n",
              "      <th>Valor do frete</th>\n",
              "      <th>Desconto no cupom</th>\n",
              "      <th>Total do pedido</th>\n",
              "      <th>Nome do cliente</th>\n",
              "      <th>Cidade</th>\n",
              "      <th>UF</th>\n",
              "      <th>CEP</th>\n",
              "      <th>Nome Produto Princ.</th>\n",
              "    </tr>\n",
              "  </thead>\n",
              "  <tbody>\n",
              "    <tr>\n",
              "      <th>0</th>\n",
              "      <td>345</td>\n",
              "      <td>Entrega Confirmada</td>\n",
              "      <td>26/10/2021 11:18:31</td>\n",
              "      <td>Cart�o de Cr�dito</td>\n",
              "      <td>1</td>\n",
              "      <td>19.00</td>\n",
              "      <td>70.0</td>\n",
              "      <td>19.00</td>\n",
              "      <td>70.0</td>\n",
              "      <td>19.00</td>\n",
              "      <td>Amanda Aparecida de Lima</td>\n",
              "      <td>Lagoa Dourada</td>\n",
              "      <td>MG</td>\n",
              "      <td>36345000</td>\n",
              "      <td>KIT MARATONA</td>\n",
              "    </tr>\n",
              "    <tr>\n",
              "      <th>1</th>\n",
              "      <td>346</td>\n",
              "      <td>Entrega Confirmada</td>\n",
              "      <td>01/11/2021 22:46:41</td>\n",
              "      <td>Boleto</td>\n",
              "      <td>1</td>\n",
              "      <td>53.01</td>\n",
              "      <td>70.0</td>\n",
              "      <td>53.01</td>\n",
              "      <td>70.0</td>\n",
              "      <td>53.01</td>\n",
              "      <td>Guilherme Bernardi</td>\n",
              "      <td>Frederico Westphalen</td>\n",
              "      <td>RS</td>\n",
              "      <td>98400000</td>\n",
              "      <td>KIT MARATONA</td>\n",
              "    </tr>\n",
              "    <tr>\n",
              "      <th>2</th>\n",
              "      <td>186</td>\n",
              "      <td>Pedido Interrompido</td>\n",
              "      <td>12/12/2020 03:35:33</td>\n",
              "      <td>Cart�o de Cr�dito</td>\n",
              "      <td>3</td>\n",
              "      <td>414.41</td>\n",
              "      <td>157.7</td>\n",
              "      <td>256.71</td>\n",
              "      <td>0.0</td>\n",
              "      <td>414.41</td>\n",
              "      <td>Elischeif Neves Crisostomo</td>\n",
              "      <td>Rio de Janeiro</td>\n",
              "      <td>RJ</td>\n",
              "      <td>23064470</td>\n",
              "      <td>Queijo Canastra Artesanal EspecialParmes�o Fre...</td>\n",
              "    </tr>\n",
              "    <tr>\n",
              "      <th>3</th>\n",
              "      <td>145</td>\n",
              "      <td>Entrega Confirmada</td>\n",
              "      <td>28/09/2020 14:55:53</td>\n",
              "      <td>Boleto</td>\n",
              "      <td>0</td>\n",
              "      <td>158.75</td>\n",
              "      <td>138.0</td>\n",
              "      <td>20.75</td>\n",
              "      <td>0.0</td>\n",
              "      <td>158.75</td>\n",
              "      <td>Casa Manzano</td>\n",
              "      <td>S�o Paulo</td>\n",
              "      <td>SP</td>\n",
              "      <td>4514000</td>\n",
              "      <td>Geleia de Pimenta</td>\n",
              "    </tr>\n",
              "    <tr>\n",
              "      <th>4</th>\n",
              "      <td>270</td>\n",
              "      <td>Entrega Confirmada</td>\n",
              "      <td>17/05/2021 12:37:32</td>\n",
              "      <td>Boleto</td>\n",
              "      <td>0</td>\n",
              "      <td>285.26</td>\n",
              "      <td>214.5</td>\n",
              "      <td>70.76</td>\n",
              "      <td>0.0</td>\n",
              "      <td>285.26</td>\n",
              "      <td>-</td>\n",
              "      <td>S�o Gon�alo</td>\n",
              "      <td>RJ</td>\n",
              "      <td>24722405</td>\n",
              "      <td>Queijo Canastra Artesanal Meia Cura</td>\n",
              "    </tr>\n",
              "  </tbody>\n",
              "</table>\n",
              "</div>\n",
              "      <button class=\"colab-df-convert\" onclick=\"convertToInteractive('df-8fbbdef4-6035-4f82-821d-a8c7bdc9693c')\"\n",
              "              title=\"Convert this dataframe to an interactive table.\"\n",
              "              style=\"display:none;\">\n",
              "        \n",
              "  <svg xmlns=\"http://www.w3.org/2000/svg\" height=\"24px\"viewBox=\"0 0 24 24\"\n",
              "       width=\"24px\">\n",
              "    <path d=\"M0 0h24v24H0V0z\" fill=\"none\"/>\n",
              "    <path d=\"M18.56 5.44l.94 2.06.94-2.06 2.06-.94-2.06-.94-.94-2.06-.94 2.06-2.06.94zm-11 1L8.5 8.5l.94-2.06 2.06-.94-2.06-.94L8.5 2.5l-.94 2.06-2.06.94zm10 10l.94 2.06.94-2.06 2.06-.94-2.06-.94-.94-2.06-.94 2.06-2.06.94z\"/><path d=\"M17.41 7.96l-1.37-1.37c-.4-.4-.92-.59-1.43-.59-.52 0-1.04.2-1.43.59L10.3 9.45l-7.72 7.72c-.78.78-.78 2.05 0 2.83L4 21.41c.39.39.9.59 1.41.59.51 0 1.02-.2 1.41-.59l7.78-7.78 2.81-2.81c.8-.78.8-2.07 0-2.86zM5.41 20L4 18.59l7.72-7.72 1.47 1.35L5.41 20z\"/>\n",
              "  </svg>\n",
              "      </button>\n",
              "      \n",
              "  <style>\n",
              "    .colab-df-container {\n",
              "      display:flex;\n",
              "      flex-wrap:wrap;\n",
              "      gap: 12px;\n",
              "    }\n",
              "\n",
              "    .colab-df-convert {\n",
              "      background-color: #E8F0FE;\n",
              "      border: none;\n",
              "      border-radius: 50%;\n",
              "      cursor: pointer;\n",
              "      display: none;\n",
              "      fill: #1967D2;\n",
              "      height: 32px;\n",
              "      padding: 0 0 0 0;\n",
              "      width: 32px;\n",
              "    }\n",
              "\n",
              "    .colab-df-convert:hover {\n",
              "      background-color: #E2EBFA;\n",
              "      box-shadow: 0px 1px 2px rgba(60, 64, 67, 0.3), 0px 1px 3px 1px rgba(60, 64, 67, 0.15);\n",
              "      fill: #174EA6;\n",
              "    }\n",
              "\n",
              "    [theme=dark] .colab-df-convert {\n",
              "      background-color: #3B4455;\n",
              "      fill: #D2E3FC;\n",
              "    }\n",
              "\n",
              "    [theme=dark] .colab-df-convert:hover {\n",
              "      background-color: #434B5C;\n",
              "      box-shadow: 0px 1px 3px 1px rgba(0, 0, 0, 0.15);\n",
              "      filter: drop-shadow(0px 1px 2px rgba(0, 0, 0, 0.3));\n",
              "      fill: #FFFFFF;\n",
              "    }\n",
              "  </style>\n",
              "\n",
              "      <script>\n",
              "        const buttonEl =\n",
              "          document.querySelector('#df-8fbbdef4-6035-4f82-821d-a8c7bdc9693c button.colab-df-convert');\n",
              "        buttonEl.style.display =\n",
              "          google.colab.kernel.accessAllowed ? 'block' : 'none';\n",
              "\n",
              "        async function convertToInteractive(key) {\n",
              "          const element = document.querySelector('#df-8fbbdef4-6035-4f82-821d-a8c7bdc9693c');\n",
              "          const dataTable =\n",
              "            await google.colab.kernel.invokeFunction('convertToInteractive',\n",
              "                                                     [key], {});\n",
              "          if (!dataTable) return;\n",
              "\n",
              "          const docLinkHtml = 'Like what you see? Visit the ' +\n",
              "            '<a target=\"_blank\" href=https://colab.research.google.com/notebooks/data_table.ipynb>data table notebook</a>'\n",
              "            + ' to learn more about interactive tables.';\n",
              "          element.innerHTML = '';\n",
              "          dataTable['output_type'] = 'display_data';\n",
              "          await google.colab.output.renderOutput(dataTable, element);\n",
              "          const docLink = document.createElement('div');\n",
              "          docLink.innerHTML = docLinkHtml;\n",
              "          element.appendChild(docLink);\n",
              "        }\n",
              "      </script>\n",
              "    </div>\n",
              "  </div>\n",
              "  "
            ]
          },
          "metadata": {},
          "execution_count": 117
        }
      ],
      "source": [
        "df = df.drop(columns=['Obs. do Pedido', 'Endere�o', 'N�mero', 'Complemento', 'Bairro'])\n",
        "df.head()"
      ]
    },
    {
      "cell_type": "code",
      "execution_count": 118,
      "metadata": {
        "id": "gCinhIg2WpJV"
      },
      "outputs": [],
      "source": [
        "df = df.applymap(lambda x: \"Nome não informado\" if x == '-' else x)\n"
      ]
    },
    {
      "cell_type": "code",
      "execution_count": 119,
      "metadata": {
        "id": "Wy8AOMnzWpJV",
        "outputId": "250c5424-2f8d-4fdf-d92b-d6e28468d7d4",
        "colab": {
          "base_uri": "https://localhost:8080/",
          "height": 389
        }
      },
      "outputs": [
        {
          "output_type": "execute_result",
          "data": {
            "text/plain": [
              "   Ped.               Status                 Data      Forma de Pag.  \\\n",
              "0   345   Entrega Confirmada  26/10/2021 11:18:31  Cart�o de Cr�dito   \n",
              "1   346   Entrega Confirmada  01/11/2021 22:46:41             Boleto   \n",
              "2   186  Pedido Interrompido  12/12/2020 03:35:33  Cart�o de Cr�dito   \n",
              "3   145   Entrega Confirmada  28/09/2020 14:55:53             Boleto   \n",
              "4   270   Entrega Confirmada  17/05/2021 12:37:32             Boleto   \n",
              "\n",
              "   N�m. Parcelas  Valor parcelas  Total produtos  Valor do frete  \\\n",
              "0              1           19.00            70.0           19.00   \n",
              "1              1           53.01            70.0           53.01   \n",
              "2              3          414.41           157.7          256.71   \n",
              "3              0          158.75           138.0           20.75   \n",
              "4              0          285.26           214.5           70.76   \n",
              "\n",
              "   Desconto no cupom  Total do pedido             Nome do cliente  \\\n",
              "0               70.0            19.00    Amanda Aparecida de Lima   \n",
              "1               70.0            53.01          Guilherme Bernardi   \n",
              "2                0.0           414.41  Elischeif Neves Crisostomo   \n",
              "3                0.0           158.75                Casa Manzano   \n",
              "4                0.0           285.26          Nome não informado   \n",
              "\n",
              "                 Cidade  UF       CEP  \\\n",
              "0         Lagoa Dourada  MG  36345000   \n",
              "1  Frederico Westphalen  RS  98400000   \n",
              "2        Rio de Janeiro  RJ  23064470   \n",
              "3             S�o Paulo  SP   4514000   \n",
              "4           S�o Gon�alo  RJ  24722405   \n",
              "\n",
              "                                 Nome Produto Princ.  \n",
              "0                                       KIT MARATONA  \n",
              "1                                       KIT MARATONA  \n",
              "2  Queijo Canastra Artesanal EspecialParmes�o Fre...  \n",
              "3                                  Geleia de Pimenta  \n",
              "4                Queijo Canastra Artesanal Meia Cura  "
            ],
            "text/html": [
              "\n",
              "  <div id=\"df-306f8028-6f96-4e95-ab96-c3902414737a\">\n",
              "    <div class=\"colab-df-container\">\n",
              "      <div>\n",
              "<style scoped>\n",
              "    .dataframe tbody tr th:only-of-type {\n",
              "        vertical-align: middle;\n",
              "    }\n",
              "\n",
              "    .dataframe tbody tr th {\n",
              "        vertical-align: top;\n",
              "    }\n",
              "\n",
              "    .dataframe thead th {\n",
              "        text-align: right;\n",
              "    }\n",
              "</style>\n",
              "<table border=\"1\" class=\"dataframe\">\n",
              "  <thead>\n",
              "    <tr style=\"text-align: right;\">\n",
              "      <th></th>\n",
              "      <th>Ped.</th>\n",
              "      <th>Status</th>\n",
              "      <th>Data</th>\n",
              "      <th>Forma de Pag.</th>\n",
              "      <th>N�m. Parcelas</th>\n",
              "      <th>Valor parcelas</th>\n",
              "      <th>Total produtos</th>\n",
              "      <th>Valor do frete</th>\n",
              "      <th>Desconto no cupom</th>\n",
              "      <th>Total do pedido</th>\n",
              "      <th>Nome do cliente</th>\n",
              "      <th>Cidade</th>\n",
              "      <th>UF</th>\n",
              "      <th>CEP</th>\n",
              "      <th>Nome Produto Princ.</th>\n",
              "    </tr>\n",
              "  </thead>\n",
              "  <tbody>\n",
              "    <tr>\n",
              "      <th>0</th>\n",
              "      <td>345</td>\n",
              "      <td>Entrega Confirmada</td>\n",
              "      <td>26/10/2021 11:18:31</td>\n",
              "      <td>Cart�o de Cr�dito</td>\n",
              "      <td>1</td>\n",
              "      <td>19.00</td>\n",
              "      <td>70.0</td>\n",
              "      <td>19.00</td>\n",
              "      <td>70.0</td>\n",
              "      <td>19.00</td>\n",
              "      <td>Amanda Aparecida de Lima</td>\n",
              "      <td>Lagoa Dourada</td>\n",
              "      <td>MG</td>\n",
              "      <td>36345000</td>\n",
              "      <td>KIT MARATONA</td>\n",
              "    </tr>\n",
              "    <tr>\n",
              "      <th>1</th>\n",
              "      <td>346</td>\n",
              "      <td>Entrega Confirmada</td>\n",
              "      <td>01/11/2021 22:46:41</td>\n",
              "      <td>Boleto</td>\n",
              "      <td>1</td>\n",
              "      <td>53.01</td>\n",
              "      <td>70.0</td>\n",
              "      <td>53.01</td>\n",
              "      <td>70.0</td>\n",
              "      <td>53.01</td>\n",
              "      <td>Guilherme Bernardi</td>\n",
              "      <td>Frederico Westphalen</td>\n",
              "      <td>RS</td>\n",
              "      <td>98400000</td>\n",
              "      <td>KIT MARATONA</td>\n",
              "    </tr>\n",
              "    <tr>\n",
              "      <th>2</th>\n",
              "      <td>186</td>\n",
              "      <td>Pedido Interrompido</td>\n",
              "      <td>12/12/2020 03:35:33</td>\n",
              "      <td>Cart�o de Cr�dito</td>\n",
              "      <td>3</td>\n",
              "      <td>414.41</td>\n",
              "      <td>157.7</td>\n",
              "      <td>256.71</td>\n",
              "      <td>0.0</td>\n",
              "      <td>414.41</td>\n",
              "      <td>Elischeif Neves Crisostomo</td>\n",
              "      <td>Rio de Janeiro</td>\n",
              "      <td>RJ</td>\n",
              "      <td>23064470</td>\n",
              "      <td>Queijo Canastra Artesanal EspecialParmes�o Fre...</td>\n",
              "    </tr>\n",
              "    <tr>\n",
              "      <th>3</th>\n",
              "      <td>145</td>\n",
              "      <td>Entrega Confirmada</td>\n",
              "      <td>28/09/2020 14:55:53</td>\n",
              "      <td>Boleto</td>\n",
              "      <td>0</td>\n",
              "      <td>158.75</td>\n",
              "      <td>138.0</td>\n",
              "      <td>20.75</td>\n",
              "      <td>0.0</td>\n",
              "      <td>158.75</td>\n",
              "      <td>Casa Manzano</td>\n",
              "      <td>S�o Paulo</td>\n",
              "      <td>SP</td>\n",
              "      <td>4514000</td>\n",
              "      <td>Geleia de Pimenta</td>\n",
              "    </tr>\n",
              "    <tr>\n",
              "      <th>4</th>\n",
              "      <td>270</td>\n",
              "      <td>Entrega Confirmada</td>\n",
              "      <td>17/05/2021 12:37:32</td>\n",
              "      <td>Boleto</td>\n",
              "      <td>0</td>\n",
              "      <td>285.26</td>\n",
              "      <td>214.5</td>\n",
              "      <td>70.76</td>\n",
              "      <td>0.0</td>\n",
              "      <td>285.26</td>\n",
              "      <td>Nome não informado</td>\n",
              "      <td>S�o Gon�alo</td>\n",
              "      <td>RJ</td>\n",
              "      <td>24722405</td>\n",
              "      <td>Queijo Canastra Artesanal Meia Cura</td>\n",
              "    </tr>\n",
              "  </tbody>\n",
              "</table>\n",
              "</div>\n",
              "      <button class=\"colab-df-convert\" onclick=\"convertToInteractive('df-306f8028-6f96-4e95-ab96-c3902414737a')\"\n",
              "              title=\"Convert this dataframe to an interactive table.\"\n",
              "              style=\"display:none;\">\n",
              "        \n",
              "  <svg xmlns=\"http://www.w3.org/2000/svg\" height=\"24px\"viewBox=\"0 0 24 24\"\n",
              "       width=\"24px\">\n",
              "    <path d=\"M0 0h24v24H0V0z\" fill=\"none\"/>\n",
              "    <path d=\"M18.56 5.44l.94 2.06.94-2.06 2.06-.94-2.06-.94-.94-2.06-.94 2.06-2.06.94zm-11 1L8.5 8.5l.94-2.06 2.06-.94-2.06-.94L8.5 2.5l-.94 2.06-2.06.94zm10 10l.94 2.06.94-2.06 2.06-.94-2.06-.94-.94-2.06-.94 2.06-2.06.94z\"/><path d=\"M17.41 7.96l-1.37-1.37c-.4-.4-.92-.59-1.43-.59-.52 0-1.04.2-1.43.59L10.3 9.45l-7.72 7.72c-.78.78-.78 2.05 0 2.83L4 21.41c.39.39.9.59 1.41.59.51 0 1.02-.2 1.41-.59l7.78-7.78 2.81-2.81c.8-.78.8-2.07 0-2.86zM5.41 20L4 18.59l7.72-7.72 1.47 1.35L5.41 20z\"/>\n",
              "  </svg>\n",
              "      </button>\n",
              "      \n",
              "  <style>\n",
              "    .colab-df-container {\n",
              "      display:flex;\n",
              "      flex-wrap:wrap;\n",
              "      gap: 12px;\n",
              "    }\n",
              "\n",
              "    .colab-df-convert {\n",
              "      background-color: #E8F0FE;\n",
              "      border: none;\n",
              "      border-radius: 50%;\n",
              "      cursor: pointer;\n",
              "      display: none;\n",
              "      fill: #1967D2;\n",
              "      height: 32px;\n",
              "      padding: 0 0 0 0;\n",
              "      width: 32px;\n",
              "    }\n",
              "\n",
              "    .colab-df-convert:hover {\n",
              "      background-color: #E2EBFA;\n",
              "      box-shadow: 0px 1px 2px rgba(60, 64, 67, 0.3), 0px 1px 3px 1px rgba(60, 64, 67, 0.15);\n",
              "      fill: #174EA6;\n",
              "    }\n",
              "\n",
              "    [theme=dark] .colab-df-convert {\n",
              "      background-color: #3B4455;\n",
              "      fill: #D2E3FC;\n",
              "    }\n",
              "\n",
              "    [theme=dark] .colab-df-convert:hover {\n",
              "      background-color: #434B5C;\n",
              "      box-shadow: 0px 1px 3px 1px rgba(0, 0, 0, 0.15);\n",
              "      filter: drop-shadow(0px 1px 2px rgba(0, 0, 0, 0.3));\n",
              "      fill: #FFFFFF;\n",
              "    }\n",
              "  </style>\n",
              "\n",
              "      <script>\n",
              "        const buttonEl =\n",
              "          document.querySelector('#df-306f8028-6f96-4e95-ab96-c3902414737a button.colab-df-convert');\n",
              "        buttonEl.style.display =\n",
              "          google.colab.kernel.accessAllowed ? 'block' : 'none';\n",
              "\n",
              "        async function convertToInteractive(key) {\n",
              "          const element = document.querySelector('#df-306f8028-6f96-4e95-ab96-c3902414737a');\n",
              "          const dataTable =\n",
              "            await google.colab.kernel.invokeFunction('convertToInteractive',\n",
              "                                                     [key], {});\n",
              "          if (!dataTable) return;\n",
              "\n",
              "          const docLinkHtml = 'Like what you see? Visit the ' +\n",
              "            '<a target=\"_blank\" href=https://colab.research.google.com/notebooks/data_table.ipynb>data table notebook</a>'\n",
              "            + ' to learn more about interactive tables.';\n",
              "          element.innerHTML = '';\n",
              "          dataTable['output_type'] = 'display_data';\n",
              "          await google.colab.output.renderOutput(dataTable, element);\n",
              "          const docLink = document.createElement('div');\n",
              "          docLink.innerHTML = docLinkHtml;\n",
              "          element.appendChild(docLink);\n",
              "        }\n",
              "      </script>\n",
              "    </div>\n",
              "  </div>\n",
              "  "
            ]
          },
          "metadata": {},
          "execution_count": 119
        }
      ],
      "source": [
        "df.head()"
      ]
    },
    {
      "cell_type": "code",
      "execution_count": 120,
      "metadata": {
        "id": "Q6qXZYYUWpJW",
        "outputId": "cca2b605-a33a-4b58-e02d-756b9a0d32d2",
        "colab": {
          "base_uri": "https://localhost:8080/",
          "height": 389
        }
      },
      "outputs": [
        {
          "output_type": "execute_result",
          "data": {
            "text/plain": [
              "   Ped.               Status                 Data      Forma de Pag.  \\\n",
              "0   345   Entrega Confirmada  26/10/2021 11:18:31  Cart�o de Cr�dito   \n",
              "1   346   Entrega Confirmada  01/11/2021 22:46:41             Boleto   \n",
              "2   186  Pedido Interrompido  12/12/2020 03:35:33  Cart�o de Cr�dito   \n",
              "3   145   Entrega Confirmada  28/09/2020 14:55:53             Boleto   \n",
              "4   270   Entrega Confirmada  17/05/2021 12:37:32             Boleto   \n",
              "\n",
              "   N�m. Parcelas  Valor parcelas  Total produtos  Valor do frete  \\\n",
              "0              1           19.00            70.0           19.00   \n",
              "1              1           53.01            70.0           53.01   \n",
              "2              3          414.41           157.7          256.71   \n",
              "3              0          158.75           138.0           20.75   \n",
              "4              0          285.26           214.5           70.76   \n",
              "\n",
              "   Desconto no cupom  Total do pedido             Nome do cliente  \\\n",
              "0               70.0            19.00    Amanda Aparecida de Lima   \n",
              "1               70.0            53.01          Guilherme Bernardi   \n",
              "2                0.0           414.41  Elischeif Neves Crisostomo   \n",
              "3                0.0           158.75                Casa Manzano   \n",
              "4                0.0           285.26          Nome não informado   \n",
              "\n",
              "                 Cidade  UF       CEP  \\\n",
              "0         Lagoa Dourada  MG  36345000   \n",
              "1  Frederico Westphalen  RS  98400000   \n",
              "2        Rio de Janeiro  RJ  23064470   \n",
              "3             S�o Paulo  SP   4514000   \n",
              "4           S�o Gon�alo  RJ  24722405   \n",
              "\n",
              "                                 Nome Produto Princ.  \n",
              "0                                       KIT MARATONA  \n",
              "1                                       KIT MARATONA  \n",
              "2  Queijo Canastra Artesanal EspecialParmes�o Fre...  \n",
              "3                                  Geleia de Pimenta  \n",
              "4                Queijo Canastra Artesanal Meia Cura  "
            ],
            "text/html": [
              "\n",
              "  <div id=\"df-2822f8f2-a14b-4f77-a211-bbbd61a6df23\">\n",
              "    <div class=\"colab-df-container\">\n",
              "      <div>\n",
              "<style scoped>\n",
              "    .dataframe tbody tr th:only-of-type {\n",
              "        vertical-align: middle;\n",
              "    }\n",
              "\n",
              "    .dataframe tbody tr th {\n",
              "        vertical-align: top;\n",
              "    }\n",
              "\n",
              "    .dataframe thead th {\n",
              "        text-align: right;\n",
              "    }\n",
              "</style>\n",
              "<table border=\"1\" class=\"dataframe\">\n",
              "  <thead>\n",
              "    <tr style=\"text-align: right;\">\n",
              "      <th></th>\n",
              "      <th>Ped.</th>\n",
              "      <th>Status</th>\n",
              "      <th>Data</th>\n",
              "      <th>Forma de Pag.</th>\n",
              "      <th>N�m. Parcelas</th>\n",
              "      <th>Valor parcelas</th>\n",
              "      <th>Total produtos</th>\n",
              "      <th>Valor do frete</th>\n",
              "      <th>Desconto no cupom</th>\n",
              "      <th>Total do pedido</th>\n",
              "      <th>Nome do cliente</th>\n",
              "      <th>Cidade</th>\n",
              "      <th>UF</th>\n",
              "      <th>CEP</th>\n",
              "      <th>Nome Produto Princ.</th>\n",
              "    </tr>\n",
              "  </thead>\n",
              "  <tbody>\n",
              "    <tr>\n",
              "      <th>0</th>\n",
              "      <td>345</td>\n",
              "      <td>Entrega Confirmada</td>\n",
              "      <td>26/10/2021 11:18:31</td>\n",
              "      <td>Cart�o de Cr�dito</td>\n",
              "      <td>1</td>\n",
              "      <td>19.00</td>\n",
              "      <td>70.0</td>\n",
              "      <td>19.00</td>\n",
              "      <td>70.0</td>\n",
              "      <td>19.00</td>\n",
              "      <td>Amanda Aparecida de Lima</td>\n",
              "      <td>Lagoa Dourada</td>\n",
              "      <td>MG</td>\n",
              "      <td>36345000</td>\n",
              "      <td>KIT MARATONA</td>\n",
              "    </tr>\n",
              "    <tr>\n",
              "      <th>1</th>\n",
              "      <td>346</td>\n",
              "      <td>Entrega Confirmada</td>\n",
              "      <td>01/11/2021 22:46:41</td>\n",
              "      <td>Boleto</td>\n",
              "      <td>1</td>\n",
              "      <td>53.01</td>\n",
              "      <td>70.0</td>\n",
              "      <td>53.01</td>\n",
              "      <td>70.0</td>\n",
              "      <td>53.01</td>\n",
              "      <td>Guilherme Bernardi</td>\n",
              "      <td>Frederico Westphalen</td>\n",
              "      <td>RS</td>\n",
              "      <td>98400000</td>\n",
              "      <td>KIT MARATONA</td>\n",
              "    </tr>\n",
              "    <tr>\n",
              "      <th>2</th>\n",
              "      <td>186</td>\n",
              "      <td>Pedido Interrompido</td>\n",
              "      <td>12/12/2020 03:35:33</td>\n",
              "      <td>Cart�o de Cr�dito</td>\n",
              "      <td>3</td>\n",
              "      <td>414.41</td>\n",
              "      <td>157.7</td>\n",
              "      <td>256.71</td>\n",
              "      <td>0.0</td>\n",
              "      <td>414.41</td>\n",
              "      <td>Elischeif Neves Crisostomo</td>\n",
              "      <td>Rio de Janeiro</td>\n",
              "      <td>RJ</td>\n",
              "      <td>23064470</td>\n",
              "      <td>Queijo Canastra Artesanal EspecialParmes�o Fre...</td>\n",
              "    </tr>\n",
              "    <tr>\n",
              "      <th>3</th>\n",
              "      <td>145</td>\n",
              "      <td>Entrega Confirmada</td>\n",
              "      <td>28/09/2020 14:55:53</td>\n",
              "      <td>Boleto</td>\n",
              "      <td>0</td>\n",
              "      <td>158.75</td>\n",
              "      <td>138.0</td>\n",
              "      <td>20.75</td>\n",
              "      <td>0.0</td>\n",
              "      <td>158.75</td>\n",
              "      <td>Casa Manzano</td>\n",
              "      <td>S�o Paulo</td>\n",
              "      <td>SP</td>\n",
              "      <td>4514000</td>\n",
              "      <td>Geleia de Pimenta</td>\n",
              "    </tr>\n",
              "    <tr>\n",
              "      <th>4</th>\n",
              "      <td>270</td>\n",
              "      <td>Entrega Confirmada</td>\n",
              "      <td>17/05/2021 12:37:32</td>\n",
              "      <td>Boleto</td>\n",
              "      <td>0</td>\n",
              "      <td>285.26</td>\n",
              "      <td>214.5</td>\n",
              "      <td>70.76</td>\n",
              "      <td>0.0</td>\n",
              "      <td>285.26</td>\n",
              "      <td>Nome não informado</td>\n",
              "      <td>S�o Gon�alo</td>\n",
              "      <td>RJ</td>\n",
              "      <td>24722405</td>\n",
              "      <td>Queijo Canastra Artesanal Meia Cura</td>\n",
              "    </tr>\n",
              "  </tbody>\n",
              "</table>\n",
              "</div>\n",
              "      <button class=\"colab-df-convert\" onclick=\"convertToInteractive('df-2822f8f2-a14b-4f77-a211-bbbd61a6df23')\"\n",
              "              title=\"Convert this dataframe to an interactive table.\"\n",
              "              style=\"display:none;\">\n",
              "        \n",
              "  <svg xmlns=\"http://www.w3.org/2000/svg\" height=\"24px\"viewBox=\"0 0 24 24\"\n",
              "       width=\"24px\">\n",
              "    <path d=\"M0 0h24v24H0V0z\" fill=\"none\"/>\n",
              "    <path d=\"M18.56 5.44l.94 2.06.94-2.06 2.06-.94-2.06-.94-.94-2.06-.94 2.06-2.06.94zm-11 1L8.5 8.5l.94-2.06 2.06-.94-2.06-.94L8.5 2.5l-.94 2.06-2.06.94zm10 10l.94 2.06.94-2.06 2.06-.94-2.06-.94-.94-2.06-.94 2.06-2.06.94z\"/><path d=\"M17.41 7.96l-1.37-1.37c-.4-.4-.92-.59-1.43-.59-.52 0-1.04.2-1.43.59L10.3 9.45l-7.72 7.72c-.78.78-.78 2.05 0 2.83L4 21.41c.39.39.9.59 1.41.59.51 0 1.02-.2 1.41-.59l7.78-7.78 2.81-2.81c.8-.78.8-2.07 0-2.86zM5.41 20L4 18.59l7.72-7.72 1.47 1.35L5.41 20z\"/>\n",
              "  </svg>\n",
              "      </button>\n",
              "      \n",
              "  <style>\n",
              "    .colab-df-container {\n",
              "      display:flex;\n",
              "      flex-wrap:wrap;\n",
              "      gap: 12px;\n",
              "    }\n",
              "\n",
              "    .colab-df-convert {\n",
              "      background-color: #E8F0FE;\n",
              "      border: none;\n",
              "      border-radius: 50%;\n",
              "      cursor: pointer;\n",
              "      display: none;\n",
              "      fill: #1967D2;\n",
              "      height: 32px;\n",
              "      padding: 0 0 0 0;\n",
              "      width: 32px;\n",
              "    }\n",
              "\n",
              "    .colab-df-convert:hover {\n",
              "      background-color: #E2EBFA;\n",
              "      box-shadow: 0px 1px 2px rgba(60, 64, 67, 0.3), 0px 1px 3px 1px rgba(60, 64, 67, 0.15);\n",
              "      fill: #174EA6;\n",
              "    }\n",
              "\n",
              "    [theme=dark] .colab-df-convert {\n",
              "      background-color: #3B4455;\n",
              "      fill: #D2E3FC;\n",
              "    }\n",
              "\n",
              "    [theme=dark] .colab-df-convert:hover {\n",
              "      background-color: #434B5C;\n",
              "      box-shadow: 0px 1px 3px 1px rgba(0, 0, 0, 0.15);\n",
              "      filter: drop-shadow(0px 1px 2px rgba(0, 0, 0, 0.3));\n",
              "      fill: #FFFFFF;\n",
              "    }\n",
              "  </style>\n",
              "\n",
              "      <script>\n",
              "        const buttonEl =\n",
              "          document.querySelector('#df-2822f8f2-a14b-4f77-a211-bbbd61a6df23 button.colab-df-convert');\n",
              "        buttonEl.style.display =\n",
              "          google.colab.kernel.accessAllowed ? 'block' : 'none';\n",
              "\n",
              "        async function convertToInteractive(key) {\n",
              "          const element = document.querySelector('#df-2822f8f2-a14b-4f77-a211-bbbd61a6df23');\n",
              "          const dataTable =\n",
              "            await google.colab.kernel.invokeFunction('convertToInteractive',\n",
              "                                                     [key], {});\n",
              "          if (!dataTable) return;\n",
              "\n",
              "          const docLinkHtml = 'Like what you see? Visit the ' +\n",
              "            '<a target=\"_blank\" href=https://colab.research.google.com/notebooks/data_table.ipynb>data table notebook</a>'\n",
              "            + ' to learn more about interactive tables.';\n",
              "          element.innerHTML = '';\n",
              "          dataTable['output_type'] = 'display_data';\n",
              "          await google.colab.output.renderOutput(dataTable, element);\n",
              "          const docLink = document.createElement('div');\n",
              "          docLink.innerHTML = docLinkHtml;\n",
              "          element.appendChild(docLink);\n",
              "        }\n",
              "      </script>\n",
              "    </div>\n",
              "  </div>\n",
              "  "
            ]
          },
          "metadata": {},
          "execution_count": 120
        }
      ],
      "source": [
        "df['Nome do cliente'] = df['Nome do cliente'].apply(lambda x: \"Nome não informado\" if len(str(x)) < 5 else x)\n",
        "df.head()\n"
      ]
    },
    {
      "cell_type": "markdown",
      "metadata": {
        "id": "mMShyl7TWpJW"
      },
      "source": [
        "### 2 - Padronização de dados: \n",
        "* se as informações foram coletadas de fontes diferentes, pode haver diferenças na forma como os dados foram registrados. É importante padronizar a estrutura dos dados para facilitar a análise e comparação entre eles."
      ]
    },
    {
      "cell_type": "markdown",
      "metadata": {
        "id": "Bimo8OGCWpJW"
      },
      "source": [
        "### 3 - Categorização de dados: \n",
        "* considere agrupar os dados em categorias para uma análise mais fácil. Por exemplo, se houver dados sobre vendas, eles podem ser categorizados por produto, região ou período de tempo."
      ]
    },
    {
      "cell_type": "markdown",
      "metadata": {
        "id": "1VcoeEx0WpJX"
      },
      "source": [
        "### 4 - Normalização de dados: \n",
        "* se os dados tiverem diferentes escalas ou unidades de medida, a normalização pode ajudar a compará-los mais facilmente. A normalização pode ser feita por meio de técnicas como a padronização z-score ou a normalização min-max.\n"
      ]
    },
    {
      "cell_type": "markdown",
      "metadata": {
        "id": "S6rZCWFaWpJX"
      },
      "source": [
        "### 5 - Agregação de dados: \n",
        "* dependendo da análise desejada, pode ser necessário agregar os dados para um nível mais alto de granularidade. Por exemplo, se houver dados diários, eles podem ser agregados em dados mensais ou trimestrais."
      ]
    },
    {
      "cell_type": "markdown",
      "metadata": {
        "id": "rBOEZLLQWpJX"
      },
      "source": [
        "### 6 - Seleção de características: \n",
        "* se houver muitas variáveis nos dados, pode ser necessário selecionar as características mais relevantes para a análise. Isso pode ser feito usando técnicas de seleção de características, como a análise de componentes principais (PCA) ou a seleção baseada em árvores de decisão."
      ]
    },
    {
      "cell_type": "markdown",
      "metadata": {
        "id": "JnwKsRIzWpJX"
      },
      "source": [
        "### 7 - Enriquecimento de dados: \n",
        "* considere adicionar dados de outras fontes para enriquecer os dados existentes e fornecer mais informações para análise. Isso pode incluir dados de demografia, dados de clima ou dados de redes sociais."
      ]
    }
  ],
  "metadata": {
    "kernelspec": {
      "display_name": "Python 3",
      "language": "python",
      "name": "python3"
    },
    "language_info": {
      "codemirror_mode": {
        "name": "ipython",
        "version": 3
      },
      "file_extension": ".py",
      "mimetype": "text/x-python",
      "name": "python",
      "nbconvert_exporter": "python",
      "pygments_lexer": "ipython3",
      "version": "3.10.6"
    },
    "orig_nbformat": 4,
    "colab": {
      "provenance": []
    }
  },
  "nbformat": 4,
  "nbformat_minor": 0
}